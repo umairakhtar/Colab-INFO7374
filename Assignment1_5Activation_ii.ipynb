{
  "nbformat": 4,
  "nbformat_minor": 0,
  "metadata": {
    "colab": {
      "name": "Assignment1-5Activation-ii.ipynb",
      "version": "0.3.2",
      "provenance": [],
      "include_colab_link": true
    },
    "kernelspec": {
      "name": "python3",
      "display_name": "Python 3"
    },
    "accelerator": "GPU"
  },
  "cells": [
    {
      "cell_type": "markdown",
      "metadata": {
        "id": "view-in-github",
        "colab_type": "text"
      },
      "source": [
        "<a href=\"https://colab.research.google.com/github/umairakhtar/Colab-INFO7374/blob/master/Assignment1_5Activation_ii.ipynb\" target=\"_parent\"><img src=\"https://colab.research.google.com/assets/colab-badge.svg\" alt=\"Open In Colab\"/></a>"
      ]
    },
    {
      "metadata": {
        "id": "kLpotzHmYAfy",
        "colab_type": "code",
        "outputId": "8925cc15-1cd9-4192-8084-31e2402fd065",
        "colab": {
          "base_uri": "https://localhost:8080/",
          "height": 34
        }
      },
      "cell_type": "code",
      "source": [
        "from keras.datasets import cifar10"
      ],
      "execution_count": 1,
      "outputs": [
        {
          "output_type": "stream",
          "text": [
            "Using TensorFlow backend.\n"
          ],
          "name": "stderr"
        }
      ]
    },
    {
      "metadata": {
        "id": "we_mML7zlMQi",
        "colab_type": "code",
        "colab": {}
      },
      "cell_type": "code",
      "source": [
        "(x_train, y_train), (x_test, y_test) = cifar10.load_data()"
      ],
      "execution_count": 0,
      "outputs": []
    },
    {
      "metadata": {
        "id": "cO55-ftSzfjW",
        "colab_type": "code",
        "colab": {}
      },
      "cell_type": "code",
      "source": [
        "from keras import models\n",
        "from keras import layers"
      ],
      "execution_count": 0,
      "outputs": []
    },
    {
      "metadata": {
        "id": "Lp3jKLuit6cW",
        "colab_type": "code",
        "colab": {}
      },
      "cell_type": "code",
      "source": [
        "network = models.Sequential()"
      ],
      "execution_count": 0,
      "outputs": []
    },
    {
      "metadata": {
        "id": "o1evkTpVnTl6",
        "colab_type": "code",
        "colab": {}
      },
      "cell_type": "code",
      "source": [
        "network.add(layers.Dense(512, activation='tanh', input_shape=(32 * 32 * 3,)))"
      ],
      "execution_count": 0,
      "outputs": []
    },
    {
      "metadata": {
        "id": "F9CDYqgUnh02",
        "colab_type": "code",
        "colab": {}
      },
      "cell_type": "code",
      "source": [
        "network.add(layers.Dense(10, activation='relu'))"
      ],
      "execution_count": 0,
      "outputs": []
    },
    {
      "metadata": {
        "id": "H92VYZjCnlmW",
        "colab_type": "code",
        "colab": {}
      },
      "cell_type": "code",
      "source": [
        "network.compile(optimizer='rmsprop',\n",
        "loss='categorical_crossentropy',\n",
        "metrics=['accuracy'])"
      ],
      "execution_count": 0,
      "outputs": []
    },
    {
      "metadata": {
        "id": "6g9b7z6W0Bh5",
        "colab_type": "code",
        "colab": {}
      },
      "cell_type": "code",
      "source": [
        "x_train = x_train.reshape((50000, 32 * 32 *3))\n",
        "x_train = x_train.astype('float32') / 255\n",
        "x_test = x_test.reshape((10000, 32 * 32 *3))\n",
        "x_test = x_test.astype('float32') / 255"
      ],
      "execution_count": 0,
      "outputs": []
    },
    {
      "metadata": {
        "id": "PxjYJL_qg2V1",
        "colab_type": "code",
        "colab": {}
      },
      "cell_type": "code",
      "source": [
        "from keras.utils import to_categorical\n",
        "y_train = to_categorical(y_train)\n",
        "y_test = to_categorical(y_test)"
      ],
      "execution_count": 0,
      "outputs": []
    },
    {
      "metadata": {
        "id": "xWiT63O00oV8",
        "colab_type": "code",
        "outputId": "5bee2b51-8ae5-4341-d293-80c65ea1948f",
        "colab": {
          "base_uri": "https://localhost:8080/",
          "height": 1054
        }
      },
      "cell_type": "code",
      "source": [
        "network.fit(x_train, y_train, epochs=30, batch_size=128)"
      ],
      "execution_count": 10,
      "outputs": [
        {
          "output_type": "stream",
          "text": [
            "Epoch 1/30\n",
            "50000/50000 [==============================] - 3s 63us/step - loss: 3.0758 - acc: 0.1946\n",
            "Epoch 2/30\n",
            "50000/50000 [==============================] - 2s 50us/step - loss: 2.1417 - acc: 0.2464\n",
            "Epoch 3/30\n",
            "50000/50000 [==============================] - 2s 49us/step - loss: 2.1133 - acc: 0.2769\n",
            "Epoch 4/30\n",
            "50000/50000 [==============================] - 2s 49us/step - loss: 2.0984 - acc: 0.2991\n",
            "Epoch 5/30\n",
            "50000/50000 [==============================] - 2s 49us/step - loss: 2.0664 - acc: 0.3050\n",
            "Epoch 6/30\n",
            "50000/50000 [==============================] - 2s 49us/step - loss: 2.0690 - acc: 0.3099\n",
            "Epoch 7/30\n",
            "50000/50000 [==============================] - 2s 49us/step - loss: 2.0719 - acc: 0.3239\n",
            "Epoch 8/30\n",
            "50000/50000 [==============================] - 2s 49us/step - loss: 2.0572 - acc: 0.3318\n",
            "Epoch 9/30\n",
            "50000/50000 [==============================] - 2s 49us/step - loss: 2.0527 - acc: 0.3370\n",
            "Epoch 10/30\n",
            "50000/50000 [==============================] - 2s 49us/step - loss: 2.0601 - acc: 0.3454\n",
            "Epoch 11/30\n",
            "50000/50000 [==============================] - 2s 49us/step - loss: 2.0488 - acc: 0.3483\n",
            "Epoch 12/30\n",
            "50000/50000 [==============================] - 2s 49us/step - loss: 2.0619 - acc: 0.3403\n",
            "Epoch 13/30\n",
            "50000/50000 [==============================] - 2s 49us/step - loss: 2.0296 - acc: 0.3473\n",
            "Epoch 14/30\n",
            "50000/50000 [==============================] - 2s 49us/step - loss: 2.0250 - acc: 0.3484\n",
            "Epoch 15/30\n",
            "50000/50000 [==============================] - 2s 49us/step - loss: 2.0007 - acc: 0.3620\n",
            "Epoch 16/30\n",
            "50000/50000 [==============================] - 2s 49us/step - loss: 1.9936 - acc: 0.3590\n",
            "Epoch 17/30\n",
            "50000/50000 [==============================] - 2s 50us/step - loss: 2.0050 - acc: 0.3663\n",
            "Epoch 18/30\n",
            "50000/50000 [==============================] - 2s 49us/step - loss: 2.0287 - acc: 0.3681\n",
            "Epoch 19/30\n",
            "50000/50000 [==============================] - 2s 49us/step - loss: 1.9886 - acc: 0.3688\n",
            "Epoch 20/30\n",
            "50000/50000 [==============================] - 2s 49us/step - loss: 1.9865 - acc: 0.3751\n",
            "Epoch 21/30\n",
            "50000/50000 [==============================] - 2s 49us/step - loss: 2.0007 - acc: 0.3778\n",
            "Epoch 22/30\n",
            "50000/50000 [==============================] - 2s 49us/step - loss: 1.9756 - acc: 0.3778\n",
            "Epoch 23/30\n",
            "50000/50000 [==============================] - 2s 49us/step - loss: 1.9642 - acc: 0.3758\n",
            "Epoch 24/30\n",
            "50000/50000 [==============================] - 2s 50us/step - loss: 1.9716 - acc: 0.3825\n",
            "Epoch 25/30\n",
            "50000/50000 [==============================] - 2s 49us/step - loss: 1.9740 - acc: 0.3868\n",
            "Epoch 26/30\n",
            "50000/50000 [==============================] - 2s 49us/step - loss: 1.9521 - acc: 0.3786\n",
            "Epoch 27/30\n",
            "50000/50000 [==============================] - 2s 50us/step - loss: 1.9636 - acc: 0.3853\n",
            "Epoch 28/30\n",
            "50000/50000 [==============================] - 2s 49us/step - loss: 1.9420 - acc: 0.3833\n",
            "Epoch 29/30\n",
            "50000/50000 [==============================] - 2s 49us/step - loss: 1.9514 - acc: 0.3881\n",
            "Epoch 30/30\n",
            "50000/50000 [==============================] - 2s 49us/step - loss: 1.9320 - acc: 0.3911\n"
          ],
          "name": "stdout"
        },
        {
          "output_type": "execute_result",
          "data": {
            "text/plain": [
              "<keras.callbacks.History at 0x7f4fbd8c5d68>"
            ]
          },
          "metadata": {
            "tags": []
          },
          "execution_count": 10
        }
      ]
    },
    {
      "metadata": {
        "id": "eCw5S5OU0P4q",
        "colab_type": "code",
        "outputId": "c80db154-9f67-4cf5-a9d7-c8e8cbb666da",
        "colab": {
          "base_uri": "https://localhost:8080/",
          "height": 34
        }
      },
      "cell_type": "code",
      "source": [
        "test_loss, test_acc = network.evaluate(x_test, y_test)"
      ],
      "execution_count": 11,
      "outputs": [
        {
          "output_type": "stream",
          "text": [
            "10000/10000 [==============================] - 1s 54us/step\n"
          ],
          "name": "stdout"
        }
      ]
    },
    {
      "metadata": {
        "id": "E844W8zj601Y",
        "colab_type": "code",
        "outputId": "57aaa3e6-fb3f-4363-e4fb-6e3e45585f50",
        "colab": {
          "base_uri": "https://localhost:8080/",
          "height": 34
        }
      },
      "cell_type": "code",
      "source": [
        "print('test_acc:', test_acc)"
      ],
      "execution_count": 12,
      "outputs": [
        {
          "output_type": "stream",
          "text": [
            "test_acc: 0.3702\n"
          ],
          "name": "stdout"
        }
      ]
    }
  ]
}
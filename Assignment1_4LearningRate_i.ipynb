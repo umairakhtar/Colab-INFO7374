{
  "nbformat": 4,
  "nbformat_minor": 0,
  "metadata": {
    "colab": {
      "name": "Assignment1-4LearningRate-i.ipynb",
      "version": "0.3.2",
      "provenance": [],
      "include_colab_link": true
    },
    "kernelspec": {
      "name": "python3",
      "display_name": "Python 3"
    },
    "accelerator": "GPU"
  },
  "cells": [
    {
      "cell_type": "markdown",
      "metadata": {
        "id": "view-in-github",
        "colab_type": "text"
      },
      "source": [
        "<a href=\"https://colab.research.google.com/github/umairakhtar/Colab-INFO7374/blob/master/Assignment1_4LearningRate_i.ipynb\" target=\"_parent\"><img src=\"https://colab.research.google.com/assets/colab-badge.svg\" alt=\"Open In Colab\"/></a>"
      ]
    },
    {
      "metadata": {
        "id": "kLpotzHmYAfy",
        "colab_type": "code",
        "colab": {
          "base_uri": "https://localhost:8080/",
          "height": 34
        },
        "outputId": "13ddb073-17c9-438c-a2d7-91ff98d8d42e"
      },
      "cell_type": "code",
      "source": [
        "from keras.datasets import cifar10"
      ],
      "execution_count": 1,
      "outputs": [
        {
          "output_type": "stream",
          "text": [
            "Using TensorFlow backend.\n"
          ],
          "name": "stderr"
        }
      ]
    },
    {
      "metadata": {
        "id": "we_mML7zlMQi",
        "colab_type": "code",
        "colab": {}
      },
      "cell_type": "code",
      "source": [
        "(x_train, y_train), (x_test, y_test) = cifar10.load_data()"
      ],
      "execution_count": 0,
      "outputs": []
    },
    {
      "metadata": {
        "id": "cO55-ftSzfjW",
        "colab_type": "code",
        "colab": {}
      },
      "cell_type": "code",
      "source": [
        "from keras import models\n",
        "from keras import layers"
      ],
      "execution_count": 0,
      "outputs": []
    },
    {
      "metadata": {
        "id": "Lp3jKLuit6cW",
        "colab_type": "code",
        "colab": {}
      },
      "cell_type": "code",
      "source": [
        "network = models.Sequential()"
      ],
      "execution_count": 0,
      "outputs": []
    },
    {
      "metadata": {
        "id": "o1evkTpVnTl6",
        "colab_type": "code",
        "colab": {}
      },
      "cell_type": "code",
      "source": [
        "network.add(layers.Dense(512, activation='relu', input_shape=(32 * 32 * 3,)))"
      ],
      "execution_count": 0,
      "outputs": []
    },
    {
      "metadata": {
        "id": "F9CDYqgUnh02",
        "colab_type": "code",
        "colab": {}
      },
      "cell_type": "code",
      "source": [
        "network.add(layers.Dense(10, activation='softmax'))"
      ],
      "execution_count": 0,
      "outputs": []
    },
    {
      "metadata": {
        "id": "H92VYZjCnlmW",
        "colab_type": "code",
        "colab": {}
      },
      "cell_type": "code",
      "source": [
        "network.compile(optimizer='rmsprop',\n",
        "loss='categorical_crossentropy',\n",
        "metrics=['accuracy'])"
      ],
      "execution_count": 0,
      "outputs": []
    },
    {
      "metadata": {
        "id": "OPNyafOZOdUf",
        "colab_type": "code",
        "colab": {}
      },
      "cell_type": "code",
      "source": [
        "import keras.backend as k\n",
        "k.set_value(network.optimizer.lr, .02)"
      ],
      "execution_count": 0,
      "outputs": []
    },
    {
      "metadata": {
        "id": "6g9b7z6W0Bh5",
        "colab_type": "code",
        "colab": {}
      },
      "cell_type": "code",
      "source": [
        "x_train = x_train.reshape((50000, 32 * 32 *3))\n",
        "x_train = x_train.astype('float32') / 255\n",
        "x_test = x_test.reshape((10000, 32 * 32 *3))\n",
        "x_test = x_test.astype('float32') / 255"
      ],
      "execution_count": 0,
      "outputs": []
    },
    {
      "metadata": {
        "id": "PxjYJL_qg2V1",
        "colab_type": "code",
        "colab": {}
      },
      "cell_type": "code",
      "source": [
        "from keras.utils import to_categorical\n",
        "y_train = to_categorical(y_train)\n",
        "y_test = to_categorical(y_test)"
      ],
      "execution_count": 0,
      "outputs": []
    },
    {
      "metadata": {
        "id": "xWiT63O00oV8",
        "colab_type": "code",
        "outputId": "37646fd9-ea7d-4ac8-9af0-8469025f482c",
        "colab": {
          "base_uri": "https://localhost:8080/",
          "height": 1054
        }
      },
      "cell_type": "code",
      "source": [
        "network.fit(x_train, y_train, epochs=30, batch_size=128)"
      ],
      "execution_count": 11,
      "outputs": [
        {
          "output_type": "stream",
          "text": [
            "Epoch 1/30\n",
            "50000/50000 [==============================] - 3s 57us/step - loss: 14.4755 - acc: 0.1000\n",
            "Epoch 2/30\n",
            "50000/50000 [==============================] - 3s 51us/step - loss: 14.5063 - acc: 0.1000\n",
            "Epoch 3/30\n",
            "50000/50000 [==============================] - 3s 52us/step - loss: 14.5063 - acc: 0.1000\n",
            "Epoch 4/30\n",
            "50000/50000 [==============================] - 3s 51us/step - loss: 14.5063 - acc: 0.1000\n",
            "Epoch 5/30\n",
            "50000/50000 [==============================] - 3s 51us/step - loss: 14.5063 - acc: 0.1000\n",
            "Epoch 6/30\n",
            "50000/50000 [==============================] - 3s 51us/step - loss: 14.5063 - acc: 0.1000\n",
            "Epoch 7/30\n",
            "50000/50000 [==============================] - 3s 51us/step - loss: 14.5063 - acc: 0.1000\n",
            "Epoch 8/30\n",
            "50000/50000 [==============================] - 3s 51us/step - loss: 14.5063 - acc: 0.1000\n",
            "Epoch 9/30\n",
            "50000/50000 [==============================] - 3s 51us/step - loss: 14.5063 - acc: 0.1000\n",
            "Epoch 10/30\n",
            "50000/50000 [==============================] - 3s 51us/step - loss: 14.5063 - acc: 0.1000\n",
            "Epoch 11/30\n",
            "50000/50000 [==============================] - 3s 51us/step - loss: 14.5063 - acc: 0.1000\n",
            "Epoch 12/30\n",
            "50000/50000 [==============================] - 3s 51us/step - loss: 14.5063 - acc: 0.1000\n",
            "Epoch 13/30\n",
            "50000/50000 [==============================] - 3s 51us/step - loss: 14.5063 - acc: 0.1000\n",
            "Epoch 14/30\n",
            "50000/50000 [==============================] - 3s 51us/step - loss: 14.5063 - acc: 0.1000\n",
            "Epoch 15/30\n",
            "50000/50000 [==============================] - 3s 51us/step - loss: 14.5063 - acc: 0.1000\n",
            "Epoch 16/30\n",
            "50000/50000 [==============================] - 3s 51us/step - loss: 14.5063 - acc: 0.1000\n",
            "Epoch 17/30\n",
            "50000/50000 [==============================] - 3s 51us/step - loss: 14.5063 - acc: 0.1000\n",
            "Epoch 18/30\n",
            "50000/50000 [==============================] - 3s 51us/step - loss: 14.5063 - acc: 0.1000\n",
            "Epoch 19/30\n",
            "50000/50000 [==============================] - 3s 50us/step - loss: 14.5063 - acc: 0.1000\n",
            "Epoch 20/30\n",
            "50000/50000 [==============================] - 3s 51us/step - loss: 14.5063 - acc: 0.1000\n",
            "Epoch 21/30\n",
            "50000/50000 [==============================] - 3s 51us/step - loss: 14.5063 - acc: 0.1000\n",
            "Epoch 22/30\n",
            "50000/50000 [==============================] - 3s 51us/step - loss: 14.5063 - acc: 0.1000\n",
            "Epoch 23/30\n",
            "50000/50000 [==============================] - 3s 51us/step - loss: 14.5063 - acc: 0.1000\n",
            "Epoch 24/30\n",
            "50000/50000 [==============================] - 3s 51us/step - loss: 14.5063 - acc: 0.1000\n",
            "Epoch 25/30\n",
            "50000/50000 [==============================] - 3s 51us/step - loss: 14.5063 - acc: 0.1000\n",
            "Epoch 26/30\n",
            "50000/50000 [==============================] - 3s 50us/step - loss: 14.5063 - acc: 0.1000\n",
            "Epoch 27/30\n",
            "50000/50000 [==============================] - 3s 51us/step - loss: 14.5063 - acc: 0.1000\n",
            "Epoch 28/30\n",
            "50000/50000 [==============================] - 3s 51us/step - loss: 14.5063 - acc: 0.1000\n",
            "Epoch 29/30\n",
            "50000/50000 [==============================] - 3s 50us/step - loss: 14.5063 - acc: 0.1000\n",
            "Epoch 30/30\n",
            "50000/50000 [==============================] - 3s 51us/step - loss: 14.5063 - acc: 0.1000\n"
          ],
          "name": "stdout"
        },
        {
          "output_type": "execute_result",
          "data": {
            "text/plain": [
              "<keras.callbacks.History at 0x7f2648c2f978>"
            ]
          },
          "metadata": {
            "tags": []
          },
          "execution_count": 11
        }
      ]
    },
    {
      "metadata": {
        "id": "eCw5S5OU0P4q",
        "colab_type": "code",
        "outputId": "c8b063b8-957f-44ee-85b5-7b7e034d45ec",
        "colab": {
          "base_uri": "https://localhost:8080/",
          "height": 34
        }
      },
      "cell_type": "code",
      "source": [
        "test_loss, test_acc = network.evaluate(x_test, y_test)"
      ],
      "execution_count": 12,
      "outputs": [
        {
          "output_type": "stream",
          "text": [
            "10000/10000 [==============================] - 1s 54us/step\n"
          ],
          "name": "stdout"
        }
      ]
    },
    {
      "metadata": {
        "id": "E844W8zj601Y",
        "colab_type": "code",
        "outputId": "7891af13-f174-404d-e903-3580cabc0ad6",
        "colab": {
          "base_uri": "https://localhost:8080/",
          "height": 34
        }
      },
      "cell_type": "code",
      "source": [
        "print('test_acc:', test_acc)"
      ],
      "execution_count": 13,
      "outputs": [
        {
          "output_type": "stream",
          "text": [
            "test_acc: 0.1\n"
          ],
          "name": "stdout"
        }
      ]
    }
  ]
}
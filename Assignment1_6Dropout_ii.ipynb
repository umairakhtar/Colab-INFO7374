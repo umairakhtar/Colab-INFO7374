{
  "nbformat": 4,
  "nbformat_minor": 0,
  "metadata": {
    "colab": {
      "name": "Assignment1-6Dropout-ii.ipynb",
      "version": "0.3.2",
      "provenance": [],
      "include_colab_link": true
    },
    "kernelspec": {
      "name": "python3",
      "display_name": "Python 3"
    },
    "accelerator": "GPU"
  },
  "cells": [
    {
      "cell_type": "markdown",
      "metadata": {
        "id": "view-in-github",
        "colab_type": "text"
      },
      "source": [
        "<a href=\"https://colab.research.google.com/github/umairakhtar/Colab-INFO7374/blob/master/Assignment1_6Dropout_ii.ipynb\" target=\"_parent\"><img src=\"https://colab.research.google.com/assets/colab-badge.svg\" alt=\"Open In Colab\"/></a>"
      ]
    },
    {
      "metadata": {
        "id": "kLpotzHmYAfy",
        "colab_type": "code",
        "outputId": "13d6317e-1540-4af9-c4f9-2c73d5719b23",
        "colab": {
          "base_uri": "https://localhost:8080/",
          "height": 34
        }
      },
      "cell_type": "code",
      "source": [
        "from keras.datasets import cifar10"
      ],
      "execution_count": 1,
      "outputs": [
        {
          "output_type": "stream",
          "text": [
            "Using TensorFlow backend.\n"
          ],
          "name": "stderr"
        }
      ]
    },
    {
      "metadata": {
        "id": "we_mML7zlMQi",
        "colab_type": "code",
        "colab": {}
      },
      "cell_type": "code",
      "source": [
        "(x_train, y_train), (x_test, y_test) = cifar10.load_data()"
      ],
      "execution_count": 0,
      "outputs": []
    },
    {
      "metadata": {
        "id": "cO55-ftSzfjW",
        "colab_type": "code",
        "colab": {}
      },
      "cell_type": "code",
      "source": [
        "from keras import models\n",
        "from keras import layers"
      ],
      "execution_count": 0,
      "outputs": []
    },
    {
      "metadata": {
        "id": "Lp3jKLuit6cW",
        "colab_type": "code",
        "colab": {}
      },
      "cell_type": "code",
      "source": [
        "network = models.Sequential()"
      ],
      "execution_count": 0,
      "outputs": []
    },
    {
      "metadata": {
        "id": "o1evkTpVnTl6",
        "colab_type": "code",
        "colab": {}
      },
      "cell_type": "code",
      "source": [
        "network.add(layers.Dense(512, activation='relu', input_shape=(32 * 32 * 3,)))"
      ],
      "execution_count": 0,
      "outputs": []
    },
    {
      "metadata": {
        "id": "F9CDYqgUnh02",
        "colab_type": "code",
        "colab": {}
      },
      "cell_type": "code",
      "source": [
        "network.add(layers.Dense(10, activation='softmax'))"
      ],
      "execution_count": 0,
      "outputs": []
    },
    {
      "metadata": {
        "id": "MhnP88FyT_C2",
        "colab_type": "code",
        "colab": {}
      },
      "cell_type": "code",
      "source": [
        "network.add(layers.Dropout(0.01, input_shape=(32 * 32 * 3,)))"
      ],
      "execution_count": 0,
      "outputs": []
    },
    {
      "metadata": {
        "id": "H92VYZjCnlmW",
        "colab_type": "code",
        "colab": {}
      },
      "cell_type": "code",
      "source": [
        "network.compile(optimizer='rmsprop',\n",
        "loss='categorical_crossentropy',\n",
        "metrics=['accuracy'])"
      ],
      "execution_count": 0,
      "outputs": []
    },
    {
      "metadata": {
        "id": "6g9b7z6W0Bh5",
        "colab_type": "code",
        "colab": {}
      },
      "cell_type": "code",
      "source": [
        "x_train = x_train.reshape((50000, 32 * 32 *3))\n",
        "x_train = x_train.astype('float32') / 255\n",
        "x_test = x_test.reshape((10000, 32 * 32 *3))\n",
        "x_test = x_test.astype('float32') / 255"
      ],
      "execution_count": 0,
      "outputs": []
    },
    {
      "metadata": {
        "id": "PxjYJL_qg2V1",
        "colab_type": "code",
        "colab": {}
      },
      "cell_type": "code",
      "source": [
        "from keras.utils import to_categorical\n",
        "y_train = to_categorical(y_train)\n",
        "y_test = to_categorical(y_test)"
      ],
      "execution_count": 0,
      "outputs": []
    },
    {
      "metadata": {
        "id": "xWiT63O00oV8",
        "colab_type": "code",
        "outputId": "5b4bc7c9-9b5c-4a24-db8d-8edb551f9a88",
        "colab": {
          "base_uri": "https://localhost:8080/",
          "height": 1054
        }
      },
      "cell_type": "code",
      "source": [
        "network.fit(x_train, y_train, epochs=30, batch_size=128)"
      ],
      "execution_count": 11,
      "outputs": [
        {
          "output_type": "stream",
          "text": [
            "Epoch 1/30\n",
            "50000/50000 [==============================] - 3s 65us/step - loss: 3.1762 - acc: 0.2312\n",
            "Epoch 2/30\n",
            "50000/50000 [==============================] - 3s 51us/step - loss: 1.9756 - acc: 0.3372\n",
            "Epoch 3/30\n",
            "50000/50000 [==============================] - 3s 51us/step - loss: 1.8630 - acc: 0.3786\n",
            "Epoch 4/30\n",
            "50000/50000 [==============================] - 3s 51us/step - loss: 1.8096 - acc: 0.4037\n",
            "Epoch 5/30\n",
            "50000/50000 [==============================] - 3s 51us/step - loss: 1.7597 - acc: 0.4217\n",
            "Epoch 6/30\n",
            "50000/50000 [==============================] - 3s 51us/step - loss: 1.7276 - acc: 0.4349\n",
            "Epoch 7/30\n",
            "50000/50000 [==============================] - 3s 52us/step - loss: 1.7114 - acc: 0.4438\n",
            "Epoch 8/30\n",
            "50000/50000 [==============================] - 3s 51us/step - loss: 1.6831 - acc: 0.4533\n",
            "Epoch 9/30\n",
            "50000/50000 [==============================] - 3s 51us/step - loss: 1.6554 - acc: 0.4592\n",
            "Epoch 10/30\n",
            "50000/50000 [==============================] - 3s 51us/step - loss: 1.6373 - acc: 0.4661\n",
            "Epoch 11/30\n",
            "50000/50000 [==============================] - 3s 51us/step - loss: 1.6061 - acc: 0.4712\n",
            "Epoch 12/30\n",
            "50000/50000 [==============================] - 3s 51us/step - loss: 1.6075 - acc: 0.4786\n",
            "Epoch 13/30\n",
            "50000/50000 [==============================] - 3s 51us/step - loss: 1.5820 - acc: 0.4854\n",
            "Epoch 14/30\n",
            "50000/50000 [==============================] - 3s 51us/step - loss: 1.5815 - acc: 0.4850\n",
            "Epoch 15/30\n",
            "50000/50000 [==============================] - 3s 51us/step - loss: 1.5730 - acc: 0.4925\n",
            "Epoch 16/30\n",
            "50000/50000 [==============================] - 3s 51us/step - loss: 1.5601 - acc: 0.4956\n",
            "Epoch 17/30\n",
            "50000/50000 [==============================] - 3s 51us/step - loss: 1.5388 - acc: 0.5016\n",
            "Epoch 18/30\n",
            "50000/50000 [==============================] - 3s 51us/step - loss: 1.5422 - acc: 0.5037\n",
            "Epoch 19/30\n",
            "50000/50000 [==============================] - 3s 51us/step - loss: 1.5290 - acc: 0.5043\n",
            "Epoch 20/30\n",
            "50000/50000 [==============================] - 3s 51us/step - loss: 1.5226 - acc: 0.5084\n",
            "Epoch 21/30\n",
            "50000/50000 [==============================] - 3s 51us/step - loss: 1.5162 - acc: 0.5120\n",
            "Epoch 22/30\n",
            "50000/50000 [==============================] - 3s 51us/step - loss: 1.4934 - acc: 0.5174\n",
            "Epoch 23/30\n",
            "50000/50000 [==============================] - 3s 51us/step - loss: 1.5025 - acc: 0.5178\n",
            "Epoch 24/30\n",
            "50000/50000 [==============================] - 3s 51us/step - loss: 1.4943 - acc: 0.5186\n",
            "Epoch 25/30\n",
            "50000/50000 [==============================] - 3s 51us/step - loss: 1.4872 - acc: 0.5230\n",
            "Epoch 26/30\n",
            "50000/50000 [==============================] - 3s 51us/step - loss: 1.4715 - acc: 0.5261\n",
            "Epoch 27/30\n",
            "50000/50000 [==============================] - 3s 51us/step - loss: 1.4689 - acc: 0.5265\n",
            "Epoch 28/30\n",
            "50000/50000 [==============================] - 3s 51us/step - loss: 1.4581 - acc: 0.5320\n",
            "Epoch 29/30\n",
            "50000/50000 [==============================] - 3s 51us/step - loss: 1.4545 - acc: 0.5317\n",
            "Epoch 30/30\n",
            "50000/50000 [==============================] - 3s 51us/step - loss: 1.4395 - acc: 0.5362\n"
          ],
          "name": "stdout"
        },
        {
          "output_type": "execute_result",
          "data": {
            "text/plain": [
              "<keras.callbacks.History at 0x7fb1def85710>"
            ]
          },
          "metadata": {
            "tags": []
          },
          "execution_count": 11
        }
      ]
    },
    {
      "metadata": {
        "id": "eCw5S5OU0P4q",
        "colab_type": "code",
        "outputId": "d16c588d-a7d2-406f-a199-972fa0176ff7",
        "colab": {
          "base_uri": "https://localhost:8080/",
          "height": 34
        }
      },
      "cell_type": "code",
      "source": [
        "test_loss, test_acc = network.evaluate(x_test, y_test)"
      ],
      "execution_count": 12,
      "outputs": [
        {
          "output_type": "stream",
          "text": [
            "10000/10000 [==============================] - 1s 56us/step\n"
          ],
          "name": "stdout"
        }
      ]
    },
    {
      "metadata": {
        "id": "E844W8zj601Y",
        "colab_type": "code",
        "outputId": "17e02f13-9371-44b6-bb21-720e6829fa5a",
        "colab": {
          "base_uri": "https://localhost:8080/",
          "height": 34
        }
      },
      "cell_type": "code",
      "source": [
        "print('test_acc:', test_acc)"
      ],
      "execution_count": 13,
      "outputs": [
        {
          "output_type": "stream",
          "text": [
            "test_acc: 0.4873\n"
          ],
          "name": "stdout"
        }
      ]
    }
  ]
}
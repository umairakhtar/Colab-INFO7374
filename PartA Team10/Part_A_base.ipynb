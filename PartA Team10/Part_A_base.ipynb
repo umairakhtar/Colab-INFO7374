{
  "nbformat": 4,
  "nbformat_minor": 0,
  "metadata": {
    "colab": {
      "name": "Part A base.ipynb",
      "version": "0.3.2",
      "provenance": [],
      "include_colab_link": true
    },
    "kernelspec": {
      "name": "python3",
      "display_name": "Python 3"
    },
    "accelerator": "GPU"
  },
  "cells": [
    {
      "cell_type": "markdown",
      "metadata": {
        "id": "view-in-github",
        "colab_type": "text"
      },
      "source": [
        "<a href=\"https://colab.research.google.com/github/umairakhtar/Colab-INFO7374-Assignment1/blob/master/PartA%20Team10/Part_A_base.ipynb\" target=\"_parent\"><img src=\"https://colab.research.google.com/assets/colab-badge.svg\" alt=\"Open In Colab\"/></a>"
      ]
    },
    {
      "metadata": {
        "id": "he6B-Nhy9huR",
        "colab_type": "code",
        "colab": {}
      },
      "cell_type": "code",
      "source": [
        "from __future__ import print_function\n",
        "import keras\n",
        "from keras.datasets import cifar10\n",
        "from keras.preprocessing.image import ImageDataGenerator\n",
        "from keras.models import Sequential\n",
        "from keras.layers import Dense, Dropout, Activation, Flatten\n",
        "from keras.layers import Conv2D, MaxPooling2D\n",
        "import os\n"
      ],
      "execution_count": 0,
      "outputs": []
    },
    {
      "metadata": {
        "id": "qQa74nG3-D3R",
        "colab_type": "code",
        "colab": {}
      },
      "cell_type": "code",
      "source": [
        "batch_size = 32\n",
        "num_classes = 10\n",
        "epochs = 100\n",
        "data_augmentation = True\n",
        "num_predictions = 20\n",
        "save_dir = os.path.join(os.getcwd(), 'saved_models')\n",
        "model_name = 'keras_cifar10_trained_model.h5'"
      ],
      "execution_count": 0,
      "outputs": []
    },
    {
      "metadata": {
        "id": "1hW6txjG-LC6",
        "colab_type": "code",
        "outputId": "d63f1b0b-5262-45fd-ac38-524278a4c19a",
        "colab": {
          "base_uri": "https://localhost:8080/",
          "height": 68
        }
      },
      "cell_type": "code",
      "source": [
        "# The data, split between train and test sets:\n",
        "(x_train, y_train), (x_test, y_test) = cifar10.load_data()\n",
        "print('x_train shape:', x_train.shape)\n",
        "print(x_train.shape[0], 'train samples')\n",
        "print(x_test.shape[0], 'test samples')\n"
      ],
      "execution_count": 0,
      "outputs": [
        {
          "output_type": "stream",
          "text": [
            "x_train shape: (50000, 32, 32, 3)\n",
            "50000 train samples\n",
            "10000 test samples\n"
          ],
          "name": "stdout"
        }
      ]
    },
    {
      "metadata": {
        "id": "11EYIBpvEFLt",
        "colab_type": "code",
        "colab": {}
      },
      "cell_type": "code",
      "source": [
        "from keras.layers import Layer, Dense\n",
        "from keras import backend as K\n",
        "\n",
        "class DenseK( Layer ) :\n",
        "    def __init__( self, K=3, **kwargs ) :\n",
        "        self.K = K\n",
        "        super( DenseK, self ).__init__( **kwargs )\n",
        "    def build( self, input_shape ) :\n",
        "        feat_dims = input_shape[-1]\n",
        "        assert feat_dims % self.K == 0\n",
        "        self.kernel = self.add_weight(shape=( 1, feat_dims ),\n",
        "                                      initializer='glorot_uniform',\n",
        "                                      name='kernel' )\n",
        "        self.bias = self.add_weight(shape=( 1, feat_dims//self.K ),\n",
        "                                      initializer='zeros',\n",
        "                                      name='bias' )\n",
        "        self.xk_shape = (-1, feat_dims//self.K, self.K )\n",
        "    def call( self, x ) :\n",
        "        # 1. element-wise product between x and kernel\n",
        "        xk = x * self.kernel\n",
        "        # 2. reshape xk, xk.shape = (batch_size, input_feat_dim//3, 3 )\n",
        "        xk = K.reshape( xk, self.xk_shape ) \n",
        "        # 3. compute y for every K elements in xk\n",
        "        y = K.sum( xk, axis=-1, keepdims=False ) + self.bias\n",
        "        return y \n",
        "    def compute_output_shape( self, input_shape ) :\n",
        "        batch_size, feat_dims = input_shape\n",
        "        return ( batch_size, feat_dims//self.K )"
      ],
      "execution_count": 0,
      "outputs": []
    },
    {
      "metadata": {
        "id": "Rwl9dio2-WVe",
        "colab_type": "code",
        "colab": {}
      },
      "cell_type": "code",
      "source": [
        "# initiate RMSprop optimizer\n",
        "opt = keras.optimizers.rmsprop(lr=0.0001, decay=1e-6)"
      ],
      "execution_count": 0,
      "outputs": []
    },
    {
      "metadata": {
        "id": "kD1bDDHb-RZx",
        "colab_type": "code",
        "colab": {}
      },
      "cell_type": "code",
      "source": [
        "from keras.layers import Input\n",
        "# Convert class vectors to binary class matrices.\n",
        "y_train = keras.utils.to_categorical(y_train, num_classes)\n",
        "y_test = keras.utils.to_categorical(y_test, num_classes)\n",
        "\n",
        "model = Sequential()\n",
        "\n",
        "\n",
        "\n",
        "model.add(Conv2D(32, (3, 3), padding='same',\n",
        "                 input_shape=x_train.shape[1:]))\n",
        "model.add(Activation('relu'))\n",
        "model.add(Conv2D(32, (3, 3)))\n",
        "model.add(Activation('relu'))\n",
        "model.add(MaxPooling2D(pool_size=(2, 2)))\n",
        "model.add(Dropout(0.25))\n",
        "\n",
        "model.add(Conv2D(64, (3, 3), padding='same'))\n",
        "model.add(Activation('relu'))\n",
        "model.add(Conv2D(64, (3, 3)))\n",
        "model.add(Activation('relu'))\n",
        "model.add(MaxPooling2D(pool_size=(2, 2)))\n",
        "model.add(Dropout(0.25))\n",
        "\n",
        "model.add(Flatten())\n",
        "model.add(Dense(512))\n",
        "model.add(Activation('relu'))\n",
        "model.add(Dropout(0.5))\n",
        "model.add(Dense(num_classes))\n",
        "\n",
        "model.add(Activation('softmax'))\n",
        "\n"
      ],
      "execution_count": 0,
      "outputs": []
    },
    {
      "metadata": {
        "id": "np4O4k1d-bPh",
        "colab_type": "code",
        "colab": {}
      },
      "cell_type": "code",
      "source": [
        "# Let's train the model using RMSprop\n",
        "model.compile(loss='categorical_crossentropy',\n",
        "              optimizer=opt,\n",
        "              metrics=['accuracy'])"
      ],
      "execution_count": 0,
      "outputs": []
    },
    {
      "metadata": {
        "id": "MC14QpKv-frA",
        "colab_type": "code",
        "colab": {}
      },
      "cell_type": "code",
      "source": [
        "x_train = x_train.astype('float32')\n",
        "x_test = x_test.astype('float32')\n",
        "x_train /= 255\n",
        "x_test /= 255"
      ],
      "execution_count": 0,
      "outputs": []
    },
    {
      "metadata": {
        "id": "sq4d0a51-nF-",
        "colab_type": "code",
        "outputId": "9515bdf2-abe0-4bfd-e115-636468508935",
        "colab": {
          "base_uri": "https://localhost:8080/",
          "height": 3434
        }
      },
      "cell_type": "code",
      "source": [
        "if not data_augmentation:\n",
        "    print('Not using data augmentation.')\n",
        "    model.fit(x_train, y_train,\n",
        "              batch_size=batch_size,\n",
        "              epochs=epochs,\n",
        "              validation_data=(x_test, y_test),\n",
        "              shuffle=True)\n",
        "else:\n",
        "    print('Using real-time data augmentation.')\n",
        "    # This will do preprocessing and realtime data augmentation:\n",
        "    datagen = ImageDataGenerator(\n",
        "        featurewise_center=False,  # set input mean to 0 over the dataset\n",
        "        samplewise_center=False,  # set each sample mean to 0\n",
        "        featurewise_std_normalization=False,  # divide inputs by std of the dataset\n",
        "        samplewise_std_normalization=False,  # divide each input by its std\n",
        "        zca_whitening=False,  # apply ZCA whitening\n",
        "        zca_epsilon=1e-06,  # epsilon for ZCA whitening\n",
        "        rotation_range=0,  # randomly rotate images in the range (degrees, 0 to 180)\n",
        "        # randomly shift images horizontally (fraction of total width)\n",
        "        width_shift_range=0.1,\n",
        "        # randomly shift images vertically (fraction of total height)\n",
        "        height_shift_range=0.1,\n",
        "        shear_range=0.,  # set range for random shear\n",
        "        zoom_range=0.,  # set range for random zoom\n",
        "        channel_shift_range=0.,  # set range for random channel shifts\n",
        "        # set mode for filling points outside the input boundaries\n",
        "        fill_mode='nearest',\n",
        "        cval=0.,  # value used for fill_mode = \"constant\"\n",
        "        horizontal_flip=True,  # randomly flip images\n",
        "        vertical_flip=False,  # randomly flip images\n",
        "        # set rescaling factor (applied before any other transformation)\n",
        "        rescale=None,\n",
        "        # set function that will be applied on each input\n",
        "        preprocessing_function=None,\n",
        "        # image data format, either \"channels_first\" or \"channels_last\"\n",
        "        data_format=None,\n",
        "        # fraction of images reserved for validation (strictly between 0 and 1)\n",
        "        validation_split=0.0)\n",
        "\n",
        "    # Compute quantities required for feature-wise normalization\n",
        "    # (std, mean, and principal components if ZCA whitening is applied).\n",
        "    datagen.fit(x_train)\n",
        "\n",
        "    # Fit the model on the batches generated by datagen.flow().\n",
        "    model.fit_generator(datagen.flow(x_train, y_train,\n",
        "                                     batch_size=batch_size),\n",
        "                        epochs=epochs,steps_per_epoch=500,\n",
        "                        validation_data=(x_test, y_test),\n",
        "                        workers=4)"
      ],
      "execution_count": 0,
      "outputs": [
        {
          "output_type": "stream",
          "text": [
            "Using real-time data augmentation.\n",
            "Epoch 1/100\n",
            "500/500 [==============================] - 16s 32ms/step - loss: 2.0477 - acc: 0.2384 - val_loss: 1.8046 - val_acc: 0.3615\n",
            "Epoch 2/100\n",
            "500/500 [==============================] - 15s 30ms/step - loss: 1.8085 - acc: 0.3403 - val_loss: 1.6616 - val_acc: 0.4006\n",
            "Epoch 3/100\n",
            "500/500 [==============================] - 15s 30ms/step - loss: 1.7211 - acc: 0.3671 - val_loss: 1.5608 - val_acc: 0.4425\n",
            "Epoch 4/100\n",
            "500/500 [==============================] - 15s 30ms/step - loss: 1.6596 - acc: 0.3888 - val_loss: 1.5373 - val_acc: 0.4392\n",
            "Epoch 5/100\n",
            "500/500 [==============================] - 15s 31ms/step - loss: 1.5984 - acc: 0.4176 - val_loss: 1.5170 - val_acc: 0.4429\n",
            "Epoch 6/100\n",
            "500/500 [==============================] - 16s 31ms/step - loss: 1.5397 - acc: 0.4384 - val_loss: 1.4168 - val_acc: 0.4817\n",
            "Epoch 7/100\n",
            "500/500 [==============================] - 15s 30ms/step - loss: 1.5162 - acc: 0.4516 - val_loss: 1.3612 - val_acc: 0.5084\n",
            "Epoch 8/100\n",
            "500/500 [==============================] - 15s 29ms/step - loss: 1.4714 - acc: 0.4677 - val_loss: 1.3691 - val_acc: 0.5070\n",
            "Epoch 9/100\n",
            "500/500 [==============================] - 15s 30ms/step - loss: 1.4447 - acc: 0.4770 - val_loss: 1.2992 - val_acc: 0.5264\n",
            "Epoch 10/100\n",
            "500/500 [==============================] - 15s 30ms/step - loss: 1.4233 - acc: 0.4935 - val_loss: 1.3126 - val_acc: 0.5292\n",
            "Epoch 11/100\n",
            "500/500 [==============================] - 15s 30ms/step - loss: 1.3921 - acc: 0.4995 - val_loss: 1.2856 - val_acc: 0.5400\n",
            "Epoch 12/100\n",
            "500/500 [==============================] - 15s 30ms/step - loss: 1.3741 - acc: 0.5096 - val_loss: 1.2807 - val_acc: 0.5493\n",
            "Epoch 13/100\n",
            "500/500 [==============================] - 15s 30ms/step - loss: 1.3514 - acc: 0.5119 - val_loss: 1.2519 - val_acc: 0.5584\n",
            "Epoch 14/100\n",
            "500/500 [==============================] - 15s 30ms/step - loss: 1.3353 - acc: 0.5216 - val_loss: 1.1837 - val_acc: 0.5777\n",
            "Epoch 15/100\n",
            "500/500 [==============================] - 15s 30ms/step - loss: 1.3014 - acc: 0.5306 - val_loss: 1.1887 - val_acc: 0.5797\n",
            "Epoch 16/100\n",
            "500/500 [==============================] - 15s 30ms/step - loss: 1.2992 - acc: 0.5390 - val_loss: 1.1783 - val_acc: 0.5822\n",
            "Epoch 17/100\n",
            "500/500 [==============================] - 15s 30ms/step - loss: 1.2795 - acc: 0.5417 - val_loss: 1.2090 - val_acc: 0.5662\n",
            "Epoch 18/100\n",
            "500/500 [==============================] - 15s 30ms/step - loss: 1.2479 - acc: 0.5519 - val_loss: 1.0990 - val_acc: 0.6127\n",
            "Epoch 19/100\n",
            "500/500 [==============================] - 15s 30ms/step - loss: 1.2415 - acc: 0.5575 - val_loss: 1.2512 - val_acc: 0.5747\n",
            "Epoch 20/100\n",
            "500/500 [==============================] - 15s 30ms/step - loss: 1.2284 - acc: 0.5618 - val_loss: 1.0868 - val_acc: 0.6175\n",
            "Epoch 21/100\n",
            "500/500 [==============================] - 15s 30ms/step - loss: 1.2331 - acc: 0.5591 - val_loss: 1.1447 - val_acc: 0.5965\n",
            "Epoch 22/100\n",
            "500/500 [==============================] - 15s 30ms/step - loss: 1.2041 - acc: 0.5716 - val_loss: 1.0972 - val_acc: 0.6137\n",
            "Epoch 23/100\n",
            "500/500 [==============================] - 15s 30ms/step - loss: 1.1878 - acc: 0.5793 - val_loss: 1.0514 - val_acc: 0.6305\n",
            "Epoch 24/100\n",
            "500/500 [==============================] - 15s 30ms/step - loss: 1.1882 - acc: 0.5777 - val_loss: 1.0453 - val_acc: 0.6335\n",
            "Epoch 25/100\n",
            "500/500 [==============================] - 15s 30ms/step - loss: 1.1641 - acc: 0.5898 - val_loss: 1.0383 - val_acc: 0.6345\n",
            "Epoch 26/100\n",
            "500/500 [==============================] - 15s 30ms/step - loss: 1.1508 - acc: 0.5934 - val_loss: 1.2035 - val_acc: 0.5794\n",
            "Epoch 27/100\n",
            "500/500 [==============================] - 15s 30ms/step - loss: 1.1450 - acc: 0.5933 - val_loss: 1.0134 - val_acc: 0.6448\n",
            "Epoch 28/100\n",
            "500/500 [==============================] - 15s 30ms/step - loss: 1.1354 - acc: 0.5976 - val_loss: 1.0701 - val_acc: 0.6262\n",
            "Epoch 29/100\n",
            "500/500 [==============================] - 15s 30ms/step - loss: 1.1193 - acc: 0.6036 - val_loss: 1.0099 - val_acc: 0.6486\n",
            "Epoch 30/100\n",
            "500/500 [==============================] - 15s 30ms/step - loss: 1.1147 - acc: 0.6017 - val_loss: 1.0204 - val_acc: 0.6403\n",
            "Epoch 31/100\n",
            "500/500 [==============================] - 15s 30ms/step - loss: 1.1140 - acc: 0.6039 - val_loss: 1.0292 - val_acc: 0.6418\n",
            "Epoch 32/100\n",
            "500/500 [==============================] - 15s 30ms/step - loss: 1.1009 - acc: 0.6144 - val_loss: 0.9525 - val_acc: 0.6646\n",
            "Epoch 33/100\n",
            "500/500 [==============================] - 15s 30ms/step - loss: 1.0916 - acc: 0.6192 - val_loss: 1.0374 - val_acc: 0.6451\n",
            "Epoch 34/100\n",
            "500/500 [==============================] - 15s 30ms/step - loss: 1.0769 - acc: 0.6168 - val_loss: 0.9954 - val_acc: 0.6526\n",
            "Epoch 35/100\n",
            "500/500 [==============================] - 15s 30ms/step - loss: 1.0690 - acc: 0.6207 - val_loss: 1.0102 - val_acc: 0.6467\n",
            "Epoch 36/100\n",
            "500/500 [==============================] - 15s 30ms/step - loss: 1.0731 - acc: 0.6211 - val_loss: 0.9154 - val_acc: 0.6766\n",
            "Epoch 37/100\n",
            "500/500 [==============================] - 15s 30ms/step - loss: 1.0485 - acc: 0.6314 - val_loss: 1.0002 - val_acc: 0.6513\n",
            "Epoch 38/100\n",
            "500/500 [==============================] - 15s 30ms/step - loss: 1.0506 - acc: 0.6279 - val_loss: 0.9822 - val_acc: 0.6593\n",
            "Epoch 39/100\n",
            "500/500 [==============================] - 15s 30ms/step - loss: 1.0434 - acc: 0.6329 - val_loss: 1.0867 - val_acc: 0.6277\n",
            "Epoch 40/100\n",
            "500/500 [==============================] - 15s 30ms/step - loss: 1.0178 - acc: 0.6404 - val_loss: 0.9320 - val_acc: 0.6765\n",
            "Epoch 41/100\n",
            "500/500 [==============================] - 15s 30ms/step - loss: 1.0269 - acc: 0.6391 - val_loss: 0.9200 - val_acc: 0.6799\n",
            "Epoch 42/100\n",
            "500/500 [==============================] - 15s 30ms/step - loss: 1.0213 - acc: 0.6367 - val_loss: 0.9080 - val_acc: 0.6862\n",
            "Epoch 43/100\n",
            "500/500 [==============================] - 15s 30ms/step - loss: 1.0083 - acc: 0.6479 - val_loss: 0.9136 - val_acc: 0.6799\n",
            "Epoch 44/100\n",
            "500/500 [==============================] - 15s 30ms/step - loss: 1.0170 - acc: 0.6392 - val_loss: 0.8748 - val_acc: 0.6984\n",
            "Epoch 45/100\n",
            "500/500 [==============================] - 15s 30ms/step - loss: 1.0115 - acc: 0.6452 - val_loss: 0.8907 - val_acc: 0.6845\n",
            "Epoch 46/100\n",
            "500/500 [==============================] - 15s 30ms/step - loss: 0.9955 - acc: 0.6506 - val_loss: 0.8559 - val_acc: 0.7032\n",
            "Epoch 47/100\n",
            "500/500 [==============================] - 15s 30ms/step - loss: 1.0006 - acc: 0.6516 - val_loss: 0.8791 - val_acc: 0.6927\n",
            "Epoch 48/100\n",
            "500/500 [==============================] - 15s 30ms/step - loss: 0.9863 - acc: 0.6536 - val_loss: 0.9128 - val_acc: 0.6864\n",
            "Epoch 49/100\n",
            "500/500 [==============================] - 15s 30ms/step - loss: 0.9853 - acc: 0.6538 - val_loss: 0.9206 - val_acc: 0.6793\n",
            "Epoch 50/100\n",
            "500/500 [==============================] - 15s 30ms/step - loss: 0.9692 - acc: 0.6611 - val_loss: 0.8940 - val_acc: 0.6897\n",
            "Epoch 51/100\n",
            "500/500 [==============================] - 15s 30ms/step - loss: 0.9769 - acc: 0.6559 - val_loss: 0.8536 - val_acc: 0.7036\n",
            "Epoch 52/100\n",
            "500/500 [==============================] - 15s 30ms/step - loss: 0.9712 - acc: 0.6668 - val_loss: 0.8889 - val_acc: 0.6943\n",
            "Epoch 53/100\n",
            "500/500 [==============================] - 15s 30ms/step - loss: 0.9658 - acc: 0.6624 - val_loss: 0.9805 - val_acc: 0.6680\n",
            "Epoch 54/100\n",
            "500/500 [==============================] - 15s 30ms/step - loss: 0.9592 - acc: 0.6659 - val_loss: 0.8307 - val_acc: 0.7074\n",
            "Epoch 55/100\n",
            "500/500 [==============================] - 15s 30ms/step - loss: 0.9494 - acc: 0.6667 - val_loss: 0.8341 - val_acc: 0.7102\n",
            "Epoch 56/100\n",
            "500/500 [==============================] - 15s 30ms/step - loss: 0.9601 - acc: 0.6644 - val_loss: 0.8156 - val_acc: 0.7143\n",
            "Epoch 57/100\n",
            "500/500 [==============================] - 15s 30ms/step - loss: 0.9495 - acc: 0.6732 - val_loss: 0.8546 - val_acc: 0.7103\n",
            "Epoch 58/100\n",
            "500/500 [==============================] - 15s 30ms/step - loss: 0.9418 - acc: 0.6714 - val_loss: 0.7988 - val_acc: 0.7247\n",
            "Epoch 59/100\n",
            "500/500 [==============================] - 15s 30ms/step - loss: 0.9349 - acc: 0.6713 - val_loss: 0.7858 - val_acc: 0.7266\n",
            "Epoch 60/100\n",
            "500/500 [==============================] - 15s 30ms/step - loss: 0.9312 - acc: 0.6755 - val_loss: 0.8320 - val_acc: 0.7111\n",
            "Epoch 61/100\n",
            "500/500 [==============================] - 15s 30ms/step - loss: 0.9326 - acc: 0.6742 - val_loss: 0.8724 - val_acc: 0.7061\n",
            "Epoch 62/100\n",
            "500/500 [==============================] - 15s 30ms/step - loss: 0.9424 - acc: 0.6707 - val_loss: 0.8344 - val_acc: 0.7141\n",
            "Epoch 63/100\n",
            "500/500 [==============================] - 15s 30ms/step - loss: 0.9243 - acc: 0.6765 - val_loss: 0.8649 - val_acc: 0.7036\n",
            "Epoch 64/100\n",
            "500/500 [==============================] - 15s 30ms/step - loss: 0.9261 - acc: 0.6767 - val_loss: 0.7980 - val_acc: 0.7290\n",
            "Epoch 65/100\n",
            "500/500 [==============================] - 15s 30ms/step - loss: 0.9222 - acc: 0.6800 - val_loss: 0.8035 - val_acc: 0.7205\n",
            "Epoch 66/100\n",
            "500/500 [==============================] - 15s 30ms/step - loss: 0.9153 - acc: 0.6840 - val_loss: 0.8809 - val_acc: 0.7048\n",
            "Epoch 67/100\n",
            "500/500 [==============================] - 15s 30ms/step - loss: 0.9169 - acc: 0.6831 - val_loss: 0.7830 - val_acc: 0.7325\n",
            "Epoch 68/100\n",
            "500/500 [==============================] - 15s 30ms/step - loss: 0.9190 - acc: 0.6797 - val_loss: 0.8021 - val_acc: 0.7230\n",
            "Epoch 69/100\n",
            "500/500 [==============================] - 15s 30ms/step - loss: 0.9143 - acc: 0.6821 - val_loss: 0.8360 - val_acc: 0.7114\n",
            "Epoch 70/100\n",
            "500/500 [==============================] - 15s 30ms/step - loss: 0.9060 - acc: 0.6888 - val_loss: 0.8416 - val_acc: 0.7111\n",
            "Epoch 71/100\n",
            "500/500 [==============================] - 15s 30ms/step - loss: 0.9043 - acc: 0.6866 - val_loss: 0.7786 - val_acc: 0.7323\n",
            "Epoch 72/100\n",
            "500/500 [==============================] - 15s 30ms/step - loss: 0.8875 - acc: 0.6927 - val_loss: 0.7958 - val_acc: 0.7250\n",
            "Epoch 73/100\n",
            "500/500 [==============================] - 15s 30ms/step - loss: 0.9073 - acc: 0.6838 - val_loss: 0.8553 - val_acc: 0.7076\n",
            "Epoch 74/100\n",
            "500/500 [==============================] - 15s 30ms/step - loss: 0.9162 - acc: 0.6843 - val_loss: 0.8110 - val_acc: 0.7213\n",
            "Epoch 75/100\n",
            "500/500 [==============================] - 15s 30ms/step - loss: 0.8962 - acc: 0.6949 - val_loss: 0.8561 - val_acc: 0.7082\n",
            "Epoch 76/100\n",
            "500/500 [==============================] - 15s 30ms/step - loss: 0.8959 - acc: 0.6928 - val_loss: 0.8248 - val_acc: 0.7176\n",
            "Epoch 77/100\n",
            "500/500 [==============================] - 15s 30ms/step - loss: 0.8869 - acc: 0.6919 - val_loss: 0.7995 - val_acc: 0.7247\n",
            "Epoch 78/100\n",
            "500/500 [==============================] - 15s 30ms/step - loss: 0.9020 - acc: 0.6902 - val_loss: 0.8161 - val_acc: 0.7256\n",
            "Epoch 79/100\n",
            "500/500 [==============================] - 15s 30ms/step - loss: 0.8733 - acc: 0.6986 - val_loss: 0.7705 - val_acc: 0.7347\n",
            "Epoch 80/100\n",
            "500/500 [==============================] - 15s 30ms/step - loss: 0.8663 - acc: 0.6998 - val_loss: 0.7791 - val_acc: 0.7328\n",
            "Epoch 81/100\n",
            "500/500 [==============================] - 15s 30ms/step - loss: 0.8811 - acc: 0.6951 - val_loss: 0.8263 - val_acc: 0.7224\n",
            "Epoch 82/100\n",
            "500/500 [==============================] - 15s 30ms/step - loss: 0.8856 - acc: 0.6981 - val_loss: 0.8172 - val_acc: 0.7280\n",
            "Epoch 83/100\n",
            "500/500 [==============================] - 15s 30ms/step - loss: 0.8876 - acc: 0.6947 - val_loss: 0.7689 - val_acc: 0.7366\n",
            "Epoch 84/100\n",
            "500/500 [==============================] - 15s 30ms/step - loss: 0.8715 - acc: 0.7006 - val_loss: 0.8174 - val_acc: 0.7186\n",
            "Epoch 85/100\n",
            "500/500 [==============================] - 15s 30ms/step - loss: 0.8690 - acc: 0.7006 - val_loss: 0.8163 - val_acc: 0.7215\n",
            "Epoch 86/100\n",
            "500/500 [==============================] - 15s 30ms/step - loss: 0.8769 - acc: 0.6957 - val_loss: 0.7700 - val_acc: 0.7364\n",
            "Epoch 87/100\n",
            "500/500 [==============================] - 15s 30ms/step - loss: 0.8759 - acc: 0.6996 - val_loss: 0.7698 - val_acc: 0.7351\n",
            "Epoch 88/100\n",
            "500/500 [==============================] - 15s 30ms/step - loss: 0.8679 - acc: 0.7035 - val_loss: 0.7775 - val_acc: 0.7329\n",
            "Epoch 89/100\n",
            "500/500 [==============================] - 15s 30ms/step - loss: 0.8626 - acc: 0.7024 - val_loss: 0.7780 - val_acc: 0.7350\n",
            "Epoch 90/100\n",
            "500/500 [==============================] - 15s 30ms/step - loss: 0.8752 - acc: 0.6993 - val_loss: 0.7604 - val_acc: 0.7399\n",
            "Epoch 91/100\n",
            "500/500 [==============================] - 15s 30ms/step - loss: 0.8679 - acc: 0.7031 - val_loss: 0.8195 - val_acc: 0.7236\n",
            "Epoch 92/100\n",
            "500/500 [==============================] - 15s 30ms/step - loss: 0.8661 - acc: 0.7013 - val_loss: 0.8002 - val_acc: 0.7379\n",
            "Epoch 93/100\n",
            "500/500 [==============================] - 15s 30ms/step - loss: 0.8697 - acc: 0.7037 - val_loss: 0.7768 - val_acc: 0.7336\n",
            "Epoch 94/100\n",
            "500/500 [==============================] - 15s 30ms/step - loss: 0.8554 - acc: 0.7068 - val_loss: 0.7701 - val_acc: 0.7330\n",
            "Epoch 95/100\n",
            "500/500 [==============================] - 15s 30ms/step - loss: 0.8603 - acc: 0.7097 - val_loss: 0.7531 - val_acc: 0.7480\n",
            "Epoch 96/100\n",
            "500/500 [==============================] - 15s 30ms/step - loss: 0.8467 - acc: 0.7049 - val_loss: 0.7430 - val_acc: 0.7513\n",
            "Epoch 97/100\n",
            "500/500 [==============================] - 15s 30ms/step - loss: 0.8711 - acc: 0.7013 - val_loss: 0.7440 - val_acc: 0.7495\n",
            "Epoch 98/100\n",
            "500/500 [==============================] - 15s 30ms/step - loss: 0.8611 - acc: 0.7056 - val_loss: 0.7533 - val_acc: 0.7478\n",
            "Epoch 99/100\n",
            "500/500 [==============================] - 15s 30ms/step - loss: 0.8479 - acc: 0.7102 - val_loss: 0.7577 - val_acc: 0.7429\n",
            "Epoch 100/100\n",
            "500/500 [==============================] - 15s 30ms/step - loss: 0.8569 - acc: 0.7066 - val_loss: 0.7780 - val_acc: 0.7350\n"
          ],
          "name": "stdout"
        }
      ]
    },
    {
      "metadata": {
        "id": "XJOMRBtc-r77",
        "colab_type": "code",
        "outputId": "5b35e46c-455c-47a0-cf63-797de41750c3",
        "colab": {
          "base_uri": "https://localhost:8080/",
          "height": 34
        }
      },
      "cell_type": "code",
      "source": [
        "# Save model and weights\n",
        "if not os.path.isdir(save_dir):\n",
        "    os.makedirs(save_dir)\n",
        "model_path = os.path.join(save_dir, model_name)\n",
        "model.save(model_path)\n",
        "print('Saved trained model at %s ' % model_path)"
      ],
      "execution_count": 0,
      "outputs": [
        {
          "output_type": "stream",
          "text": [
            "Saved trained model at /content/saved_models/keras_cifar10_trained_model.h5 \n"
          ],
          "name": "stdout"
        }
      ]
    },
    {
      "metadata": {
        "id": "yidaCcOb-uh4",
        "colab_type": "code",
        "outputId": "54a8dda9-ad62-413b-8264-2ff116a0e75f",
        "colab": {
          "base_uri": "https://localhost:8080/",
          "height": 68
        }
      },
      "cell_type": "code",
      "source": [
        "# Score trained model.\n",
        "scores = model.evaluate(x_test, y_test, verbose=1)\n",
        "print('Test loss:', scores[0])\n",
        "print('Test accuracy:', scores[1])"
      ],
      "execution_count": 0,
      "outputs": [
        {
          "output_type": "stream",
          "text": [
            "10000/10000 [==============================] - 1s 144us/step\n",
            "Test loss: 0.7779617407798767\n",
            "Test accuracy: 0.735\n"
          ],
          "name": "stdout"
        }
      ]
    }
  ]
}
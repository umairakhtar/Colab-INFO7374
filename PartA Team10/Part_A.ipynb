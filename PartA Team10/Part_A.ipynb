{
  "nbformat": 4,
  "nbformat_minor": 0,
  "metadata": {
    "colab": {
      "name": "Part A.ipynb",
      "version": "0.3.2",
      "provenance": [],
      "include_colab_link": true
    },
    "kernelspec": {
      "name": "python3",
      "display_name": "Python 3"
    },
    "accelerator": "GPU"
  },
  "cells": [
    {
      "cell_type": "markdown",
      "metadata": {
        "id": "view-in-github",
        "colab_type": "text"
      },
      "source": [
        "<a href=\"https://colab.research.google.com/github/umairakhtar/Colab-INFO7374-Assignment1/blob/master/PartA%20Team10/Part_A.ipynb\" target=\"_parent\"><img src=\"https://colab.research.google.com/assets/colab-badge.svg\" alt=\"Open In Colab\"/></a>"
      ]
    },
    {
      "metadata": {
        "id": "he6B-Nhy9huR",
        "colab_type": "code",
        "outputId": "bfb7b42e-cadf-4b4b-89fc-3571f829d49c",
        "colab": {
          "base_uri": "https://localhost:8080/",
          "height": 34
        }
      },
      "cell_type": "code",
      "source": [
        "from __future__ import print_function\n",
        "import keras\n",
        "from keras.datasets import cifar10\n",
        "from keras.preprocessing.image import ImageDataGenerator\n",
        "from keras.models import Sequential\n",
        "from keras.layers import Dense, Dropout, Activation, Flatten\n",
        "from keras.layers import Conv2D, MaxPooling2D\n",
        "import os\n"
      ],
      "execution_count": 0,
      "outputs": [
        {
          "output_type": "stream",
          "text": [
            "Using TensorFlow backend.\n"
          ],
          "name": "stderr"
        }
      ]
    },
    {
      "metadata": {
        "id": "qQa74nG3-D3R",
        "colab_type": "code",
        "colab": {}
      },
      "cell_type": "code",
      "source": [
        "batch_size = 32\n",
        "num_classes = 10\n",
        "epochs = 100\n",
        "data_augmentation = True\n",
        "num_predictions = 20\n",
        "save_dir = os.path.join(os.getcwd(), 'saved_models')\n",
        "model_name = 'keras_cifar10_trained_model.h5'"
      ],
      "execution_count": 0,
      "outputs": []
    },
    {
      "metadata": {
        "id": "1hW6txjG-LC6",
        "colab_type": "code",
        "outputId": "fb18e883-3d3f-4c3d-e4e1-811bca88b762",
        "colab": {
          "base_uri": "https://localhost:8080/",
          "height": 68
        }
      },
      "cell_type": "code",
      "source": [
        "# The data, split between train and test sets:\n",
        "(x_train, y_train), (x_test, y_test) = cifar10.load_data()\n",
        "print('x_train shape:', x_train.shape)\n",
        "print(x_train.shape[0], 'train samples')\n",
        "print(x_test.shape[0], 'test samples')\n"
      ],
      "execution_count": 0,
      "outputs": [
        {
          "output_type": "stream",
          "text": [
            "x_train shape: (50000, 32, 32, 3)\n",
            "50000 train samples\n",
            "10000 test samples\n"
          ],
          "name": "stdout"
        }
      ]
    },
    {
      "metadata": {
        "id": "11EYIBpvEFLt",
        "colab_type": "code",
        "colab": {}
      },
      "cell_type": "code",
      "source": [
        "from keras.layers import Layer, Dense\n",
        "from keras import backend as K\n",
        "\n",
        "class DenseK( Layer ) :\n",
        "    def __init__( self, K=3, **kwargs ) :\n",
        "        self.K = K\n",
        "        super( DenseK, self ).__init__( **kwargs )\n",
        "    def build( self, input_shape ) :\n",
        "        feat_dims = input_shape[-1]\n",
        "        assert feat_dims % self.K == 0\n",
        "        self.kernel = self.add_weight(shape=( 1, feat_dims ),\n",
        "                                      initializer='glorot_uniform',\n",
        "                                      name='kernel' )\n",
        "        self.bias = self.add_weight(shape=( 1, feat_dims//self.K ),\n",
        "                                      initializer='zeros',\n",
        "                                      name='bias' )\n",
        "        self.xk_shape = (-1, feat_dims//self.K, self.K )\n",
        "    def call( self, x ) :\n",
        "        # 1. element-wise product between x and kernel\n",
        "        xk = x * self.kernel\n",
        "        # 2. reshape xk, xk.shape = (batch_size, input_feat_dim//3, 3 )\n",
        "        xk = K.reshape( xk, self.xk_shape ) \n",
        "        # 3. compute y for every K elements in xk\n",
        "        y = K.sum( xk, axis=-1, keepdims=False ) + self.bias\n",
        "        return y \n",
        "    def compute_output_shape( self, input_shape ) :\n",
        "        batch_size, feat_dims = input_shape\n",
        "        return ( batch_size, feat_dims//self.K )"
      ],
      "execution_count": 0,
      "outputs": []
    },
    {
      "metadata": {
        "id": "Rwl9dio2-WVe",
        "colab_type": "code",
        "colab": {}
      },
      "cell_type": "code",
      "source": [
        "# initiate RMSprop optimizer\n",
        "opt = keras.optimizers.rmsprop(lr=0.0001, decay=1e-6)"
      ],
      "execution_count": 0,
      "outputs": []
    },
    {
      "metadata": {
        "id": "kD1bDDHb-RZx",
        "colab_type": "code",
        "colab": {}
      },
      "cell_type": "code",
      "source": [
        "from keras.layers import Input\n",
        "# Convert class vectors to binary class matrices.\n",
        "y_train = keras.utils.to_categorical(y_train, num_classes)\n",
        "y_test = keras.utils.to_categorical(y_test, num_classes)\n",
        "\n",
        "model = Sequential()\n",
        "\n",
        "\n",
        "\n",
        "model.add(Conv2D(32, (3, 3), padding='same',\n",
        "                 input_shape=x_train.shape[1:]))\n",
        "##Batch Normalization Layer\n",
        "model.add(keras.layers.BatchNormalization(axis=-1, momentum=0.99, epsilon=0.001, center=True, scale=True, beta_initializer='zeros', gamma_initializer='ones', moving_mean_initializer='zeros', moving_variance_initializer='ones', beta_regularizer=None, gamma_regularizer=None, beta_constraint=None, gamma_constraint=None))\n",
        "##Noise Layer\n",
        "model.add(keras.layers.GaussianNoise(0.1))\n",
        "##Custom Layer\n",
        "#model.add(DenseK(K=3, name='3-neuron-dense'))\n",
        "model.add(Activation('relu'))\n",
        "model.add(Conv2D(32, (3, 3)))\n",
        "model.add(Activation('relu'))\n",
        "model.add(MaxPooling2D(pool_size=(2, 2)))\n",
        "model.add(Dropout(0.25))\n",
        "\n",
        "model.add(Conv2D(64, (3, 3), padding='same'))\n",
        "model.add(Activation('relu'))\n",
        "model.add(Conv2D(64, (3, 3)))\n",
        "model.add(Activation('relu'))\n",
        "model.add(MaxPooling2D(pool_size=(2, 2)))\n",
        "model.add(Dropout(0.25))\n",
        "\n",
        "model.add(Flatten())\n",
        "model.add(Dense(512))\n",
        "model.add(Activation('relu'))\n",
        "model.add(Dropout(0.5))\n",
        "model.add(Dense(num_classes))\n",
        "\n",
        "model.add(Activation('softmax'))\n",
        "\n"
      ],
      "execution_count": 0,
      "outputs": []
    },
    {
      "metadata": {
        "id": "np4O4k1d-bPh",
        "colab_type": "code",
        "colab": {}
      },
      "cell_type": "code",
      "source": [
        "# Let's train the model using RMSprop\n",
        "model.compile(loss='categorical_crossentropy',\n",
        "              optimizer=opt,\n",
        "              metrics=['accuracy'])"
      ],
      "execution_count": 0,
      "outputs": []
    },
    {
      "metadata": {
        "id": "MC14QpKv-frA",
        "colab_type": "code",
        "colab": {}
      },
      "cell_type": "code",
      "source": [
        "x_train = x_train.astype('float32')\n",
        "x_test = x_test.astype('float32')\n",
        "x_train /= 255\n",
        "x_test /= 255"
      ],
      "execution_count": 0,
      "outputs": []
    },
    {
      "metadata": {
        "id": "sq4d0a51-nF-",
        "colab_type": "code",
        "outputId": "b59268dd-11ab-4256-9591-945a25e73269",
        "colab": {
          "base_uri": "https://localhost:8080/",
          "height": 748
        }
      },
      "cell_type": "code",
      "source": [
        "if not data_augmentation:\n",
        "    print('Not using data augmentation.')\n",
        "    model.fit(x_train, y_train,\n",
        "              batch_size=batch_size,\n",
        "              epochs=epochs,\n",
        "              validation_data=(x_test, y_test),\n",
        "              shuffle=True)\n",
        "else:\n",
        "    print('Using real-time data augmentation.')\n",
        "    # This will do preprocessing and realtime data augmentation:\n",
        "    datagen = ImageDataGenerator(\n",
        "        featurewise_center=False,  # set input mean to 0 over the dataset\n",
        "        samplewise_center=False,  # set each sample mean to 0\n",
        "        featurewise_std_normalization=False,  # divide inputs by std of the dataset\n",
        "        samplewise_std_normalization=False,  # divide each input by its std\n",
        "        zca_whitening=False,  # apply ZCA whitening\n",
        "        zca_epsilon=1e-06,  # epsilon for ZCA whitening\n",
        "        rotation_range=0,  # randomly rotate images in the range (degrees, 0 to 180)\n",
        "        # randomly shift images horizontally (fraction of total width)\n",
        "        width_shift_range=0.1,\n",
        "        # randomly shift images vertically (fraction of total height)\n",
        "        height_shift_range=0.1,\n",
        "        shear_range=0.,  # set range for random shear\n",
        "        zoom_range=0.,  # set range for random zoom\n",
        "        channel_shift_range=0.,  # set range for random channel shifts\n",
        "        # set mode for filling points outside the input boundaries\n",
        "        fill_mode='nearest',\n",
        "        cval=0.,  # value used for fill_mode = \"constant\"\n",
        "        horizontal_flip=True,  # randomly flip images\n",
        "        vertical_flip=False,  # randomly flip images\n",
        "        # set rescaling factor (applied before any other transformation)\n",
        "        rescale=None,\n",
        "        # set function that will be applied on each input\n",
        "        preprocessing_function=None,\n",
        "        # image data format, either \"channels_first\" or \"channels_last\"\n",
        "        data_format=None,\n",
        "        # fraction of images reserved for validation (strictly between 0 and 1)\n",
        "        validation_split=0.0)\n",
        "\n",
        "    # Compute quantities required for feature-wise normalization\n",
        "    # (std, mean, and principal components if ZCA whitening is applied).\n",
        "    datagen.fit(x_train)\n",
        "\n",
        "    # Fit the model on the batches generated by datagen.flow().\n",
        "    model.fit_generator(datagen.flow(x_train, y_train,\n",
        "                                     batch_size=batch_size),\n",
        "                        epochs=epochs,steps_per_epoch=500,\n",
        "                        validation_data=(x_test, y_test),\n",
        "                        workers=4)"
      ],
      "execution_count": 0,
      "outputs": [
        {
          "output_type": "stream",
          "text": [
            "Using real-time data augmentation.\n",
            "Epoch 1/100\n",
            "500/500 [==============================] - 77s 154ms/step - loss: 2.0053 - acc: 0.2659 - val_loss: 1.7621 - val_acc: 0.3718\n",
            "Epoch 2/100\n",
            "500/500 [==============================] - 51s 103ms/step - loss: 1.7359 - acc: 0.3684 - val_loss: 1.5228 - val_acc: 0.4526\n",
            "Epoch 3/100\n",
            "500/500 [==============================] - 43s 85ms/step - loss: 1.6195 - acc: 0.4080 - val_loss: 1.4562 - val_acc: 0.4696\n",
            "Epoch 4/100\n",
            "500/500 [==============================] - 41s 81ms/step - loss: 1.5221 - acc: 0.4486 - val_loss: 1.3498 - val_acc: 0.5121\n",
            "Epoch 5/100\n",
            "500/500 [==============================] - 32s 65ms/step - loss: 1.4783 - acc: 0.4629 - val_loss: 1.3027 - val_acc: 0.5368\n",
            "Epoch 6/100\n",
            "500/500 [==============================] - 29s 59ms/step - loss: 1.4462 - acc: 0.4787 - val_loss: 1.2779 - val_acc: 0.5388\n",
            "Epoch 7/100\n",
            "500/500 [==============================] - 28s 57ms/step - loss: 1.3918 - acc: 0.4936 - val_loss: 1.2449 - val_acc: 0.5503\n",
            "Epoch 8/100\n",
            "500/500 [==============================] - 24s 48ms/step - loss: 1.3558 - acc: 0.5191 - val_loss: 1.2825 - val_acc: 0.5395\n",
            "Epoch 9/100\n",
            "500/500 [==============================] - 22s 44ms/step - loss: 1.3499 - acc: 0.5197 - val_loss: 1.1348 - val_acc: 0.5931\n",
            "Epoch 10/100\n",
            "500/500 [==============================] - 21s 41ms/step - loss: 1.2888 - acc: 0.5377 - val_loss: 1.1870 - val_acc: 0.5778\n",
            "Epoch 11/100\n",
            "500/500 [==============================] - 20s 41ms/step - loss: 1.2664 - acc: 0.5510 - val_loss: 1.0726 - val_acc: 0.6218\n",
            "Epoch 12/100\n",
            "500/500 [==============================] - 21s 42ms/step - loss: 1.2499 - acc: 0.5567 - val_loss: 1.1722 - val_acc: 0.5904\n",
            "Epoch 13/100\n",
            "500/500 [==============================] - 19s 38ms/step - loss: 1.2159 - acc: 0.5665 - val_loss: 1.0760 - val_acc: 0.6227\n",
            "Epoch 14/100\n",
            "500/500 [==============================] - 16s 31ms/step - loss: 1.1960 - acc: 0.5784 - val_loss: 1.0415 - val_acc: 0.6361\n",
            "Epoch 15/100\n",
            "500/500 [==============================] - 16s 31ms/step - loss: 1.1746 - acc: 0.5883 - val_loss: 1.0802 - val_acc: 0.6186\n",
            "Epoch 16/100\n",
            "500/500 [==============================] - 16s 31ms/step - loss: 1.1575 - acc: 0.5921 - val_loss: 0.9717 - val_acc: 0.6622\n",
            "Epoch 17/100\n",
            "500/500 [==============================] - 16s 32ms/step - loss: 1.1354 - acc: 0.5989 - val_loss: 1.0582 - val_acc: 0.6342\n",
            "Epoch 18/100\n",
            "500/500 [==============================] - 16s 31ms/step - loss: 1.1184 - acc: 0.6036 - val_loss: 1.0523 - val_acc: 0.6374\n",
            "Epoch 19/100\n",
            "500/500 [==============================] - 16s 31ms/step - loss: 1.1139 - acc: 0.6046 - val_loss: 0.9474 - val_acc: 0.6639\n",
            "Epoch 20/100\n",
            "500/500 [==============================] - 16s 32ms/step - loss: 1.1011 - acc: 0.6105 - val_loss: 0.9934 - val_acc: 0.6550\n",
            "Epoch 21/100\n",
            "203/500 [===========>..................] - ETA: 8s - loss: 1.0809 - acc: 0.6273"
          ],
          "name": "stdout"
        }
      ]
    },
    {
      "metadata": {
        "id": "XJOMRBtc-r77",
        "colab_type": "code",
        "colab": {}
      },
      "cell_type": "code",
      "source": [
        "# Save model and weights\n",
        "if not os.path.isdir(save_dir):\n",
        "    os.makedirs(save_dir)\n",
        "model_path = os.path.join(save_dir, model_name)\n",
        "model.save(model_path)\n",
        "print('Saved trained model at %s ' % model_path)"
      ],
      "execution_count": 0,
      "outputs": []
    },
    {
      "metadata": {
        "id": "yidaCcOb-uh4",
        "colab_type": "code",
        "colab": {}
      },
      "cell_type": "code",
      "source": [
        "# Score trained model.\n",
        "scores = model.evaluate(x_test, y_test, verbose=1)\n",
        "print('Test loss:', scores[0])\n",
        "print('Test accuracy:', scores[1])"
      ],
      "execution_count": 0,
      "outputs": []
    }
  ]
}
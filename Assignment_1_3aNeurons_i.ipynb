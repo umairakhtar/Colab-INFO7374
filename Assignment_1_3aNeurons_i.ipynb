{
  "nbformat": 4,
  "nbformat_minor": 0,
  "metadata": {
    "colab": {
      "name": "Assignment-1-3aNeurons-i.ipynb",
      "version": "0.3.2",
      "provenance": [],
      "include_colab_link": true
    },
    "kernelspec": {
      "name": "python3",
      "display_name": "Python 3"
    },
    "accelerator": "GPU"
  },
  "cells": [
    {
      "cell_type": "markdown",
      "metadata": {
        "id": "view-in-github",
        "colab_type": "text"
      },
      "source": [
        "<a href=\"https://colab.research.google.com/github/umairakhtar/Colab-INFO7374/blob/master/Assignment_1_3aNeurons_i.ipynb\" target=\"_parent\"><img src=\"https://colab.research.google.com/assets/colab-badge.svg\" alt=\"Open In Colab\"/></a>"
      ]
    },
    {
      "metadata": {
        "id": "kLpotzHmYAfy",
        "colab_type": "code",
        "outputId": "f780b99d-a9af-4d3e-8276-3d68537767c5",
        "colab": {
          "base_uri": "https://localhost:8080/",
          "height": 34
        }
      },
      "cell_type": "code",
      "source": [
        "from keras.datasets import cifar10"
      ],
      "execution_count": 1,
      "outputs": [
        {
          "output_type": "stream",
          "text": [
            "Using TensorFlow backend.\n"
          ],
          "name": "stderr"
        }
      ]
    },
    {
      "metadata": {
        "id": "we_mML7zlMQi",
        "colab_type": "code",
        "colab": {}
      },
      "cell_type": "code",
      "source": [
        "(x_train, y_train), (x_test, y_test) = cifar10.load_data()"
      ],
      "execution_count": 0,
      "outputs": []
    },
    {
      "metadata": {
        "id": "cO55-ftSzfjW",
        "colab_type": "code",
        "colab": {}
      },
      "cell_type": "code",
      "source": [
        "from keras import models\n",
        "from keras import layers"
      ],
      "execution_count": 0,
      "outputs": []
    },
    {
      "metadata": {
        "id": "Lp3jKLuit6cW",
        "colab_type": "code",
        "colab": {}
      },
      "cell_type": "code",
      "source": [
        "network = models.Sequential()"
      ],
      "execution_count": 0,
      "outputs": []
    },
    {
      "metadata": {
        "id": "o1evkTpVnTl6",
        "colab_type": "code",
        "colab": {}
      },
      "cell_type": "code",
      "source": [
        "network.add(layers.Dense(700, activation='relu', input_shape=(32 * 32 * 3,)))"
      ],
      "execution_count": 0,
      "outputs": []
    },
    {
      "metadata": {
        "id": "F9CDYqgUnh02",
        "colab_type": "code",
        "colab": {}
      },
      "cell_type": "code",
      "source": [
        "network.add(layers.Dense(10, activation='softmax'))"
      ],
      "execution_count": 0,
      "outputs": []
    },
    {
      "metadata": {
        "id": "H92VYZjCnlmW",
        "colab_type": "code",
        "colab": {}
      },
      "cell_type": "code",
      "source": [
        "network.compile(optimizer='rmsprop',\n",
        "loss='categorical_crossentropy',\n",
        "metrics=['accuracy'])"
      ],
      "execution_count": 0,
      "outputs": []
    },
    {
      "metadata": {
        "id": "6g9b7z6W0Bh5",
        "colab_type": "code",
        "colab": {}
      },
      "cell_type": "code",
      "source": [
        "x_train = x_train.reshape((50000, 32 * 32 *3))\n",
        "x_train = x_train.astype('float32') / 255\n",
        "x_test = x_test.reshape((10000, 32 * 32 *3))\n",
        "x_test = x_test.astype('float32') / 255"
      ],
      "execution_count": 0,
      "outputs": []
    },
    {
      "metadata": {
        "id": "PxjYJL_qg2V1",
        "colab_type": "code",
        "colab": {}
      },
      "cell_type": "code",
      "source": [
        "from keras.utils import to_categorical\n",
        "y_train = to_categorical(y_train)\n",
        "y_test = to_categorical(y_test)"
      ],
      "execution_count": 0,
      "outputs": []
    },
    {
      "metadata": {
        "id": "xWiT63O00oV8",
        "colab_type": "code",
        "outputId": "339557c4-bfb6-4674-d876-e3f7ab2c1da8",
        "colab": {
          "base_uri": "https://localhost:8080/",
          "height": 1054
        }
      },
      "cell_type": "code",
      "source": [
        "network.fit(x_train, y_train, epochs=30, batch_size=128)"
      ],
      "execution_count": 10,
      "outputs": [
        {
          "output_type": "stream",
          "text": [
            "Epoch 1/30\n",
            "50000/50000 [==============================] - 3s 69us/step - loss: 3.6777 - acc: 0.2252\n",
            "Epoch 2/30\n",
            "50000/50000 [==============================] - 3s 54us/step - loss: 1.8361 - acc: 0.3414\n",
            "Epoch 3/30\n",
            "50000/50000 [==============================] - 3s 54us/step - loss: 1.7359 - acc: 0.3833\n",
            "Epoch 4/30\n",
            "50000/50000 [==============================] - 3s 54us/step - loss: 1.6681 - acc: 0.4079\n",
            "Epoch 5/30\n",
            "50000/50000 [==============================] - 3s 54us/step - loss: 1.6205 - acc: 0.4261\n",
            "Epoch 6/30\n",
            "50000/50000 [==============================] - 3s 54us/step - loss: 1.5860 - acc: 0.4363\n",
            "Epoch 7/30\n",
            "50000/50000 [==============================] - 3s 54us/step - loss: 1.5541 - acc: 0.4505\n",
            "Epoch 8/30\n",
            "50000/50000 [==============================] - 3s 53us/step - loss: 1.5273 - acc: 0.4617\n",
            "Epoch 9/30\n",
            "50000/50000 [==============================] - 3s 54us/step - loss: 1.5063 - acc: 0.4683\n",
            "Epoch 10/30\n",
            "50000/50000 [==============================] - 3s 54us/step - loss: 1.4889 - acc: 0.4762\n",
            "Epoch 11/30\n",
            "50000/50000 [==============================] - 3s 54us/step - loss: 1.4713 - acc: 0.4807\n",
            "Epoch 12/30\n",
            "50000/50000 [==============================] - 3s 54us/step - loss: 1.4562 - acc: 0.4861\n",
            "Epoch 13/30\n",
            "50000/50000 [==============================] - 3s 54us/step - loss: 1.4381 - acc: 0.4939\n",
            "Epoch 14/30\n",
            "50000/50000 [==============================] - 3s 54us/step - loss: 1.4250 - acc: 0.4987\n",
            "Epoch 15/30\n",
            "50000/50000 [==============================] - 3s 54us/step - loss: 1.4123 - acc: 0.5037\n",
            "Epoch 16/30\n",
            "50000/50000 [==============================] - 3s 54us/step - loss: 1.3997 - acc: 0.5064\n",
            "Epoch 17/30\n",
            "50000/50000 [==============================] - 3s 54us/step - loss: 1.3900 - acc: 0.5096\n",
            "Epoch 18/30\n",
            "50000/50000 [==============================] - 3s 54us/step - loss: 1.3769 - acc: 0.5149\n",
            "Epoch 19/30\n",
            "50000/50000 [==============================] - 3s 54us/step - loss: 1.3696 - acc: 0.5177\n",
            "Epoch 20/30\n",
            "50000/50000 [==============================] - 3s 53us/step - loss: 1.3564 - acc: 0.5212\n",
            "Epoch 21/30\n",
            "50000/50000 [==============================] - 3s 54us/step - loss: 1.3452 - acc: 0.5264\n",
            "Epoch 22/30\n",
            "50000/50000 [==============================] - 3s 54us/step - loss: 1.3354 - acc: 0.5298\n",
            "Epoch 23/30\n",
            "50000/50000 [==============================] - 3s 53us/step - loss: 1.3263 - acc: 0.5329\n",
            "Epoch 24/30\n",
            "50000/50000 [==============================] - 3s 53us/step - loss: 1.3151 - acc: 0.5360\n",
            "Epoch 25/30\n",
            "50000/50000 [==============================] - 3s 53us/step - loss: 1.3059 - acc: 0.5402\n",
            "Epoch 26/30\n",
            "50000/50000 [==============================] - 3s 53us/step - loss: 1.2985 - acc: 0.5436\n",
            "Epoch 27/30\n",
            "50000/50000 [==============================] - 3s 53us/step - loss: 1.2913 - acc: 0.5442\n",
            "Epoch 28/30\n",
            "50000/50000 [==============================] - 3s 53us/step - loss: 1.2838 - acc: 0.5501\n",
            "Epoch 29/30\n",
            "50000/50000 [==============================] - 3s 53us/step - loss: 1.2763 - acc: 0.5518\n",
            "Epoch 30/30\n",
            "50000/50000 [==============================] - 3s 53us/step - loss: 1.2705 - acc: 0.5530\n"
          ],
          "name": "stdout"
        },
        {
          "output_type": "execute_result",
          "data": {
            "text/plain": [
              "<keras.callbacks.History at 0x7fa6a2bfddd8>"
            ]
          },
          "metadata": {
            "tags": []
          },
          "execution_count": 10
        }
      ]
    },
    {
      "metadata": {
        "id": "eCw5S5OU0P4q",
        "colab_type": "code",
        "outputId": "496441dd-7ed9-40f6-ce2a-21bfb3be34da",
        "colab": {
          "base_uri": "https://localhost:8080/",
          "height": 34
        }
      },
      "cell_type": "code",
      "source": [
        "test_loss, test_acc = network.evaluate(x_test, y_test)"
      ],
      "execution_count": 11,
      "outputs": [
        {
          "output_type": "stream",
          "text": [
            "10000/10000 [==============================] - 1s 57us/step\n"
          ],
          "name": "stdout"
        }
      ]
    },
    {
      "metadata": {
        "id": "E844W8zj601Y",
        "colab_type": "code",
        "outputId": "6cc69920-327c-43c6-e181-5dbd94170b4d",
        "colab": {
          "base_uri": "https://localhost:8080/",
          "height": 34
        }
      },
      "cell_type": "code",
      "source": [
        "print('test_acc:', test_acc)"
      ],
      "execution_count": 12,
      "outputs": [
        {
          "output_type": "stream",
          "text": [
            "test_acc: 0.5005\n"
          ],
          "name": "stdout"
        }
      ]
    }
  ]
}
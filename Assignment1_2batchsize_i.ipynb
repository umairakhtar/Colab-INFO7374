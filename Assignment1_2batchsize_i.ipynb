{
  "nbformat": 4,
  "nbformat_minor": 0,
  "metadata": {
    "colab": {
      "name": "Assignment1-2batchsize-i.ipynb",
      "version": "0.3.2",
      "provenance": [],
      "include_colab_link": true
    },
    "kernelspec": {
      "name": "python3",
      "display_name": "Python 3"
    },
    "accelerator": "GPU"
  },
  "cells": [
    {
      "cell_type": "markdown",
      "metadata": {
        "id": "view-in-github",
        "colab_type": "text"
      },
      "source": [
        "<a href=\"https://colab.research.google.com/github/umairakhtar/Colab-INFO7374/blob/master/Assignment1_2batchsize_i.ipynb\" target=\"_parent\"><img src=\"https://colab.research.google.com/assets/colab-badge.svg\" alt=\"Open In Colab\"/></a>"
      ]
    },
    {
      "metadata": {
        "id": "kLpotzHmYAfy",
        "colab_type": "code",
        "outputId": "6e6a44fa-bea0-4409-c5e2-97444e3a1d09",
        "colab": {
          "base_uri": "https://localhost:8080/",
          "height": 34
        }
      },
      "cell_type": "code",
      "source": [
        "from keras.datasets import cifar10"
      ],
      "execution_count": 1,
      "outputs": [
        {
          "output_type": "stream",
          "text": [
            "Using TensorFlow backend.\n"
          ],
          "name": "stderr"
        }
      ]
    },
    {
      "metadata": {
        "id": "we_mML7zlMQi",
        "colab_type": "code",
        "colab": {
          "base_uri": "https://localhost:8080/",
          "height": 51
        },
        "outputId": "be76c3d5-6749-40b4-a1ce-a164f2ccd41c"
      },
      "cell_type": "code",
      "source": [
        "(x_train, y_train), (x_test, y_test) = cifar10.load_data()"
      ],
      "execution_count": 2,
      "outputs": [
        {
          "output_type": "stream",
          "text": [
            "Downloading data from https://www.cs.toronto.edu/~kriz/cifar-10-python.tar.gz\n",
            "170500096/170498071 [==============================] - 15s 0us/step\n"
          ],
          "name": "stdout"
        }
      ]
    },
    {
      "metadata": {
        "id": "cO55-ftSzfjW",
        "colab_type": "code",
        "colab": {}
      },
      "cell_type": "code",
      "source": [
        "from keras import models\n",
        "from keras import layers"
      ],
      "execution_count": 0,
      "outputs": []
    },
    {
      "metadata": {
        "id": "Lp3jKLuit6cW",
        "colab_type": "code",
        "colab": {}
      },
      "cell_type": "code",
      "source": [
        "network = models.Sequential()"
      ],
      "execution_count": 0,
      "outputs": []
    },
    {
      "metadata": {
        "id": "o1evkTpVnTl6",
        "colab_type": "code",
        "colab": {}
      },
      "cell_type": "code",
      "source": [
        "network.add(layers.Dense(512, activation='relu', input_shape=(32 * 32 * 3,)))"
      ],
      "execution_count": 0,
      "outputs": []
    },
    {
      "metadata": {
        "id": "F9CDYqgUnh02",
        "colab_type": "code",
        "colab": {}
      },
      "cell_type": "code",
      "source": [
        "network.add(layers.Dense(10, activation='softmax'))"
      ],
      "execution_count": 0,
      "outputs": []
    },
    {
      "metadata": {
        "id": "H92VYZjCnlmW",
        "colab_type": "code",
        "colab": {}
      },
      "cell_type": "code",
      "source": [
        "network.compile(optimizer='rmsprop',\n",
        "loss='categorical_crossentropy',\n",
        "metrics=['accuracy'])"
      ],
      "execution_count": 0,
      "outputs": []
    },
    {
      "metadata": {
        "id": "6g9b7z6W0Bh5",
        "colab_type": "code",
        "colab": {}
      },
      "cell_type": "code",
      "source": [
        "x_train = x_train.reshape((50000, 32 * 32 *3))\n",
        "x_train = x_train.astype('float32') / 255\n",
        "x_test = x_test.reshape((10000, 32 * 32 *3))\n",
        "x_test = x_test.astype('float32') / 255"
      ],
      "execution_count": 0,
      "outputs": []
    },
    {
      "metadata": {
        "id": "PxjYJL_qg2V1",
        "colab_type": "code",
        "colab": {}
      },
      "cell_type": "code",
      "source": [
        "from keras.utils import to_categorical\n",
        "y_train = to_categorical(y_train)\n",
        "y_test = to_categorical(y_test)"
      ],
      "execution_count": 0,
      "outputs": []
    },
    {
      "metadata": {
        "id": "-UACYg_SK2So",
        "colab_type": "code",
        "outputId": "8e37aa4e-7efe-4299-89f8-bbe5c1d1d172",
        "colab": {
          "base_uri": "https://localhost:8080/",
          "height": 1054
        }
      },
      "cell_type": "code",
      "source": [
        "network.fit(x_train, y_train, epochs=30, batch_size=200)"
      ],
      "execution_count": 10,
      "outputs": [
        {
          "output_type": "stream",
          "text": [
            "Epoch 1/30\n",
            "50000/50000 [==============================] - 4s 72us/step - loss: 3.6611 - acc: 0.2137\n",
            "Epoch 2/30\n",
            "50000/50000 [==============================] - 2s 35us/step - loss: 1.8961 - acc: 0.3194\n",
            "Epoch 3/30\n",
            "50000/50000 [==============================] - 2s 35us/step - loss: 1.7838 - acc: 0.3602\n",
            "Epoch 4/30\n",
            "50000/50000 [==============================] - 2s 35us/step - loss: 1.7172 - acc: 0.3903\n",
            "Epoch 5/30\n",
            "50000/50000 [==============================] - 2s 35us/step - loss: 1.6782 - acc: 0.4069\n",
            "Epoch 6/30\n",
            "50000/50000 [==============================] - 2s 35us/step - loss: 1.6366 - acc: 0.4218\n",
            "Epoch 7/30\n",
            "50000/50000 [==============================] - 2s 36us/step - loss: 1.6068 - acc: 0.4349\n",
            "Epoch 8/30\n",
            "50000/50000 [==============================] - 2s 36us/step - loss: 1.5803 - acc: 0.4451\n",
            "Epoch 9/30\n",
            "50000/50000 [==============================] - 2s 36us/step - loss: 1.5547 - acc: 0.4527\n",
            "Epoch 10/30\n",
            "50000/50000 [==============================] - 2s 36us/step - loss: 1.5358 - acc: 0.4593\n",
            "Epoch 11/30\n",
            "50000/50000 [==============================] - 2s 36us/step - loss: 1.5117 - acc: 0.4710\n",
            "Epoch 12/30\n",
            "50000/50000 [==============================] - 2s 37us/step - loss: 1.4995 - acc: 0.4716\n",
            "Epoch 13/30\n",
            "50000/50000 [==============================] - 2s 35us/step - loss: 1.4794 - acc: 0.4809\n",
            "Epoch 14/30\n",
            "50000/50000 [==============================] - 2s 35us/step - loss: 1.4668 - acc: 0.4843\n",
            "Epoch 15/30\n",
            "50000/50000 [==============================] - 2s 35us/step - loss: 1.4550 - acc: 0.4907\n",
            "Epoch 16/30\n",
            "50000/50000 [==============================] - 2s 35us/step - loss: 1.4388 - acc: 0.4933\n",
            "Epoch 17/30\n",
            "50000/50000 [==============================] - 2s 35us/step - loss: 1.4297 - acc: 0.4991\n",
            "Epoch 18/30\n",
            "50000/50000 [==============================] - 2s 35us/step - loss: 1.4157 - acc: 0.5039\n",
            "Epoch 19/30\n",
            "50000/50000 [==============================] - 2s 35us/step - loss: 1.4061 - acc: 0.5040\n",
            "Epoch 20/30\n",
            "50000/50000 [==============================] - 2s 35us/step - loss: 1.3967 - acc: 0.5109\n",
            "Epoch 21/30\n",
            "50000/50000 [==============================] - 2s 35us/step - loss: 1.3872 - acc: 0.5121\n",
            "Epoch 22/30\n",
            "50000/50000 [==============================] - 2s 36us/step - loss: 1.3767 - acc: 0.5166\n",
            "Epoch 23/30\n",
            "50000/50000 [==============================] - 2s 35us/step - loss: 1.3664 - acc: 0.5202\n",
            "Epoch 24/30\n",
            "50000/50000 [==============================] - 2s 35us/step - loss: 1.3575 - acc: 0.5206\n",
            "Epoch 25/30\n",
            "50000/50000 [==============================] - 2s 35us/step - loss: 1.3501 - acc: 0.5257\n",
            "Epoch 26/30\n",
            "50000/50000 [==============================] - 2s 35us/step - loss: 1.3430 - acc: 0.5263\n",
            "Epoch 27/30\n",
            "50000/50000 [==============================] - 2s 35us/step - loss: 1.3309 - acc: 0.5326\n",
            "Epoch 28/30\n",
            "50000/50000 [==============================] - 2s 35us/step - loss: 1.3216 - acc: 0.5339\n",
            "Epoch 29/30\n",
            "50000/50000 [==============================] - 2s 35us/step - loss: 1.3187 - acc: 0.5377\n",
            "Epoch 30/30\n",
            "50000/50000 [==============================] - 2s 35us/step - loss: 1.3101 - acc: 0.5388\n"
          ],
          "name": "stdout"
        },
        {
          "output_type": "execute_result",
          "data": {
            "text/plain": [
              "<keras.callbacks.History at 0x7ff24273d748>"
            ]
          },
          "metadata": {
            "tags": []
          },
          "execution_count": 10
        }
      ]
    },
    {
      "metadata": {
        "id": "04d4iV6hcEpC",
        "colab_type": "code",
        "outputId": "1de30fd5-16b4-4ab9-87b2-21c0cfba0da8",
        "colab": {
          "base_uri": "https://localhost:8080/",
          "height": 34
        }
      },
      "cell_type": "code",
      "source": [
        "test_loss, test_acc = network.evaluate(x_test, y_test)"
      ],
      "execution_count": 11,
      "outputs": [
        {
          "output_type": "stream",
          "text": [
            "10000/10000 [==============================] - 1s 55us/step\n"
          ],
          "name": "stdout"
        }
      ]
    },
    {
      "metadata": {
        "id": "cVb6J33icIe3",
        "colab_type": "code",
        "outputId": "8b097547-d691-4c4e-fcd9-4a0a70c552bd",
        "colab": {
          "base_uri": "https://localhost:8080/",
          "height": 34
        }
      },
      "cell_type": "code",
      "source": [
        "print('test_acc:', test_acc)"
      ],
      "execution_count": 12,
      "outputs": [
        {
          "output_type": "stream",
          "text": [
            "test_acc: 0.4835\n"
          ],
          "name": "stdout"
        }
      ]
    }
  ]
}
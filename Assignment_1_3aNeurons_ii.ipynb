{
  "nbformat": 4,
  "nbformat_minor": 0,
  "metadata": {
    "colab": {
      "name": "Assignment-1-3aNeurons-ii.ipynb",
      "version": "0.3.2",
      "provenance": [],
      "include_colab_link": true
    },
    "kernelspec": {
      "name": "python3",
      "display_name": "Python 3"
    },
    "accelerator": "GPU"
  },
  "cells": [
    {
      "cell_type": "markdown",
      "metadata": {
        "id": "view-in-github",
        "colab_type": "text"
      },
      "source": [
        "<a href=\"https://colab.research.google.com/github/umairakhtar/Colab-INFO7374/blob/master/Assignment_1_3aNeurons_ii.ipynb\" target=\"_parent\"><img src=\"https://colab.research.google.com/assets/colab-badge.svg\" alt=\"Open In Colab\"/></a>"
      ]
    },
    {
      "metadata": {
        "id": "kLpotzHmYAfy",
        "colab_type": "code",
        "outputId": "5e593935-36ee-460b-f787-1aa1913c6eb8",
        "colab": {
          "base_uri": "https://localhost:8080/",
          "height": 34
        }
      },
      "cell_type": "code",
      "source": [
        "from keras.datasets import cifar10"
      ],
      "execution_count": 0,
      "outputs": [
        {
          "output_type": "stream",
          "text": [
            "Using TensorFlow backend.\n"
          ],
          "name": "stderr"
        }
      ]
    },
    {
      "metadata": {
        "id": "we_mML7zlMQi",
        "colab_type": "code",
        "colab": {}
      },
      "cell_type": "code",
      "source": [
        "(x_train, y_train), (x_test, y_test) = cifar10.load_data()"
      ],
      "execution_count": 0,
      "outputs": []
    },
    {
      "metadata": {
        "id": "cO55-ftSzfjW",
        "colab_type": "code",
        "colab": {}
      },
      "cell_type": "code",
      "source": [
        "from keras import models\n",
        "from keras import layers"
      ],
      "execution_count": 0,
      "outputs": []
    },
    {
      "metadata": {
        "id": "Lp3jKLuit6cW",
        "colab_type": "code",
        "colab": {}
      },
      "cell_type": "code",
      "source": [
        "network = models.Sequential()"
      ],
      "execution_count": 0,
      "outputs": []
    },
    {
      "metadata": {
        "id": "o1evkTpVnTl6",
        "colab_type": "code",
        "colab": {}
      },
      "cell_type": "code",
      "source": [
        "network.add(layers.Dense(1000, activation='relu', input_shape=(32 * 32 * 3,)))"
      ],
      "execution_count": 0,
      "outputs": []
    },
    {
      "metadata": {
        "id": "F9CDYqgUnh02",
        "colab_type": "code",
        "colab": {}
      },
      "cell_type": "code",
      "source": [
        "network.add(layers.Dense(10, activation='softmax'))"
      ],
      "execution_count": 0,
      "outputs": []
    },
    {
      "metadata": {
        "id": "H92VYZjCnlmW",
        "colab_type": "code",
        "colab": {}
      },
      "cell_type": "code",
      "source": [
        "network.compile(optimizer='rmsprop',\n",
        "loss='categorical_crossentropy',\n",
        "metrics=['accuracy'])"
      ],
      "execution_count": 0,
      "outputs": []
    },
    {
      "metadata": {
        "id": "6g9b7z6W0Bh5",
        "colab_type": "code",
        "colab": {}
      },
      "cell_type": "code",
      "source": [
        "x_train = x_train.reshape((50000, 32 * 32 *3))\n",
        "x_train = x_train.astype('float32') / 255\n",
        "x_test = x_test.reshape((10000, 32 * 32 *3))\n",
        "x_test = x_test.astype('float32') / 255"
      ],
      "execution_count": 0,
      "outputs": []
    },
    {
      "metadata": {
        "id": "PxjYJL_qg2V1",
        "colab_type": "code",
        "colab": {}
      },
      "cell_type": "code",
      "source": [
        "from keras.utils import to_categorical\n",
        "y_train = to_categorical(y_train)\n",
        "y_test = to_categorical(y_test)"
      ],
      "execution_count": 0,
      "outputs": []
    },
    {
      "metadata": {
        "id": "xWiT63O00oV8",
        "colab_type": "code",
        "outputId": "03a61fe8-3bf1-4c98-d775-5e4ca70b63ab",
        "colab": {
          "base_uri": "https://localhost:8080/",
          "height": 1054
        }
      },
      "cell_type": "code",
      "source": [
        "network.fit(x_train, y_train, epochs=30, batch_size=128)"
      ],
      "execution_count": 0,
      "outputs": [
        {
          "output_type": "stream",
          "text": [
            "Epoch 1/30\n",
            "50000/50000 [==============================] - 4s 73us/step - loss: 4.3841 - acc: 0.2220\n",
            "Epoch 2/30\n",
            "50000/50000 [==============================] - 3s 55us/step - loss: 1.8367 - acc: 0.3410\n",
            "Epoch 3/30\n",
            "50000/50000 [==============================] - 3s 54us/step - loss: 1.7292 - acc: 0.3806\n",
            "Epoch 4/30\n",
            "50000/50000 [==============================] - 3s 54us/step - loss: 1.6632 - acc: 0.4101\n",
            "Epoch 5/30\n",
            "50000/50000 [==============================] - 3s 55us/step - loss: 1.6133 - acc: 0.4281\n",
            "Epoch 6/30\n",
            "50000/50000 [==============================] - 3s 54us/step - loss: 1.5771 - acc: 0.4392\n",
            "Epoch 7/30\n",
            "50000/50000 [==============================] - 3s 54us/step - loss: 1.5464 - acc: 0.4536\n",
            "Epoch 8/30\n",
            "50000/50000 [==============================] - 3s 54us/step - loss: 1.5258 - acc: 0.4629\n",
            "Epoch 9/30\n",
            "50000/50000 [==============================] - 3s 54us/step - loss: 1.4975 - acc: 0.4691\n",
            "Epoch 10/30\n",
            "50000/50000 [==============================] - 3s 54us/step - loss: 1.4830 - acc: 0.4785\n",
            "Epoch 11/30\n",
            "50000/50000 [==============================] - 3s 54us/step - loss: 1.4615 - acc: 0.4826\n",
            "Epoch 12/30\n",
            "50000/50000 [==============================] - 3s 54us/step - loss: 1.4408 - acc: 0.4918\n",
            "Epoch 13/30\n",
            "50000/50000 [==============================] - 3s 54us/step - loss: 1.4253 - acc: 0.4981\n",
            "Epoch 14/30\n",
            "50000/50000 [==============================] - 3s 54us/step - loss: 1.4120 - acc: 0.5026\n",
            "Epoch 15/30\n",
            "50000/50000 [==============================] - 3s 54us/step - loss: 1.4001 - acc: 0.5057\n",
            "Epoch 16/30\n",
            "50000/50000 [==============================] - 3s 54us/step - loss: 1.3828 - acc: 0.5125\n",
            "Epoch 17/30\n",
            "50000/50000 [==============================] - 3s 54us/step - loss: 1.3716 - acc: 0.5152\n",
            "Epoch 18/30\n",
            "50000/50000 [==============================] - 3s 54us/step - loss: 1.3608 - acc: 0.5198\n",
            "Epoch 19/30\n",
            "50000/50000 [==============================] - 3s 54us/step - loss: 1.3463 - acc: 0.5249\n",
            "Epoch 20/30\n",
            "50000/50000 [==============================] - 3s 54us/step - loss: 1.3346 - acc: 0.5297\n",
            "Epoch 21/30\n",
            "50000/50000 [==============================] - 3s 54us/step - loss: 1.3273 - acc: 0.5351\n",
            "Epoch 22/30\n",
            "50000/50000 [==============================] - 3s 54us/step - loss: 1.3119 - acc: 0.5386\n",
            "Epoch 23/30\n",
            "50000/50000 [==============================] - 3s 54us/step - loss: 1.3026 - acc: 0.5408\n",
            "Epoch 24/30\n",
            "50000/50000 [==============================] - 3s 54us/step - loss: 1.2918 - acc: 0.5459\n",
            "Epoch 25/30\n",
            "50000/50000 [==============================] - 3s 53us/step - loss: 1.2808 - acc: 0.5483\n",
            "Epoch 26/30\n",
            "50000/50000 [==============================] - 3s 54us/step - loss: 1.2721 - acc: 0.5521\n",
            "Epoch 27/30\n",
            "50000/50000 [==============================] - 3s 54us/step - loss: 1.2687 - acc: 0.5540\n",
            "Epoch 28/30\n",
            "50000/50000 [==============================] - 3s 54us/step - loss: 1.2556 - acc: 0.5575\n",
            "Epoch 29/30\n",
            "50000/50000 [==============================] - 3s 54us/step - loss: 1.2468 - acc: 0.5626\n",
            "Epoch 30/30\n",
            "50000/50000 [==============================] - 3s 54us/step - loss: 1.2414 - acc: 0.5636\n"
          ],
          "name": "stdout"
        },
        {
          "output_type": "execute_result",
          "data": {
            "text/plain": [
              "<keras.callbacks.History at 0x7f21c9c2be48>"
            ]
          },
          "metadata": {
            "tags": []
          },
          "execution_count": 10
        }
      ]
    },
    {
      "metadata": {
        "id": "eCw5S5OU0P4q",
        "colab_type": "code",
        "outputId": "7bfb9cac-ecce-4acb-92e4-44061658243c",
        "colab": {
          "base_uri": "https://localhost:8080/",
          "height": 34
        }
      },
      "cell_type": "code",
      "source": [
        "test_loss, test_acc = network.evaluate(x_test, y_test)"
      ],
      "execution_count": 0,
      "outputs": [
        {
          "output_type": "stream",
          "text": [
            "10000/10000 [==============================] - 1s 58us/step\n"
          ],
          "name": "stdout"
        }
      ]
    },
    {
      "metadata": {
        "id": "E844W8zj601Y",
        "colab_type": "code",
        "outputId": "48e3e671-02a2-4865-a747-666aacb46747",
        "colab": {
          "base_uri": "https://localhost:8080/",
          "height": 34
        }
      },
      "cell_type": "code",
      "source": [
        "print('test_acc:', test_acc)"
      ],
      "execution_count": 0,
      "outputs": [
        {
          "output_type": "stream",
          "text": [
            "test_acc: 0.4935\n"
          ],
          "name": "stdout"
        }
      ]
    }
  ]
}
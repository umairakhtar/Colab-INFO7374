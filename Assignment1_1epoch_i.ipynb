{
  "nbformat": 4,
  "nbformat_minor": 0,
  "metadata": {
    "colab": {
      "name": "Assignment1-1epoch-i.ipynb",
      "version": "0.3.2",
      "provenance": [],
      "include_colab_link": true
    },
    "kernelspec": {
      "name": "python3",
      "display_name": "Python 3"
    },
    "accelerator": "GPU"
  },
  "cells": [
    {
      "cell_type": "markdown",
      "metadata": {
        "id": "view-in-github",
        "colab_type": "text"
      },
      "source": [
        "<a href=\"https://colab.research.google.com/github/umairakhtar/Colab-INFO7374/blob/master/Assignment1_1epoch_i.ipynb\" target=\"_parent\"><img src=\"https://colab.research.google.com/assets/colab-badge.svg\" alt=\"Open In Colab\"/></a>"
      ]
    },
    {
      "metadata": {
        "id": "kLpotzHmYAfy",
        "colab_type": "code",
        "outputId": "91555639-d59b-4b4c-bb62-e111298f3b84",
        "colab": {
          "base_uri": "https://localhost:8080/",
          "height": 34
        }
      },
      "cell_type": "code",
      "source": [
        "from keras.datasets import cifar10"
      ],
      "execution_count": 0,
      "outputs": [
        {
          "output_type": "stream",
          "text": [
            "Using TensorFlow backend.\n"
          ],
          "name": "stderr"
        }
      ]
    },
    {
      "metadata": {
        "id": "we_mML7zlMQi",
        "colab_type": "code",
        "outputId": "0f15ede0-387e-46b4-89a8-660b42d67eea",
        "colab": {
          "base_uri": "https://localhost:8080/",
          "height": 51
        }
      },
      "cell_type": "code",
      "source": [
        "(x_train, y_train), (x_test, y_test) = cifar10.load_data()"
      ],
      "execution_count": 0,
      "outputs": [
        {
          "output_type": "stream",
          "text": [
            "Downloading data from https://www.cs.toronto.edu/~kriz/cifar-10-python.tar.gz\n",
            "170500096/170498071 [==============================] - 34s 0us/step\n"
          ],
          "name": "stdout"
        }
      ]
    },
    {
      "metadata": {
        "id": "cO55-ftSzfjW",
        "colab_type": "code",
        "colab": {}
      },
      "cell_type": "code",
      "source": [
        "from keras import models\n",
        "from keras import layers"
      ],
      "execution_count": 0,
      "outputs": []
    },
    {
      "metadata": {
        "id": "Lp3jKLuit6cW",
        "colab_type": "code",
        "colab": {}
      },
      "cell_type": "code",
      "source": [
        "network = models.Sequential()"
      ],
      "execution_count": 0,
      "outputs": []
    },
    {
      "metadata": {
        "id": "o1evkTpVnTl6",
        "colab_type": "code",
        "colab": {}
      },
      "cell_type": "code",
      "source": [
        "network.add(layers.Dense(512, activation='relu', input_shape=(32 * 32 * 3,)))"
      ],
      "execution_count": 0,
      "outputs": []
    },
    {
      "metadata": {
        "id": "F9CDYqgUnh02",
        "colab_type": "code",
        "colab": {}
      },
      "cell_type": "code",
      "source": [
        "network.add(layers.Dense(10, activation='softmax'))"
      ],
      "execution_count": 0,
      "outputs": []
    },
    {
      "metadata": {
        "id": "H92VYZjCnlmW",
        "colab_type": "code",
        "colab": {}
      },
      "cell_type": "code",
      "source": [
        "network.compile(optimizer='rmsprop',\n",
        "loss='categorical_crossentropy',\n",
        "metrics=['accuracy'])"
      ],
      "execution_count": 0,
      "outputs": []
    },
    {
      "metadata": {
        "id": "6g9b7z6W0Bh5",
        "colab_type": "code",
        "colab": {}
      },
      "cell_type": "code",
      "source": [
        "x_train = x_train.reshape((50000, 32 * 32 *3))\n",
        "x_train = x_train.astype('float32') / 255\n",
        "x_test = x_test.reshape((10000, 32 * 32 *3))\n",
        "x_test = x_test.astype('float32') / 255"
      ],
      "execution_count": 0,
      "outputs": []
    },
    {
      "metadata": {
        "id": "PxjYJL_qg2V1",
        "colab_type": "code",
        "colab": {}
      },
      "cell_type": "code",
      "source": [
        "from keras.utils import to_categorical\n",
        "y_train = to_categorical(y_train)\n",
        "y_test = to_categorical(y_test)"
      ],
      "execution_count": 0,
      "outputs": []
    },
    {
      "metadata": {
        "id": "-UACYg_SK2So",
        "colab_type": "code",
        "outputId": "164b0d8f-5ce4-49ae-859c-f8103b9cef46",
        "colab": {
          "base_uri": "https://localhost:8080/",
          "height": 1054
        }
      },
      "cell_type": "code",
      "source": [
        "network.fit(x_train, y_train, epochs=30, batch_size=128)"
      ],
      "execution_count": 0,
      "outputs": [
        {
          "output_type": "stream",
          "text": [
            "Epoch 1/30\n",
            "50000/50000 [==============================] - 4s 88us/step - loss: 3.1467 - acc: 0.2286\n",
            "Epoch 2/30\n",
            "50000/50000 [==============================] - 3s 52us/step - loss: 1.8509 - acc: 0.3354\n",
            "Epoch 3/30\n",
            "50000/50000 [==============================] - 3s 52us/step - loss: 1.7312 - acc: 0.3839\n",
            "Epoch 4/30\n",
            "50000/50000 [==============================] - 3s 52us/step - loss: 1.6630 - acc: 0.4078\n",
            "Epoch 5/30\n",
            "50000/50000 [==============================] - 3s 52us/step - loss: 1.6185 - acc: 0.4269\n",
            "Epoch 6/30\n",
            "50000/50000 [==============================] - 3s 53us/step - loss: 1.5862 - acc: 0.4344\n",
            "Epoch 7/30\n",
            "50000/50000 [==============================] - 3s 53us/step - loss: 1.5600 - acc: 0.4494\n",
            "Epoch 8/30\n",
            "50000/50000 [==============================] - 3s 54us/step - loss: 1.5377 - acc: 0.4545\n",
            "Epoch 9/30\n",
            "50000/50000 [==============================] - 3s 53us/step - loss: 1.5190 - acc: 0.4644\n",
            "Epoch 10/30\n",
            "50000/50000 [==============================] - 3s 53us/step - loss: 1.4987 - acc: 0.4699\n",
            "Epoch 11/30\n",
            "50000/50000 [==============================] - 3s 53us/step - loss: 1.4860 - acc: 0.4746\n",
            "Epoch 12/30\n",
            "50000/50000 [==============================] - 3s 53us/step - loss: 1.4675 - acc: 0.4799\n",
            "Epoch 13/30\n",
            "50000/50000 [==============================] - 3s 53us/step - loss: 1.4559 - acc: 0.4865\n",
            "Epoch 14/30\n",
            "50000/50000 [==============================] - 3s 52us/step - loss: 1.4442 - acc: 0.4902\n",
            "Epoch 15/30\n",
            "50000/50000 [==============================] - 3s 52us/step - loss: 1.4319 - acc: 0.4974\n",
            "Epoch 16/30\n",
            "50000/50000 [==============================] - 3s 52us/step - loss: 1.4162 - acc: 0.5016\n",
            "Epoch 17/30\n",
            "50000/50000 [==============================] - 3s 52us/step - loss: 1.4117 - acc: 0.5022\n",
            "Epoch 18/30\n",
            "50000/50000 [==============================] - 3s 52us/step - loss: 1.4001 - acc: 0.5059\n",
            "Epoch 19/30\n",
            "50000/50000 [==============================] - 3s 52us/step - loss: 1.3887 - acc: 0.5101\n",
            "Epoch 20/30\n",
            "50000/50000 [==============================] - 3s 52us/step - loss: 1.3803 - acc: 0.5131\n",
            "Epoch 21/30\n",
            "50000/50000 [==============================] - 3s 53us/step - loss: 1.3731 - acc: 0.5179\n",
            "Epoch 22/30\n",
            "50000/50000 [==============================] - 3s 53us/step - loss: 1.3660 - acc: 0.5196\n",
            "Epoch 23/30\n",
            "50000/50000 [==============================] - 3s 52us/step - loss: 1.3596 - acc: 0.5210\n",
            "Epoch 24/30\n",
            "50000/50000 [==============================] - 3s 52us/step - loss: 1.3482 - acc: 0.5244\n",
            "Epoch 25/30\n",
            "50000/50000 [==============================] - 3s 52us/step - loss: 1.3389 - acc: 0.5275\n",
            "Epoch 26/30\n",
            "50000/50000 [==============================] - 3s 52us/step - loss: 1.3353 - acc: 0.5310\n",
            "Epoch 27/30\n",
            "50000/50000 [==============================] - 3s 52us/step - loss: 1.3238 - acc: 0.5357\n",
            "Epoch 28/30\n",
            "50000/50000 [==============================] - 3s 53us/step - loss: 1.3166 - acc: 0.5353\n",
            "Epoch 29/30\n",
            "50000/50000 [==============================] - 3s 52us/step - loss: 1.3167 - acc: 0.5363\n",
            "Epoch 30/30\n",
            "50000/50000 [==============================] - 3s 52us/step - loss: 1.3082 - acc: 0.5417\n"
          ],
          "name": "stdout"
        },
        {
          "output_type": "execute_result",
          "data": {
            "text/plain": [
              "<keras.callbacks.History at 0x7fdfa87c6cf8>"
            ]
          },
          "metadata": {
            "tags": []
          },
          "execution_count": 10
        }
      ]
    },
    {
      "metadata": {
        "id": "LsLrabcLK4zv",
        "colab_type": "code",
        "outputId": "5cabdbcd-099c-47fd-f861-028d15139385",
        "colab": {
          "base_uri": "https://localhost:8080/",
          "height": 34
        }
      },
      "cell_type": "code",
      "source": [
        "test_loss, test_acc = network.evaluate(x_test, y_test)"
      ],
      "execution_count": 0,
      "outputs": [
        {
          "output_type": "stream",
          "text": [
            "10000/10000 [==============================] - 1s 57us/step\n"
          ],
          "name": "stdout"
        }
      ]
    },
    {
      "metadata": {
        "id": "afCOlu_oK-1Q",
        "colab_type": "code",
        "outputId": "602df487-9fb1-465c-84fa-d0782288b2b8",
        "colab": {
          "base_uri": "https://localhost:8080/",
          "height": 34
        }
      },
      "cell_type": "code",
      "source": [
        "print('test_acc:', test_acc)"
      ],
      "execution_count": 0,
      "outputs": [
        {
          "output_type": "stream",
          "text": [
            "test_acc: 0.4711\n"
          ],
          "name": "stdout"
        }
      ]
    }
  ]
}
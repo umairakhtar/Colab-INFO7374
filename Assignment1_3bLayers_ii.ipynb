{
  "nbformat": 4,
  "nbformat_minor": 0,
  "metadata": {
    "colab": {
      "name": "Assignment1-3bLayers-ii.ipynb",
      "version": "0.3.2",
      "provenance": [],
      "include_colab_link": true
    },
    "kernelspec": {
      "name": "python3",
      "display_name": "Python 3"
    },
    "accelerator": "GPU"
  },
  "cells": [
    {
      "cell_type": "markdown",
      "metadata": {
        "id": "view-in-github",
        "colab_type": "text"
      },
      "source": [
        "<a href=\"https://colab.research.google.com/github/umairakhtar/Colab-INFO7374/blob/master/Assignment1_3bLayers_ii.ipynb\" target=\"_parent\"><img src=\"https://colab.research.google.com/assets/colab-badge.svg\" alt=\"Open In Colab\"/></a>"
      ]
    },
    {
      "metadata": {
        "id": "kLpotzHmYAfy",
        "colab_type": "code",
        "outputId": "5ab48b3b-851d-4f37-fbdd-1d2360744299",
        "colab": {
          "base_uri": "https://localhost:8080/",
          "height": 34
        }
      },
      "cell_type": "code",
      "source": [
        "from keras.datasets import cifar10"
      ],
      "execution_count": 1,
      "outputs": [
        {
          "output_type": "stream",
          "text": [
            "Using TensorFlow backend.\n"
          ],
          "name": "stderr"
        }
      ]
    },
    {
      "metadata": {
        "id": "we_mML7zlMQi",
        "colab_type": "code",
        "colab": {}
      },
      "cell_type": "code",
      "source": [
        "(x_train, y_train), (x_test, y_test) = cifar10.load_data()"
      ],
      "execution_count": 0,
      "outputs": []
    },
    {
      "metadata": {
        "id": "cO55-ftSzfjW",
        "colab_type": "code",
        "colab": {}
      },
      "cell_type": "code",
      "source": [
        "from keras import models\n",
        "from keras import layers"
      ],
      "execution_count": 0,
      "outputs": []
    },
    {
      "metadata": {
        "id": "Lp3jKLuit6cW",
        "colab_type": "code",
        "colab": {}
      },
      "cell_type": "code",
      "source": [
        "network = models.Sequential()"
      ],
      "execution_count": 0,
      "outputs": []
    },
    {
      "metadata": {
        "id": "o1evkTpVnTl6",
        "colab_type": "code",
        "colab": {}
      },
      "cell_type": "code",
      "source": [
        "network.add(layers.Dense(512, activation='relu', input_shape=(32 * 32 * 3,)))"
      ],
      "execution_count": 0,
      "outputs": []
    },
    {
      "metadata": {
        "id": "WfADv5y8KKsv",
        "colab_type": "code",
        "colab": {}
      },
      "cell_type": "code",
      "source": [
        "network.add(layers.Dense(512, activation='relu', input_shape=(32 * 32 * 3,)))\n",
        "network.add(layers.Dense(512, activation='relu', input_shape=(32 * 32 * 3,)))"
      ],
      "execution_count": 0,
      "outputs": []
    },
    {
      "metadata": {
        "id": "F9CDYqgUnh02",
        "colab_type": "code",
        "colab": {}
      },
      "cell_type": "code",
      "source": [
        "network.add(layers.Dense(10, activation='softmax'))"
      ],
      "execution_count": 0,
      "outputs": []
    },
    {
      "metadata": {
        "id": "H92VYZjCnlmW",
        "colab_type": "code",
        "colab": {}
      },
      "cell_type": "code",
      "source": [
        "network.compile(optimizer='rmsprop',\n",
        "loss='categorical_crossentropy',\n",
        "metrics=['accuracy'])"
      ],
      "execution_count": 0,
      "outputs": []
    },
    {
      "metadata": {
        "id": "6g9b7z6W0Bh5",
        "colab_type": "code",
        "colab": {}
      },
      "cell_type": "code",
      "source": [
        "x_train = x_train.reshape((50000, 32 * 32 *3))\n",
        "x_train = x_train.astype('float32') / 255\n",
        "x_test = x_test.reshape((10000, 32 * 32 *3))\n",
        "x_test = x_test.astype('float32') / 255"
      ],
      "execution_count": 0,
      "outputs": []
    },
    {
      "metadata": {
        "id": "PxjYJL_qg2V1",
        "colab_type": "code",
        "colab": {}
      },
      "cell_type": "code",
      "source": [
        "from keras.utils import to_categorical\n",
        "y_train = to_categorical(y_train)\n",
        "y_test = to_categorical(y_test)"
      ],
      "execution_count": 0,
      "outputs": []
    },
    {
      "metadata": {
        "id": "xWiT63O00oV8",
        "colab_type": "code",
        "outputId": "4f5d25f4-2964-4fd5-d63e-2433a5bd3ef4",
        "colab": {
          "base_uri": "https://localhost:8080/",
          "height": 1054
        }
      },
      "cell_type": "code",
      "source": [
        "network.fit(x_train, y_train, epochs=30, batch_size=128)"
      ],
      "execution_count": 11,
      "outputs": [
        {
          "output_type": "stream",
          "text": [
            "Epoch 1/30\n",
            "50000/50000 [==============================] - 4s 75us/step - loss: 2.1413 - acc: 0.2571\n",
            "Epoch 2/30\n",
            "50000/50000 [==============================] - 3s 59us/step - loss: 1.7930 - acc: 0.3532\n",
            "Epoch 3/30\n",
            "50000/50000 [==============================] - 3s 58us/step - loss: 1.6908 - acc: 0.3954\n",
            "Epoch 4/30\n",
            "50000/50000 [==============================] - 3s 58us/step - loss: 1.6242 - acc: 0.4178\n",
            "Epoch 5/30\n",
            "50000/50000 [==============================] - 3s 58us/step - loss: 1.5654 - acc: 0.4389\n",
            "Epoch 6/30\n",
            "50000/50000 [==============================] - 3s 58us/step - loss: 1.5243 - acc: 0.4547\n",
            "Epoch 7/30\n",
            "50000/50000 [==============================] - 3s 58us/step - loss: 1.4880 - acc: 0.4680\n",
            "Epoch 8/30\n",
            "50000/50000 [==============================] - 3s 58us/step - loss: 1.4602 - acc: 0.4782\n",
            "Epoch 9/30\n",
            "50000/50000 [==============================] - 3s 58us/step - loss: 1.4297 - acc: 0.4903\n",
            "Epoch 10/30\n",
            "50000/50000 [==============================] - 3s 58us/step - loss: 1.4039 - acc: 0.5021\n",
            "Epoch 11/30\n",
            "50000/50000 [==============================] - 3s 58us/step - loss: 1.3845 - acc: 0.5075\n",
            "Epoch 12/30\n",
            "50000/50000 [==============================] - 3s 59us/step - loss: 1.3658 - acc: 0.5127\n",
            "Epoch 13/30\n",
            "50000/50000 [==============================] - 3s 58us/step - loss: 1.3458 - acc: 0.5211\n",
            "Epoch 14/30\n",
            "50000/50000 [==============================] - 3s 59us/step - loss: 1.3276 - acc: 0.5282\n",
            "Epoch 15/30\n",
            "50000/50000 [==============================] - 3s 58us/step - loss: 1.3106 - acc: 0.5348\n",
            "Epoch 16/30\n",
            "50000/50000 [==============================] - 3s 58us/step - loss: 1.2977 - acc: 0.5405\n",
            "Epoch 17/30\n",
            "50000/50000 [==============================] - 3s 58us/step - loss: 1.2800 - acc: 0.5437\n",
            "Epoch 18/30\n",
            "50000/50000 [==============================] - 3s 58us/step - loss: 1.2670 - acc: 0.5500\n",
            "Epoch 19/30\n",
            "50000/50000 [==============================] - 3s 58us/step - loss: 1.2595 - acc: 0.5537\n",
            "Epoch 20/30\n",
            "50000/50000 [==============================] - 3s 59us/step - loss: 1.2478 - acc: 0.5596\n",
            "Epoch 21/30\n",
            "50000/50000 [==============================] - 3s 58us/step - loss: 1.2326 - acc: 0.5652\n",
            "Epoch 22/30\n",
            "50000/50000 [==============================] - 3s 58us/step - loss: 1.2222 - acc: 0.5681\n",
            "Epoch 23/30\n",
            "50000/50000 [==============================] - 3s 58us/step - loss: 1.2085 - acc: 0.5726\n",
            "Epoch 24/30\n",
            "50000/50000 [==============================] - 3s 58us/step - loss: 1.2104 - acc: 0.5730\n",
            "Epoch 25/30\n",
            "50000/50000 [==============================] - 3s 58us/step - loss: 1.1984 - acc: 0.5756\n",
            "Epoch 26/30\n",
            "50000/50000 [==============================] - 3s 59us/step - loss: 1.1922 - acc: 0.5786\n",
            "Epoch 27/30\n",
            "50000/50000 [==============================] - 3s 60us/step - loss: 1.1818 - acc: 0.5831\n",
            "Epoch 28/30\n",
            "50000/50000 [==============================] - 3s 61us/step - loss: 1.1868 - acc: 0.5811\n",
            "Epoch 29/30\n",
            "50000/50000 [==============================] - 3s 59us/step - loss: 1.1767 - acc: 0.5846\n",
            "Epoch 30/30\n",
            "50000/50000 [==============================] - 3s 58us/step - loss: 1.1773 - acc: 0.5858\n"
          ],
          "name": "stdout"
        },
        {
          "output_type": "execute_result",
          "data": {
            "text/plain": [
              "<keras.callbacks.History at 0x7fa6ad3085c0>"
            ]
          },
          "metadata": {
            "tags": []
          },
          "execution_count": 11
        }
      ]
    },
    {
      "metadata": {
        "id": "eCw5S5OU0P4q",
        "colab_type": "code",
        "outputId": "34709bee-097c-47d5-87a6-7cfc0b6d1eea",
        "colab": {
          "base_uri": "https://localhost:8080/",
          "height": 34
        }
      },
      "cell_type": "code",
      "source": [
        "test_loss, test_acc = network.evaluate(x_test, y_test)"
      ],
      "execution_count": 12,
      "outputs": [
        {
          "output_type": "stream",
          "text": [
            "10000/10000 [==============================] - 1s 58us/step\n"
          ],
          "name": "stdout"
        }
      ]
    },
    {
      "metadata": {
        "id": "E844W8zj601Y",
        "colab_type": "code",
        "outputId": "15c5b997-4f85-43fc-8292-65e65764c651",
        "colab": {
          "base_uri": "https://localhost:8080/",
          "height": 34
        }
      },
      "cell_type": "code",
      "source": [
        "print('test_acc:', test_acc)"
      ],
      "execution_count": 13,
      "outputs": [
        {
          "output_type": "stream",
          "text": [
            "test_acc: 0.4832\n"
          ],
          "name": "stdout"
        }
      ]
    }
  ]
}
{
  "nbformat": 4,
  "nbformat_minor": 0,
  "metadata": {
    "colab": {
      "name": "Part A.ipynb",
      "version": "0.3.2",
      "provenance": [],
      "include_colab_link": true
    },
    "kernelspec": {
      "name": "python3",
      "display_name": "Python 3"
    },
    "accelerator": "GPU"
  },
  "cells": [
    {
      "cell_type": "markdown",
      "metadata": {
        "id": "view-in-github",
        "colab_type": "text"
      },
      "source": [
        "<a href=\"https://colab.research.google.com/github/umairakhtar/Colab-INFO7374/blob/master/Part_A.ipynb\" target=\"_parent\"><img src=\"https://colab.research.google.com/assets/colab-badge.svg\" alt=\"Open In Colab\"/></a>"
      ]
    },
    {
      "metadata": {
        "id": "he6B-Nhy9huR",
        "colab_type": "code",
        "outputId": "d302a8bf-7e09-4759-b19a-fcf7cbf03693",
        "colab": {
          "base_uri": "https://localhost:8080/",
          "height": 34
        }
      },
      "cell_type": "code",
      "source": [
        "from __future__ import print_function\n",
        "import keras\n",
        "from keras.datasets import cifar10\n",
        "from keras.preprocessing.image import ImageDataGenerator\n",
        "from keras.models import Sequential\n",
        "from keras.layers import Dense, Dropout, Activation, Flatten\n",
        "from keras.layers import Conv2D, MaxPooling2D\n",
        "import os\n"
      ],
      "execution_count": 0,
      "outputs": [
        {
          "output_type": "stream",
          "text": [
            "Using TensorFlow backend.\n"
          ],
          "name": "stderr"
        }
      ]
    },
    {
      "metadata": {
        "id": "qQa74nG3-D3R",
        "colab_type": "code",
        "colab": {}
      },
      "cell_type": "code",
      "source": [
        "batch_size = 32\n",
        "num_classes = 10\n",
        "epochs = 100\n",
        "data_augmentation = True\n",
        "num_predictions = 20\n",
        "save_dir = os.path.join(os.getcwd(), 'saved_models')\n",
        "model_name = 'keras_cifar10_trained_model.h5'"
      ],
      "execution_count": 0,
      "outputs": []
    },
    {
      "metadata": {
        "id": "1hW6txjG-LC6",
        "colab_type": "code",
        "outputId": "e438fb8d-4871-4ae3-b161-7352641dccef",
        "colab": {
          "base_uri": "https://localhost:8080/",
          "height": 68
        }
      },
      "cell_type": "code",
      "source": [
        "# The data, split between train and test sets:\n",
        "(x_train, y_train), (x_test, y_test) = cifar10.load_data()\n",
        "print('x_train shape:', x_train.shape)\n",
        "print(x_train.shape[0], 'train samples')\n",
        "print(x_test.shape[0], 'test samples')\n"
      ],
      "execution_count": 0,
      "outputs": [
        {
          "output_type": "stream",
          "text": [
            "x_train shape: (50000, 32, 32, 3)\n",
            "50000 train samples\n",
            "10000 test samples\n"
          ],
          "name": "stdout"
        }
      ]
    },
    {
      "metadata": {
        "id": "kD1bDDHb-RZx",
        "colab_type": "code",
        "colab": {}
      },
      "cell_type": "code",
      "source": [
        "# Convert class vectors to binary class matrices.\n",
        "y_train = keras.utils.to_categorical(y_train, num_classes)\n",
        "y_test = keras.utils.to_categorical(y_test, num_classes)\n",
        "\n",
        "model = Sequential()\n",
        "model.add(Conv2D(32, (3, 3), padding='same',\n",
        "                 input_shape=x_train.shape[1:]))\n",
        "model.add(Activation('relu'))\n",
        "model.add(Conv2D(32, (3, 3)))\n",
        "model.add(Activation('relu'))\n",
        "model.add(MaxPooling2D(pool_size=(2, 2)))\n",
        "model.add(Dropout(0.25))\n",
        "\n",
        "model.add(Conv2D(64, (3, 3), padding='same'))\n",
        "model.add(Activation('relu'))\n",
        "model.add(Conv2D(64, (3, 3)))\n",
        "model.add(Activation('relu'))\n",
        "model.add(MaxPooling2D(pool_size=(2, 2)))\n",
        "model.add(Dropout(0.25))\n",
        "\n",
        "model.add(Flatten())\n",
        "model.add(Dense(512))\n",
        "model.add(Activation('relu'))\n",
        "model.add(Dropout(0.5))\n",
        "model.add(Dense(num_classes))\n",
        "model.add(Activation('softmax'))\n"
      ],
      "execution_count": 0,
      "outputs": []
    },
    {
      "metadata": {
        "id": "Rwl9dio2-WVe",
        "colab_type": "code",
        "colab": {}
      },
      "cell_type": "code",
      "source": [
        "# initiate RMSprop optimizer\n",
        "opt = keras.optimizers.rmsprop(lr=0.0001, decay=1e-6)"
      ],
      "execution_count": 0,
      "outputs": []
    },
    {
      "metadata": {
        "id": "np4O4k1d-bPh",
        "colab_type": "code",
        "colab": {}
      },
      "cell_type": "code",
      "source": [
        "# Let's train the model using RMSprop\n",
        "model.compile(loss='categorical_crossentropy',\n",
        "              optimizer=opt,\n",
        "              metrics=['accuracy'])"
      ],
      "execution_count": 0,
      "outputs": []
    },
    {
      "metadata": {
        "id": "MC14QpKv-frA",
        "colab_type": "code",
        "colab": {}
      },
      "cell_type": "code",
      "source": [
        "x_train = x_train.astype('float32')\n",
        "x_test = x_test.astype('float32')\n",
        "x_train /= 255\n",
        "x_test /= 255"
      ],
      "execution_count": 0,
      "outputs": []
    },
    {
      "metadata": {
        "id": "sq4d0a51-nF-",
        "colab_type": "code",
        "outputId": "005c4f8b-eaee-43b7-91c2-69d7603aab13",
        "colab": {
          "base_uri": "https://localhost:8080/",
          "height": 3434
        }
      },
      "cell_type": "code",
      "source": [
        "if not data_augmentation:\n",
        "    print('Not using data augmentation.')\n",
        "    model.fit(x_train, y_train,\n",
        "              batch_size=batch_size,\n",
        "              epochs=epochs,\n",
        "              validation_data=(x_test, y_test),\n",
        "              shuffle=True)\n",
        "else:\n",
        "    print('Using real-time data augmentation.')\n",
        "    # This will do preprocessing and realtime data augmentation:\n",
        "    datagen = ImageDataGenerator(\n",
        "        featurewise_center=False,  # set input mean to 0 over the dataset\n",
        "        samplewise_center=False,  # set each sample mean to 0\n",
        "        featurewise_std_normalization=False,  # divide inputs by std of the dataset\n",
        "        samplewise_std_normalization=False,  # divide each input by its std\n",
        "        zca_whitening=False,  # apply ZCA whitening\n",
        "        zca_epsilon=1e-06,  # epsilon for ZCA whitening\n",
        "        rotation_range=0,  # randomly rotate images in the range (degrees, 0 to 180)\n",
        "        # randomly shift images horizontally (fraction of total width)\n",
        "        width_shift_range=0.1,\n",
        "        # randomly shift images vertically (fraction of total height)\n",
        "        height_shift_range=0.1,\n",
        "        shear_range=0.,  # set range for random shear\n",
        "        zoom_range=0.,  # set range for random zoom\n",
        "        channel_shift_range=0.,  # set range for random channel shifts\n",
        "        # set mode for filling points outside the input boundaries\n",
        "        fill_mode='nearest',\n",
        "        cval=0.,  # value used for fill_mode = \"constant\"\n",
        "        horizontal_flip=True,  # randomly flip images\n",
        "        vertical_flip=False,  # randomly flip images\n",
        "        # set rescaling factor (applied before any other transformation)\n",
        "        rescale=None,\n",
        "        # set function that will be applied on each input\n",
        "        preprocessing_function=None,\n",
        "        # image data format, either \"channels_first\" or \"channels_last\"\n",
        "        data_format=None,\n",
        "        # fraction of images reserved for validation (strictly between 0 and 1)\n",
        "        validation_split=0.0)\n",
        "\n",
        "    # Compute quantities required for feature-wise normalization\n",
        "    # (std, mean, and principal components if ZCA whitening is applied).\n",
        "    datagen.fit(x_train)\n",
        "\n",
        "    # Fit the model on the batches generated by datagen.flow().\n",
        "    model.fit_generator(datagen.flow(x_train, y_train,\n",
        "                                     batch_size=batch_size),\n",
        "                        epochs=epochs,steps_per_epoch=20,\n",
        "                        validation_data=(x_test, y_test),\n",
        "                        workers=4)"
      ],
      "execution_count": 0,
      "outputs": [
        {
          "output_type": "stream",
          "text": [
            "Using real-time data augmentation.\n",
            "Epoch 1/100\n",
            "20/20 [==============================] - 3s 169ms/step - loss: 2.3045 - acc: 0.1016 - val_loss: 2.2954 - val_acc: 0.1499\n",
            "Epoch 2/100\n",
            "20/20 [==============================] - 2s 85ms/step - loss: 2.2912 - acc: 0.1234 - val_loss: 2.2893 - val_acc: 0.1438\n",
            "Epoch 3/100\n",
            "20/20 [==============================] - 2s 86ms/step - loss: 2.2944 - acc: 0.1125 - val_loss: 2.2763 - val_acc: 0.1452\n",
            "Epoch 4/100\n",
            "20/20 [==============================] - 2s 84ms/step - loss: 2.2576 - acc: 0.1547 - val_loss: 2.2465 - val_acc: 0.1441\n",
            "Epoch 5/100\n",
            "20/20 [==============================] - 2s 85ms/step - loss: 2.2273 - acc: 0.1734 - val_loss: 2.1923 - val_acc: 0.2044\n",
            "Epoch 6/100\n",
            "20/20 [==============================] - 2s 85ms/step - loss: 2.1980 - acc: 0.1875 - val_loss: 2.1518 - val_acc: 0.2248\n",
            "Epoch 7/100\n",
            "20/20 [==============================] - 2s 85ms/step - loss: 2.1751 - acc: 0.1797 - val_loss: 2.1208 - val_acc: 0.2246\n",
            "Epoch 8/100\n",
            "20/20 [==============================] - 2s 87ms/step - loss: 2.0906 - acc: 0.2328 - val_loss: 2.0797 - val_acc: 0.2542\n",
            "Epoch 9/100\n",
            "20/20 [==============================] - 2s 90ms/step - loss: 2.0886 - acc: 0.2406 - val_loss: 2.0551 - val_acc: 0.2655\n",
            "Epoch 10/100\n",
            "20/20 [==============================] - 2s 87ms/step - loss: 2.0789 - acc: 0.2344 - val_loss: 2.0715 - val_acc: 0.2454\n",
            "Epoch 11/100\n",
            "20/20 [==============================] - 2s 84ms/step - loss: 2.0767 - acc: 0.2266 - val_loss: 2.0275 - val_acc: 0.2730\n",
            "Epoch 12/100\n",
            "20/20 [==============================] - 2s 84ms/step - loss: 2.0423 - acc: 0.2188 - val_loss: 2.0809 - val_acc: 0.2420\n",
            "Epoch 13/100\n",
            "20/20 [==============================] - 2s 84ms/step - loss: 2.0209 - acc: 0.2578 - val_loss: 2.0075 - val_acc: 0.2830\n",
            "Epoch 14/100\n",
            "20/20 [==============================] - 2s 84ms/step - loss: 2.0663 - acc: 0.2484 - val_loss: 2.0147 - val_acc: 0.2779\n",
            "Epoch 15/100\n",
            "20/20 [==============================] - 2s 85ms/step - loss: 2.0158 - acc: 0.2453 - val_loss: 1.9942 - val_acc: 0.2687\n",
            "Epoch 16/100\n",
            "20/20 [==============================] - 2s 87ms/step - loss: 2.0260 - acc: 0.2188 - val_loss: 1.9844 - val_acc: 0.2931\n",
            "Epoch 17/100\n",
            "20/20 [==============================] - 2s 87ms/step - loss: 2.0044 - acc: 0.2516 - val_loss: 1.9885 - val_acc: 0.2731\n",
            "Epoch 18/100\n",
            "20/20 [==============================] - 2s 87ms/step - loss: 2.0492 - acc: 0.2672 - val_loss: 1.9780 - val_acc: 0.3013\n",
            "Epoch 19/100\n",
            "20/20 [==============================] - 2s 86ms/step - loss: 2.0593 - acc: 0.2078 - val_loss: 1.9907 - val_acc: 0.2998\n",
            "Epoch 20/100\n",
            "20/20 [==============================] - 2s 88ms/step - loss: 1.9884 - acc: 0.2875 - val_loss: 1.9629 - val_acc: 0.2747\n",
            "Epoch 21/100\n",
            "20/20 [==============================] - 2s 88ms/step - loss: 2.0526 - acc: 0.2484 - val_loss: 2.0324 - val_acc: 0.2493\n",
            "Epoch 22/100\n",
            "20/20 [==============================] - 2s 87ms/step - loss: 1.9949 - acc: 0.2703 - val_loss: 1.9437 - val_acc: 0.3125\n",
            "Epoch 23/100\n",
            "20/20 [==============================] - 2s 86ms/step - loss: 1.9915 - acc: 0.2734 - val_loss: 1.9587 - val_acc: 0.3085\n",
            "Epoch 24/100\n",
            "20/20 [==============================] - 2s 87ms/step - loss: 2.0244 - acc: 0.2406 - val_loss: 1.9205 - val_acc: 0.3219\n",
            "Epoch 25/100\n",
            "20/20 [==============================] - 2s 86ms/step - loss: 1.9791 - acc: 0.2953 - val_loss: 2.0077 - val_acc: 0.2799\n",
            "Epoch 26/100\n",
            "20/20 [==============================] - 2s 85ms/step - loss: 1.9396 - acc: 0.2969 - val_loss: 1.9100 - val_acc: 0.3356\n",
            "Epoch 27/100\n",
            "20/20 [==============================] - 2s 88ms/step - loss: 1.9595 - acc: 0.3078 - val_loss: 1.8815 - val_acc: 0.3559\n",
            "Epoch 28/100\n",
            "20/20 [==============================] - 2s 86ms/step - loss: 1.9994 - acc: 0.2891 - val_loss: 1.8720 - val_acc: 0.3592\n",
            "Epoch 29/100\n",
            "20/20 [==============================] - 2s 85ms/step - loss: 1.9389 - acc: 0.3078 - val_loss: 1.8969 - val_acc: 0.3095\n",
            "Epoch 30/100\n",
            "20/20 [==============================] - 2s 86ms/step - loss: 1.9307 - acc: 0.3094 - val_loss: 1.8505 - val_acc: 0.3562\n",
            "Epoch 31/100\n",
            "20/20 [==============================] - 2s 87ms/step - loss: 1.9105 - acc: 0.3078 - val_loss: 1.8336 - val_acc: 0.3546\n",
            "Epoch 32/100\n",
            "20/20 [==============================] - 2s 86ms/step - loss: 1.9384 - acc: 0.3078 - val_loss: 1.8296 - val_acc: 0.3635\n",
            "Epoch 33/100\n",
            "20/20 [==============================] - 2s 87ms/step - loss: 1.8592 - acc: 0.3156 - val_loss: 1.8125 - val_acc: 0.3651\n",
            "Epoch 34/100\n",
            "20/20 [==============================] - 2s 86ms/step - loss: 1.8746 - acc: 0.3125 - val_loss: 1.7908 - val_acc: 0.3724\n",
            "Epoch 35/100\n",
            "20/20 [==============================] - 2s 86ms/step - loss: 1.8672 - acc: 0.3250 - val_loss: 1.8406 - val_acc: 0.3568\n",
            "Epoch 36/100\n",
            "20/20 [==============================] - 2s 86ms/step - loss: 1.8558 - acc: 0.3234 - val_loss: 1.7777 - val_acc: 0.3759\n",
            "Epoch 37/100\n",
            "20/20 [==============================] - 2s 86ms/step - loss: 1.9127 - acc: 0.3016 - val_loss: 1.8040 - val_acc: 0.3550\n",
            "Epoch 38/100\n",
            "20/20 [==============================] - 2s 86ms/step - loss: 1.8439 - acc: 0.3266 - val_loss: 1.7820 - val_acc: 0.3762\n",
            "Epoch 39/100\n",
            "20/20 [==============================] - 2s 87ms/step - loss: 1.8131 - acc: 0.3609 - val_loss: 1.7481 - val_acc: 0.3923\n",
            "Epoch 40/100\n",
            "20/20 [==============================] - 2s 86ms/step - loss: 1.8616 - acc: 0.3172 - val_loss: 1.7538 - val_acc: 0.3813\n",
            "Epoch 41/100\n",
            "20/20 [==============================] - 2s 86ms/step - loss: 1.8259 - acc: 0.3234 - val_loss: 1.7433 - val_acc: 0.3885\n",
            "Epoch 42/100\n",
            "20/20 [==============================] - 2s 86ms/step - loss: 1.8247 - acc: 0.3594 - val_loss: 1.7664 - val_acc: 0.3712\n",
            "Epoch 43/100\n",
            "20/20 [==============================] - 2s 86ms/step - loss: 1.8407 - acc: 0.3297 - val_loss: 1.7400 - val_acc: 0.3830\n",
            "Epoch 44/100\n",
            "20/20 [==============================] - 2s 85ms/step - loss: 1.8375 - acc: 0.3641 - val_loss: 1.7571 - val_acc: 0.3803\n",
            "Epoch 45/100\n",
            "20/20 [==============================] - 2s 87ms/step - loss: 1.8173 - acc: 0.3438 - val_loss: 1.7175 - val_acc: 0.3917\n",
            "Epoch 46/100\n",
            "20/20 [==============================] - 2s 87ms/step - loss: 1.7889 - acc: 0.3641 - val_loss: 1.7074 - val_acc: 0.3879\n",
            "Epoch 47/100\n",
            "20/20 [==============================] - 2s 85ms/step - loss: 1.8283 - acc: 0.3484 - val_loss: 1.7826 - val_acc: 0.3500\n",
            "Epoch 48/100\n",
            "20/20 [==============================] - 2s 86ms/step - loss: 1.7908 - acc: 0.3531 - val_loss: 1.7015 - val_acc: 0.3821\n",
            "Epoch 49/100\n",
            "20/20 [==============================] - 2s 86ms/step - loss: 1.8417 - acc: 0.3375 - val_loss: 1.6927 - val_acc: 0.4056\n",
            "Epoch 50/100\n",
            "20/20 [==============================] - 2s 87ms/step - loss: 1.7592 - acc: 0.3672 - val_loss: 1.6851 - val_acc: 0.4060\n",
            "Epoch 51/100\n",
            "20/20 [==============================] - 2s 86ms/step - loss: 1.7838 - acc: 0.3688 - val_loss: 1.6794 - val_acc: 0.4040\n",
            "Epoch 52/100\n",
            "20/20 [==============================] - 2s 86ms/step - loss: 1.7628 - acc: 0.3500 - val_loss: 1.6827 - val_acc: 0.3998\n",
            "Epoch 53/100\n",
            "20/20 [==============================] - 2s 87ms/step - loss: 1.7524 - acc: 0.3594 - val_loss: 1.6692 - val_acc: 0.3979\n",
            "Epoch 54/100\n",
            "20/20 [==============================] - 2s 85ms/step - loss: 1.7246 - acc: 0.3828 - val_loss: 1.7202 - val_acc: 0.3879\n",
            "Epoch 55/100\n",
            "20/20 [==============================] - 2s 86ms/step - loss: 1.7472 - acc: 0.3359 - val_loss: 1.6677 - val_acc: 0.4102\n",
            "Epoch 56/100\n",
            "20/20 [==============================] - 2s 87ms/step - loss: 1.7838 - acc: 0.3656 - val_loss: 1.6651 - val_acc: 0.4089\n",
            "Epoch 57/100\n",
            "20/20 [==============================] - 2s 86ms/step - loss: 1.7554 - acc: 0.3375 - val_loss: 1.8457 - val_acc: 0.3204\n",
            "Epoch 58/100\n",
            "20/20 [==============================] - 2s 86ms/step - loss: 1.7983 - acc: 0.3500 - val_loss: 1.7183 - val_acc: 0.3813\n",
            "Epoch 59/100\n",
            "20/20 [==============================] - 2s 86ms/step - loss: 1.8157 - acc: 0.3359 - val_loss: 1.6879 - val_acc: 0.3836\n",
            "Epoch 60/100\n",
            "20/20 [==============================] - 2s 87ms/step - loss: 1.7485 - acc: 0.3719 - val_loss: 1.6496 - val_acc: 0.4077\n",
            "Epoch 61/100\n",
            "20/20 [==============================] - 2s 86ms/step - loss: 1.7603 - acc: 0.3625 - val_loss: 1.6508 - val_acc: 0.4021\n",
            "Epoch 62/100\n",
            "20/20 [==============================] - 2s 86ms/step - loss: 1.7295 - acc: 0.3875 - val_loss: 1.6457 - val_acc: 0.4068\n",
            "Epoch 63/100\n",
            "20/20 [==============================] - 2s 86ms/step - loss: 1.8053 - acc: 0.3328 - val_loss: 1.6930 - val_acc: 0.3877\n",
            "Epoch 64/100\n",
            "20/20 [==============================] - 2s 86ms/step - loss: 1.7743 - acc: 0.3422 - val_loss: 1.6528 - val_acc: 0.4089\n",
            "Epoch 65/100\n",
            "20/20 [==============================] - 2s 85ms/step - loss: 1.7975 - acc: 0.3547 - val_loss: 1.6255 - val_acc: 0.4182\n",
            "Epoch 66/100\n",
            "20/20 [==============================] - 2s 85ms/step - loss: 1.7560 - acc: 0.3594 - val_loss: 1.6576 - val_acc: 0.4012\n",
            "Epoch 67/100\n",
            "20/20 [==============================] - 2s 86ms/step - loss: 1.6934 - acc: 0.3875 - val_loss: 1.6374 - val_acc: 0.4107\n",
            "Epoch 68/100\n",
            "20/20 [==============================] - 2s 88ms/step - loss: 1.7499 - acc: 0.3563 - val_loss: 1.6780 - val_acc: 0.3946\n",
            "Epoch 69/100\n",
            "20/20 [==============================] - 2s 85ms/step - loss: 1.7568 - acc: 0.3828 - val_loss: 1.6148 - val_acc: 0.4235\n",
            "Epoch 70/100\n",
            "20/20 [==============================] - 2s 85ms/step - loss: 1.7250 - acc: 0.3656 - val_loss: 1.6238 - val_acc: 0.4118\n",
            "Epoch 71/100\n",
            "20/20 [==============================] - 2s 86ms/step - loss: 1.6935 - acc: 0.3719 - val_loss: 1.6122 - val_acc: 0.4086\n",
            "Epoch 72/100\n",
            "20/20 [==============================] - 2s 85ms/step - loss: 1.7289 - acc: 0.3609 - val_loss: 1.6718 - val_acc: 0.4036\n",
            "Epoch 73/100\n",
            "20/20 [==============================] - 2s 86ms/step - loss: 1.7423 - acc: 0.3531 - val_loss: 1.6123 - val_acc: 0.4206\n",
            "Epoch 74/100\n",
            "20/20 [==============================] - 2s 86ms/step - loss: 1.7348 - acc: 0.3500 - val_loss: 1.6100 - val_acc: 0.4228\n",
            "Epoch 75/100\n",
            "20/20 [==============================] - 2s 85ms/step - loss: 1.6809 - acc: 0.3938 - val_loss: 1.7201 - val_acc: 0.3811\n",
            "Epoch 76/100\n",
            "20/20 [==============================] - 2s 87ms/step - loss: 1.7056 - acc: 0.3797 - val_loss: 1.6007 - val_acc: 0.4212\n",
            "Epoch 77/100\n",
            "20/20 [==============================] - 2s 86ms/step - loss: 1.6396 - acc: 0.3906 - val_loss: 1.5909 - val_acc: 0.4233\n",
            "Epoch 78/100\n",
            "20/20 [==============================] - 2s 85ms/step - loss: 1.6698 - acc: 0.3922 - val_loss: 1.5837 - val_acc: 0.4285\n",
            "Epoch 79/100\n",
            "20/20 [==============================] - 2s 87ms/step - loss: 1.7486 - acc: 0.3611 - val_loss: 1.6445 - val_acc: 0.4014\n",
            "Epoch 80/100\n",
            "20/20 [==============================] - 2s 86ms/step - loss: 1.7367 - acc: 0.3453 - val_loss: 1.6428 - val_acc: 0.4159\n",
            "Epoch 81/100\n",
            "20/20 [==============================] - 2s 87ms/step - loss: 1.7261 - acc: 0.3797 - val_loss: 1.5901 - val_acc: 0.4297\n",
            "Epoch 82/100\n",
            "20/20 [==============================] - 2s 85ms/step - loss: 1.6769 - acc: 0.3797 - val_loss: 1.5895 - val_acc: 0.4205\n",
            "Epoch 83/100\n",
            "20/20 [==============================] - 2s 86ms/step - loss: 1.6895 - acc: 0.3703 - val_loss: 1.7637 - val_acc: 0.3679\n",
            "Epoch 84/100\n",
            "20/20 [==============================] - 2s 86ms/step - loss: 1.7076 - acc: 0.3938 - val_loss: 1.6586 - val_acc: 0.4101\n",
            "Epoch 85/100\n",
            "20/20 [==============================] - 2s 87ms/step - loss: 1.6888 - acc: 0.4016 - val_loss: 1.5787 - val_acc: 0.4364\n",
            "Epoch 86/100\n",
            "20/20 [==============================] - 2s 85ms/step - loss: 1.7096 - acc: 0.3828 - val_loss: 1.5769 - val_acc: 0.4326\n",
            "Epoch 87/100\n",
            "20/20 [==============================] - 2s 86ms/step - loss: 1.7128 - acc: 0.3312 - val_loss: 1.6035 - val_acc: 0.4244\n",
            "Epoch 88/100\n",
            "20/20 [==============================] - 2s 86ms/step - loss: 1.6803 - acc: 0.4109 - val_loss: 1.5947 - val_acc: 0.4144\n",
            "Epoch 89/100\n",
            "20/20 [==============================] - 2s 86ms/step - loss: 1.6884 - acc: 0.3781 - val_loss: 1.5646 - val_acc: 0.4371\n",
            "Epoch 90/100\n",
            "20/20 [==============================] - 2s 86ms/step - loss: 1.6516 - acc: 0.3922 - val_loss: 1.6921 - val_acc: 0.3985\n",
            "Epoch 91/100\n",
            "20/20 [==============================] - 2s 86ms/step - loss: 1.7037 - acc: 0.3797 - val_loss: 1.5502 - val_acc: 0.4463\n",
            "Epoch 92/100\n",
            "20/20 [==============================] - 2s 87ms/step - loss: 1.7128 - acc: 0.3703 - val_loss: 1.5707 - val_acc: 0.4395\n",
            "Epoch 93/100\n",
            "20/20 [==============================] - 2s 87ms/step - loss: 1.6266 - acc: 0.4156 - val_loss: 1.5910 - val_acc: 0.4281\n",
            "Epoch 94/100\n",
            "20/20 [==============================] - 2s 86ms/step - loss: 1.6028 - acc: 0.4234 - val_loss: 1.5586 - val_acc: 0.4274\n",
            "Epoch 95/100\n",
            "20/20 [==============================] - 2s 87ms/step - loss: 1.7399 - acc: 0.3594 - val_loss: 1.5558 - val_acc: 0.4254\n",
            "Epoch 96/100\n",
            "20/20 [==============================] - 2s 86ms/step - loss: 1.5786 - acc: 0.4422 - val_loss: 1.5349 - val_acc: 0.4395\n",
            "Epoch 97/100\n",
            "20/20 [==============================] - 2s 85ms/step - loss: 1.6531 - acc: 0.3844 - val_loss: 1.6191 - val_acc: 0.4162\n",
            "Epoch 98/100\n",
            "20/20 [==============================] - 2s 86ms/step - loss: 1.6428 - acc: 0.4172 - val_loss: 1.5438 - val_acc: 0.4400\n",
            "Epoch 99/100\n",
            "20/20 [==============================] - 2s 85ms/step - loss: 1.6176 - acc: 0.3984 - val_loss: 1.5139 - val_acc: 0.4576\n",
            "Epoch 100/100\n",
            "20/20 [==============================] - 2s 86ms/step - loss: 1.5945 - acc: 0.4266 - val_loss: 1.5239 - val_acc: 0.4454\n"
          ],
          "name": "stdout"
        }
      ]
    },
    {
      "metadata": {
        "id": "XJOMRBtc-r77",
        "colab_type": "code",
        "outputId": "4814448f-3e3a-4042-c13f-1ae81a4f90f5",
        "colab": {
          "base_uri": "https://localhost:8080/",
          "height": 34
        }
      },
      "cell_type": "code",
      "source": [
        "# Save model and weights\n",
        "if not os.path.isdir(save_dir):\n",
        "    os.makedirs(save_dir)\n",
        "model_path = os.path.join(save_dir, model_name)\n",
        "model.save(model_path)\n",
        "print('Saved trained model at %s ' % model_path)"
      ],
      "execution_count": 0,
      "outputs": [
        {
          "output_type": "stream",
          "text": [
            "Saved trained model at /content/saved_models/keras_cifar10_trained_model.h5 \n"
          ],
          "name": "stdout"
        }
      ]
    },
    {
      "metadata": {
        "id": "yidaCcOb-uh4",
        "colab_type": "code",
        "outputId": "745b2ce3-20d8-42c0-b4d7-355cb8c5995a",
        "colab": {
          "base_uri": "https://localhost:8080/",
          "height": 68
        }
      },
      "cell_type": "code",
      "source": [
        "# Score trained model.\n",
        "scores = model.evaluate(x_test, y_test, verbose=1)\n",
        "print('Test loss:', scores[0])\n",
        "print('Test accuracy:', scores[1])"
      ],
      "execution_count": 0,
      "outputs": [
        {
          "output_type": "stream",
          "text": [
            "10000/10000 [==============================] - 1s 138us/step\n",
            "Test loss: 1.5239388525009154\n",
            "Test accuracy: 0.4454\n"
          ],
          "name": "stdout"
        }
      ]
    }
  ]
}
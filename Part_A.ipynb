{
  "nbformat": 4,
  "nbformat_minor": 0,
  "metadata": {
    "colab": {
      "name": "Part A.ipynb",
      "version": "0.3.2",
      "provenance": [],
      "include_colab_link": true
    },
    "kernelspec": {
      "name": "python3",
      "display_name": "Python 3"
    },
    "accelerator": "GPU"
  },
  "cells": [
    {
      "cell_type": "markdown",
      "metadata": {
        "id": "view-in-github",
        "colab_type": "text"
      },
      "source": [
        "<a href=\"https://colab.research.google.com/github/umairakhtar/Colab-INFO7374/blob/master/Part_A.ipynb\" target=\"_parent\"><img src=\"https://colab.research.google.com/assets/colab-badge.svg\" alt=\"Open In Colab\"/></a>"
      ]
    },
    {
      "metadata": {
        "id": "he6B-Nhy9huR",
        "colab_type": "code",
        "colab": {}
      },
      "cell_type": "code",
      "source": [
        "from __future__ import print_function\n",
        "import keras\n",
        "from keras.datasets import cifar10\n",
        "from keras.preprocessing.image import ImageDataGenerator\n",
        "from keras.models import Sequential\n",
        "from keras.layers import Dense, Dropout, Activation, Flatten\n",
        "from keras.layers import Conv2D, MaxPooling2D\n",
        "import os\n"
      ],
      "execution_count": 0,
      "outputs": []
    },
    {
      "metadata": {
        "id": "qQa74nG3-D3R",
        "colab_type": "code",
        "colab": {}
      },
      "cell_type": "code",
      "source": [
        "batch_size = 32\n",
        "num_classes = 10\n",
        "epochs = 100\n",
        "data_augmentation = True\n",
        "num_predictions = 20\n",
        "save_dir = os.path.join(os.getcwd(), 'saved_models')\n",
        "model_name = 'keras_cifar10_trained_model.h5'"
      ],
      "execution_count": 0,
      "outputs": []
    },
    {
      "metadata": {
        "id": "1hW6txjG-LC6",
        "colab_type": "code",
        "outputId": "fec32408-5253-45e0-8d9e-bf47c0d2bb94",
        "colab": {
          "base_uri": "https://localhost:8080/",
          "height": 68
        }
      },
      "cell_type": "code",
      "source": [
        "# The data, split between train and test sets:\n",
        "(x_train, y_train), (x_test, y_test) = cifar10.load_data()\n",
        "print('x_train shape:', x_train.shape)\n",
        "print(x_train.shape[0], 'train samples')\n",
        "print(x_test.shape[0], 'test samples')\n"
      ],
      "execution_count": 99,
      "outputs": [
        {
          "output_type": "stream",
          "text": [
            "x_train shape: (50000, 32, 32, 3)\n",
            "50000 train samples\n",
            "10000 test samples\n"
          ],
          "name": "stdout"
        }
      ]
    },
    {
      "metadata": {
        "id": "11EYIBpvEFLt",
        "colab_type": "code",
        "colab": {}
      },
      "cell_type": "code",
      "source": [
        "from keras.layers import Layer, Dense\n",
        "from keras import backend as K\n",
        "\n",
        "class DenseK( Layer ) :\n",
        "    def __init__( self, K=3, **kwargs ) :\n",
        "        self.K = K\n",
        "        super( DenseK, self ).__init__( **kwargs )\n",
        "    def build( self, input_shape ) :\n",
        "        feat_dims = input_shape[-1]\n",
        "        assert feat_dims % self.K == 0\n",
        "        self.kernel = self.add_weight(shape=( 1, feat_dims ),\n",
        "                                      initializer='glorot_uniform',\n",
        "                                      name='kernel' )\n",
        "        self.bias = self.add_weight(shape=( 1, feat_dims//self.K ),\n",
        "                                      initializer='zeros',\n",
        "                                      name='bias' )\n",
        "        self.xk_shape = (-1, feat_dims//self.K, self.K )\n",
        "    def call( self, x ) :\n",
        "        # 1. element-wise product between x and kernel\n",
        "        xk = x * self.kernel\n",
        "        # 2. reshape xk, xk.shape = (batch_size, input_feat_dim//3, 3 )\n",
        "        xk = K.reshape( xk, self.xk_shape ) \n",
        "        # 3. compute y for every K elements in xk\n",
        "        y = K.sum( xk, axis=-1, keepdims=False ) + self.bias\n",
        "        return y \n",
        "    def compute_output_shape( self, input_shape ) :\n",
        "        batch_size, feat_dims = input_shape\n",
        "        return ( batch_size, feat_dims//self.K )"
      ],
      "execution_count": 0,
      "outputs": []
    },
    {
      "metadata": {
        "id": "Rwl9dio2-WVe",
        "colab_type": "code",
        "colab": {}
      },
      "cell_type": "code",
      "source": [
        "# initiate RMSprop optimizer\n",
        "opt = keras.optimizers.rmsprop(lr=0.0001, decay=1e-6)"
      ],
      "execution_count": 0,
      "outputs": []
    },
    {
      "metadata": {
        "id": "kD1bDDHb-RZx",
        "colab_type": "code",
        "colab": {}
      },
      "cell_type": "code",
      "source": [
        "# Convert class vectors to binary class matrices.\n",
        "y_train = keras.utils.to_categorical(y_train, num_classes)\n",
        "y_test = keras.utils.to_categorical(y_test, num_classes)\n",
        "\n",
        "model = Sequential()\n",
        "#model.add(DenseK(K=3, name='3-neuron-dense'))\n",
        "\n",
        "keras.layers.BatchNormalization(axis=-1, momentum=0.99, epsilon=0.001, center=True, scale=True, beta_initializer='zeros', gamma_initializer='ones', moving_mean_initializer='zeros', moving_variance_initializer='ones', beta_regularizer=None, gamma_regularizer=None, beta_constraint=None, gamma_constraint=None)\n",
        "keras.layers.GaussianNoise(0.1)\n",
        "\n",
        "model.add(Conv2D(32, (3, 3), padding='same',\n",
        "                 input_shape=x_train.shape[1:]))\n",
        "model.add(Activation('relu'))\n",
        "model.add(Conv2D(32, (3, 3)))\n",
        "model.add(Activation('relu'))\n",
        "model.add(MaxPooling2D(pool_size=(2, 2)))\n",
        "model.add(Dropout(0.25))\n",
        "\n",
        "model.add(Conv2D(64, (3, 3), padding='same'))\n",
        "model.add(Activation('relu'))\n",
        "model.add(Conv2D(64, (3, 3)))\n",
        "model.add(Activation('relu'))\n",
        "model.add(MaxPooling2D(pool_size=(2, 2)))\n",
        "model.add(Dropout(0.25))\n",
        "\n",
        "model.add(Flatten())\n",
        "model.add(Dense(512))\n",
        "model.add(Activation('relu'))\n",
        "model.add(Dropout(0.5))\n",
        "model.add(Dense(num_classes))\n",
        "\n",
        "model.add(Activation('softmax'))\n",
        "\n"
      ],
      "execution_count": 0,
      "outputs": []
    },
    {
      "metadata": {
        "id": "np4O4k1d-bPh",
        "colab_type": "code",
        "colab": {}
      },
      "cell_type": "code",
      "source": [
        "# Let's train the model using RMSprop\n",
        "model.compile(loss='categorical_crossentropy',\n",
        "              optimizer=opt,\n",
        "              metrics=['accuracy'])"
      ],
      "execution_count": 0,
      "outputs": []
    },
    {
      "metadata": {
        "id": "MC14QpKv-frA",
        "colab_type": "code",
        "colab": {}
      },
      "cell_type": "code",
      "source": [
        "x_train = x_train.astype('float32')\n",
        "x_test = x_test.astype('float32')\n",
        "x_train /= 255\n",
        "x_test /= 255"
      ],
      "execution_count": 0,
      "outputs": []
    },
    {
      "metadata": {
        "id": "sq4d0a51-nF-",
        "colab_type": "code",
        "outputId": "df7812ac-4080-4dfb-9517-bbf254cb05a7",
        "colab": {
          "base_uri": "https://localhost:8080/",
          "height": 3434
        }
      },
      "cell_type": "code",
      "source": [
        "if not data_augmentation:\n",
        "    print('Not using data augmentation.')\n",
        "    model.fit(x_train, y_train,\n",
        "              batch_size=batch_size,\n",
        "              epochs=epochs,\n",
        "              validation_data=(x_test, y_test),\n",
        "              shuffle=True)\n",
        "else:\n",
        "    print('Using real-time data augmentation.')\n",
        "    # This will do preprocessing and realtime data augmentation:\n",
        "    datagen = ImageDataGenerator(\n",
        "        featurewise_center=False,  # set input mean to 0 over the dataset\n",
        "        samplewise_center=False,  # set each sample mean to 0\n",
        "        featurewise_std_normalization=False,  # divide inputs by std of the dataset\n",
        "        samplewise_std_normalization=False,  # divide each input by its std\n",
        "        zca_whitening=False,  # apply ZCA whitening\n",
        "        zca_epsilon=1e-06,  # epsilon for ZCA whitening\n",
        "        rotation_range=0,  # randomly rotate images in the range (degrees, 0 to 180)\n",
        "        # randomly shift images horizontally (fraction of total width)\n",
        "        width_shift_range=0.1,\n",
        "        # randomly shift images vertically (fraction of total height)\n",
        "        height_shift_range=0.1,\n",
        "        shear_range=0.,  # set range for random shear\n",
        "        zoom_range=0.,  # set range for random zoom\n",
        "        channel_shift_range=0.,  # set range for random channel shifts\n",
        "        # set mode for filling points outside the input boundaries\n",
        "        fill_mode='nearest',\n",
        "        cval=0.,  # value used for fill_mode = \"constant\"\n",
        "        horizontal_flip=True,  # randomly flip images\n",
        "        vertical_flip=False,  # randomly flip images\n",
        "        # set rescaling factor (applied before any other transformation)\n",
        "        rescale=None,\n",
        "        # set function that will be applied on each input\n",
        "        preprocessing_function=None,\n",
        "        # image data format, either \"channels_first\" or \"channels_last\"\n",
        "        data_format=None,\n",
        "        # fraction of images reserved for validation (strictly between 0 and 1)\n",
        "        validation_split=0.0)\n",
        "\n",
        "    # Compute quantities required for feature-wise normalization\n",
        "    # (std, mean, and principal components if ZCA whitening is applied).\n",
        "    datagen.fit(x_train)\n",
        "\n",
        "    # Fit the model on the batches generated by datagen.flow().\n",
        "    model.fit_generator(datagen.flow(x_train, y_train,\n",
        "                                     batch_size=batch_size),\n",
        "                        epochs=epochs,steps_per_epoch=100,\n",
        "                        validation_data=(x_test, y_test),\n",
        "                        workers=4)"
      ],
      "execution_count": 105,
      "outputs": [
        {
          "output_type": "stream",
          "text": [
            "Using real-time data augmentation.\n",
            "Epoch 1/100\n",
            "100/100 [==============================] - 5s 49ms/step - loss: 2.2931 - acc: 0.1222 - val_loss: 2.2713 - val_acc: 0.1192\n",
            "Epoch 2/100\n",
            "100/100 [==============================] - 4s 40ms/step - loss: 2.2178 - acc: 0.1675 - val_loss: 2.1079 - val_acc: 0.2706\n",
            "Epoch 3/100\n",
            "100/100 [==============================] - 4s 39ms/step - loss: 2.0583 - acc: 0.2381 - val_loss: 1.9758 - val_acc: 0.2857\n",
            "Epoch 4/100\n",
            "100/100 [==============================] - 4s 40ms/step - loss: 1.9888 - acc: 0.2625 - val_loss: 1.9056 - val_acc: 0.3310\n",
            "Epoch 5/100\n",
            "100/100 [==============================] - 4s 39ms/step - loss: 1.9539 - acc: 0.2859 - val_loss: 1.8715 - val_acc: 0.3344\n",
            "Epoch 6/100\n",
            "100/100 [==============================] - 4s 39ms/step - loss: 1.8762 - acc: 0.2987 - val_loss: 1.7766 - val_acc: 0.3693\n",
            "Epoch 7/100\n",
            "100/100 [==============================] - 4s 40ms/step - loss: 1.8384 - acc: 0.3403 - val_loss: 1.7499 - val_acc: 0.3743\n",
            "Epoch 8/100\n",
            "100/100 [==============================] - 4s 40ms/step - loss: 1.8446 - acc: 0.3334 - val_loss: 1.7241 - val_acc: 0.3858\n",
            "Epoch 9/100\n",
            "100/100 [==============================] - 4s 40ms/step - loss: 1.8101 - acc: 0.3344 - val_loss: 1.6878 - val_acc: 0.3997\n",
            "Epoch 10/100\n",
            "100/100 [==============================] - 4s 40ms/step - loss: 1.7870 - acc: 0.3497 - val_loss: 1.8183 - val_acc: 0.3447\n",
            "Epoch 11/100\n",
            "100/100 [==============================] - 4s 41ms/step - loss: 1.7815 - acc: 0.3506 - val_loss: 1.6779 - val_acc: 0.3967\n",
            "Epoch 12/100\n",
            "100/100 [==============================] - 4s 40ms/step - loss: 1.7476 - acc: 0.3559 - val_loss: 1.6335 - val_acc: 0.4081\n",
            "Epoch 13/100\n",
            "100/100 [==============================] - 4s 40ms/step - loss: 1.7104 - acc: 0.3806 - val_loss: 1.7033 - val_acc: 0.3874\n",
            "Epoch 14/100\n",
            "100/100 [==============================] - 4s 39ms/step - loss: 1.6813 - acc: 0.3850 - val_loss: 1.5803 - val_acc: 0.4304\n",
            "Epoch 15/100\n",
            "100/100 [==============================] - 4s 40ms/step - loss: 1.7156 - acc: 0.3731 - val_loss: 1.5834 - val_acc: 0.4280\n",
            "Epoch 16/100\n",
            "100/100 [==============================] - 4s 39ms/step - loss: 1.7076 - acc: 0.3875 - val_loss: 1.5752 - val_acc: 0.4308\n",
            "Epoch 17/100\n",
            "100/100 [==============================] - 4s 40ms/step - loss: 1.6600 - acc: 0.3862 - val_loss: 1.5692 - val_acc: 0.4326\n",
            "Epoch 18/100\n",
            "100/100 [==============================] - 4s 40ms/step - loss: 1.6594 - acc: 0.3937 - val_loss: 1.5305 - val_acc: 0.4430\n",
            "Epoch 19/100\n",
            "100/100 [==============================] - 4s 40ms/step - loss: 1.6535 - acc: 0.3919 - val_loss: 1.5321 - val_acc: 0.4454\n",
            "Epoch 20/100\n",
            "100/100 [==============================] - 4s 39ms/step - loss: 1.6320 - acc: 0.4034 - val_loss: 1.5840 - val_acc: 0.4310\n",
            "Epoch 21/100\n",
            "100/100 [==============================] - 4s 39ms/step - loss: 1.6088 - acc: 0.4075 - val_loss: 1.4849 - val_acc: 0.4587\n",
            "Epoch 22/100\n",
            "100/100 [==============================] - 4s 40ms/step - loss: 1.6394 - acc: 0.4003 - val_loss: 1.5143 - val_acc: 0.4520\n",
            "Epoch 23/100\n",
            "100/100 [==============================] - 4s 39ms/step - loss: 1.5815 - acc: 0.4241 - val_loss: 1.4733 - val_acc: 0.4629\n",
            "Epoch 24/100\n",
            "100/100 [==============================] - 4s 39ms/step - loss: 1.5681 - acc: 0.4331 - val_loss: 1.4457 - val_acc: 0.4769\n",
            "Epoch 25/100\n",
            "100/100 [==============================] - 4s 40ms/step - loss: 1.6053 - acc: 0.4178 - val_loss: 1.4778 - val_acc: 0.4589\n",
            "Epoch 26/100\n",
            "100/100 [==============================] - 4s 40ms/step - loss: 1.5679 - acc: 0.4294 - val_loss: 1.4415 - val_acc: 0.4743\n",
            "Epoch 27/100\n",
            "100/100 [==============================] - 4s 40ms/step - loss: 1.5490 - acc: 0.4291 - val_loss: 1.4587 - val_acc: 0.4748\n",
            "Epoch 28/100\n",
            "100/100 [==============================] - 4s 40ms/step - loss: 1.5497 - acc: 0.4322 - val_loss: 1.4347 - val_acc: 0.4726\n",
            "Epoch 29/100\n",
            "100/100 [==============================] - 4s 39ms/step - loss: 1.5478 - acc: 0.4366 - val_loss: 1.4044 - val_acc: 0.4903\n",
            "Epoch 30/100\n",
            "100/100 [==============================] - 4s 40ms/step - loss: 1.5147 - acc: 0.4363 - val_loss: 1.3947 - val_acc: 0.4925\n",
            "Epoch 31/100\n",
            "100/100 [==============================] - 4s 39ms/step - loss: 1.5368 - acc: 0.4381 - val_loss: 1.4110 - val_acc: 0.4904\n",
            "Epoch 32/100\n",
            "100/100 [==============================] - 4s 39ms/step - loss: 1.5265 - acc: 0.4450 - val_loss: 1.3705 - val_acc: 0.5026\n",
            "Epoch 33/100\n",
            "100/100 [==============================] - 4s 39ms/step - loss: 1.4948 - acc: 0.4637 - val_loss: 1.4095 - val_acc: 0.4895\n",
            "Epoch 34/100\n",
            "100/100 [==============================] - 4s 39ms/step - loss: 1.4854 - acc: 0.4581 - val_loss: 1.3718 - val_acc: 0.4968\n",
            "Epoch 35/100\n",
            "100/100 [==============================] - 4s 39ms/step - loss: 1.4834 - acc: 0.4562 - val_loss: 1.4643 - val_acc: 0.4720\n",
            "Epoch 36/100\n",
            "100/100 [==============================] - 4s 40ms/step - loss: 1.5032 - acc: 0.4566 - val_loss: 1.3863 - val_acc: 0.4980\n",
            "Epoch 37/100\n",
            "100/100 [==============================] - 4s 39ms/step - loss: 1.4629 - acc: 0.4781 - val_loss: 1.3733 - val_acc: 0.5033\n",
            "Epoch 38/100\n",
            "100/100 [==============================] - 4s 39ms/step - loss: 1.4819 - acc: 0.4703 - val_loss: 1.3399 - val_acc: 0.5194\n",
            "Epoch 39/100\n",
            "100/100 [==============================] - 4s 40ms/step - loss: 1.4851 - acc: 0.4628 - val_loss: 1.3197 - val_acc: 0.5225\n",
            "Epoch 40/100\n",
            "100/100 [==============================] - 4s 39ms/step - loss: 1.4615 - acc: 0.4706 - val_loss: 1.3603 - val_acc: 0.5090\n",
            "Epoch 41/100\n",
            "100/100 [==============================] - 4s 39ms/step - loss: 1.4907 - acc: 0.4619 - val_loss: 1.3315 - val_acc: 0.5221\n",
            "Epoch 42/100\n",
            "100/100 [==============================] - 4s 40ms/step - loss: 1.4384 - acc: 0.4791 - val_loss: 1.3309 - val_acc: 0.5181\n",
            "Epoch 43/100\n",
            "100/100 [==============================] - 4s 40ms/step - loss: 1.4524 - acc: 0.4700 - val_loss: 1.3728 - val_acc: 0.5110\n",
            "Epoch 44/100\n",
            "100/100 [==============================] - 4s 40ms/step - loss: 1.4401 - acc: 0.4744 - val_loss: 1.3606 - val_acc: 0.5062\n",
            "Epoch 45/100\n",
            "100/100 [==============================] - 4s 40ms/step - loss: 1.4378 - acc: 0.4813 - val_loss: 1.3180 - val_acc: 0.5178\n",
            "Epoch 46/100\n",
            "100/100 [==============================] - 4s 40ms/step - loss: 1.4396 - acc: 0.4694 - val_loss: 1.2849 - val_acc: 0.5429\n",
            "Epoch 47/100\n",
            "100/100 [==============================] - 4s 39ms/step - loss: 1.4311 - acc: 0.4809 - val_loss: 1.3345 - val_acc: 0.5152\n",
            "Epoch 48/100\n",
            "100/100 [==============================] - 4s 39ms/step - loss: 1.4311 - acc: 0.4813 - val_loss: 1.3674 - val_acc: 0.5120\n",
            "Epoch 49/100\n",
            "100/100 [==============================] - 4s 40ms/step - loss: 1.4074 - acc: 0.4909 - val_loss: 1.4348 - val_acc: 0.4987\n",
            "Epoch 50/100\n",
            "100/100 [==============================] - 4s 39ms/step - loss: 1.3939 - acc: 0.4937 - val_loss: 1.2886 - val_acc: 0.5387\n",
            "Epoch 51/100\n",
            "100/100 [==============================] - 4s 40ms/step - loss: 1.3948 - acc: 0.4997 - val_loss: 1.2927 - val_acc: 0.5409\n",
            "Epoch 52/100\n",
            "100/100 [==============================] - 4s 40ms/step - loss: 1.4110 - acc: 0.5062 - val_loss: 1.3098 - val_acc: 0.5365\n",
            "Epoch 53/100\n",
            "100/100 [==============================] - 4s 40ms/step - loss: 1.4218 - acc: 0.4822 - val_loss: 1.3398 - val_acc: 0.5223\n",
            "Epoch 54/100\n",
            "100/100 [==============================] - 4s 39ms/step - loss: 1.3950 - acc: 0.5050 - val_loss: 1.2835 - val_acc: 0.5346\n",
            "Epoch 55/100\n",
            "100/100 [==============================] - 4s 39ms/step - loss: 1.3620 - acc: 0.5147 - val_loss: 1.2371 - val_acc: 0.5535\n",
            "Epoch 56/100\n",
            "100/100 [==============================] - 4s 39ms/step - loss: 1.3885 - acc: 0.5022 - val_loss: 1.2642 - val_acc: 0.5450\n",
            "Epoch 57/100\n",
            "100/100 [==============================] - 4s 40ms/step - loss: 1.4015 - acc: 0.4953 - val_loss: 1.3101 - val_acc: 0.5305\n",
            "Epoch 58/100\n",
            "100/100 [==============================] - 4s 39ms/step - loss: 1.3787 - acc: 0.5081 - val_loss: 1.2529 - val_acc: 0.5505\n",
            "Epoch 59/100\n",
            "100/100 [==============================] - 4s 40ms/step - loss: 1.3951 - acc: 0.4978 - val_loss: 1.2613 - val_acc: 0.5490\n",
            "Epoch 60/100\n",
            "100/100 [==============================] - 4s 40ms/step - loss: 1.3703 - acc: 0.5150 - val_loss: 1.3033 - val_acc: 0.5397\n",
            "Epoch 61/100\n",
            "100/100 [==============================] - 4s 40ms/step - loss: 1.3323 - acc: 0.5259 - val_loss: 1.3127 - val_acc: 0.5278\n",
            "Epoch 62/100\n",
            "100/100 [==============================] - 4s 39ms/step - loss: 1.3362 - acc: 0.5216 - val_loss: 1.2257 - val_acc: 0.5682\n",
            "Epoch 63/100\n",
            "100/100 [==============================] - 4s 40ms/step - loss: 1.3391 - acc: 0.5153 - val_loss: 1.2853 - val_acc: 0.5381\n",
            "Epoch 64/100\n",
            "100/100 [==============================] - 4s 39ms/step - loss: 1.3326 - acc: 0.5116 - val_loss: 1.2574 - val_acc: 0.5503\n",
            "Epoch 65/100\n",
            "100/100 [==============================] - 4s 39ms/step - loss: 1.3400 - acc: 0.5166 - val_loss: 1.2387 - val_acc: 0.5626\n",
            "Epoch 66/100\n",
            "100/100 [==============================] - 4s 39ms/step - loss: 1.3271 - acc: 0.5359 - val_loss: 1.2686 - val_acc: 0.5426\n",
            "Epoch 67/100\n",
            "100/100 [==============================] - 4s 40ms/step - loss: 1.3220 - acc: 0.5262 - val_loss: 1.2741 - val_acc: 0.5376\n",
            "Epoch 68/100\n",
            "100/100 [==============================] - 4s 39ms/step - loss: 1.3567 - acc: 0.5100 - val_loss: 1.2324 - val_acc: 0.5605\n",
            "Epoch 69/100\n",
            "100/100 [==============================] - 4s 40ms/step - loss: 1.3228 - acc: 0.5147 - val_loss: 1.2122 - val_acc: 0.5700\n",
            "Epoch 70/100\n",
            "100/100 [==============================] - 4s 40ms/step - loss: 1.3237 - acc: 0.5238 - val_loss: 1.1817 - val_acc: 0.5824\n",
            "Epoch 71/100\n",
            "100/100 [==============================] - 4s 39ms/step - loss: 1.3251 - acc: 0.5288 - val_loss: 1.2466 - val_acc: 0.5497\n",
            "Epoch 72/100\n",
            "100/100 [==============================] - 4s 39ms/step - loss: 1.3189 - acc: 0.5359 - val_loss: 1.2337 - val_acc: 0.5634\n",
            "Epoch 73/100\n",
            "100/100 [==============================] - 4s 39ms/step - loss: 1.3212 - acc: 0.5262 - val_loss: 1.1983 - val_acc: 0.5734\n",
            "Epoch 74/100\n",
            "100/100 [==============================] - 4s 40ms/step - loss: 1.2920 - acc: 0.5303 - val_loss: 1.2469 - val_acc: 0.5538\n",
            "Epoch 75/100\n",
            "100/100 [==============================] - 4s 39ms/step - loss: 1.2915 - acc: 0.5366 - val_loss: 1.2229 - val_acc: 0.5614\n",
            "Epoch 76/100\n",
            "100/100 [==============================] - 4s 40ms/step - loss: 1.3236 - acc: 0.5337 - val_loss: 1.2293 - val_acc: 0.5568\n",
            "Epoch 77/100\n",
            "100/100 [==============================] - 4s 39ms/step - loss: 1.3087 - acc: 0.5294 - val_loss: 1.2114 - val_acc: 0.5677\n",
            "Epoch 78/100\n",
            "100/100 [==============================] - 4s 40ms/step - loss: 1.2839 - acc: 0.5519 - val_loss: 1.1546 - val_acc: 0.5913\n",
            "Epoch 79/100\n",
            "100/100 [==============================] - 4s 39ms/step - loss: 1.2951 - acc: 0.5381 - val_loss: 1.2040 - val_acc: 0.5750\n",
            "Epoch 80/100\n",
            "100/100 [==============================] - 4s 40ms/step - loss: 1.2953 - acc: 0.5391 - val_loss: 1.1789 - val_acc: 0.5789\n",
            "Epoch 81/100\n",
            "100/100 [==============================] - 4s 39ms/step - loss: 1.2666 - acc: 0.5506 - val_loss: 1.1605 - val_acc: 0.5869\n",
            "Epoch 82/100\n",
            "100/100 [==============================] - 4s 39ms/step - loss: 1.2862 - acc: 0.5506 - val_loss: 1.1334 - val_acc: 0.5927\n",
            "Epoch 83/100\n",
            "100/100 [==============================] - 4s 39ms/step - loss: 1.2737 - acc: 0.5356 - val_loss: 1.1632 - val_acc: 0.5851\n",
            "Epoch 84/100\n",
            "100/100 [==============================] - 4s 39ms/step - loss: 1.2764 - acc: 0.5491 - val_loss: 1.1489 - val_acc: 0.5914\n",
            "Epoch 85/100\n",
            "100/100 [==============================] - 4s 39ms/step - loss: 1.2358 - acc: 0.5737 - val_loss: 1.3491 - val_acc: 0.5376\n",
            "Epoch 86/100\n",
            "100/100 [==============================] - 4s 39ms/step - loss: 1.2741 - acc: 0.5463 - val_loss: 1.1579 - val_acc: 0.5857\n",
            "Epoch 87/100\n",
            "100/100 [==============================] - 4s 41ms/step - loss: 1.2860 - acc: 0.5288 - val_loss: 1.1619 - val_acc: 0.5880\n",
            "Epoch 88/100\n",
            "100/100 [==============================] - 4s 40ms/step - loss: 1.2619 - acc: 0.5466 - val_loss: 1.1510 - val_acc: 0.5913\n",
            "Epoch 89/100\n",
            "100/100 [==============================] - 4s 40ms/step - loss: 1.2723 - acc: 0.5487 - val_loss: 1.1939 - val_acc: 0.5800\n",
            "Epoch 90/100\n",
            "100/100 [==============================] - 4s 39ms/step - loss: 1.2399 - acc: 0.5625 - val_loss: 1.1358 - val_acc: 0.5964\n",
            "Epoch 91/100\n",
            "100/100 [==============================] - 4s 39ms/step - loss: 1.2622 - acc: 0.5494 - val_loss: 1.1891 - val_acc: 0.5878\n",
            "Epoch 92/100\n",
            "100/100 [==============================] - 4s 39ms/step - loss: 1.2586 - acc: 0.5547 - val_loss: 1.1683 - val_acc: 0.5860\n",
            "Epoch 93/100\n",
            "100/100 [==============================] - 4s 40ms/step - loss: 1.2624 - acc: 0.5563 - val_loss: 1.1159 - val_acc: 0.6005\n",
            "Epoch 94/100\n",
            "100/100 [==============================] - 4s 39ms/step - loss: 1.2122 - acc: 0.5700 - val_loss: 1.2082 - val_acc: 0.5750\n",
            "Epoch 95/100\n",
            "100/100 [==============================] - 4s 40ms/step - loss: 1.2241 - acc: 0.5631 - val_loss: 1.0941 - val_acc: 0.6103\n",
            "Epoch 96/100\n",
            "100/100 [==============================] - 4s 40ms/step - loss: 1.2504 - acc: 0.5544 - val_loss: 1.1049 - val_acc: 0.6067\n",
            "Epoch 97/100\n",
            "100/100 [==============================] - 4s 39ms/step - loss: 1.2146 - acc: 0.5656 - val_loss: 1.1151 - val_acc: 0.5995\n",
            "Epoch 98/100\n",
            "100/100 [==============================] - 4s 39ms/step - loss: 1.2315 - acc: 0.5666 - val_loss: 1.1015 - val_acc: 0.6084\n",
            "Epoch 99/100\n",
            "100/100 [==============================] - 4s 39ms/step - loss: 1.2149 - acc: 0.5684 - val_loss: 1.1290 - val_acc: 0.6048\n",
            "Epoch 100/100\n",
            "100/100 [==============================] - 4s 39ms/step - loss: 1.1959 - acc: 0.5772 - val_loss: 1.0747 - val_acc: 0.6117\n"
          ],
          "name": "stdout"
        }
      ]
    },
    {
      "metadata": {
        "id": "XJOMRBtc-r77",
        "colab_type": "code",
        "colab": {
          "base_uri": "https://localhost:8080/",
          "height": 34
        },
        "outputId": "7d2f9864-e0fd-4703-b7b1-ecc0069c11cd"
      },
      "cell_type": "code",
      "source": [
        "# Save model and weights\n",
        "if not os.path.isdir(save_dir):\n",
        "    os.makedirs(save_dir)\n",
        "model_path = os.path.join(save_dir, model_name)\n",
        "model.save(model_path)\n",
        "print('Saved trained model at %s ' % model_path)"
      ],
      "execution_count": 106,
      "outputs": [
        {
          "output_type": "stream",
          "text": [
            "Saved trained model at /content/saved_models/keras_cifar10_trained_model.h5 \n"
          ],
          "name": "stdout"
        }
      ]
    },
    {
      "metadata": {
        "id": "yidaCcOb-uh4",
        "colab_type": "code",
        "colab": {
          "base_uri": "https://localhost:8080/",
          "height": 68
        },
        "outputId": "9c365f9a-4cc7-4eb8-bf7d-4cfcff9efd9f"
      },
      "cell_type": "code",
      "source": [
        "# Score trained model.\n",
        "scores = model.evaluate(x_test, y_test, verbose=1)\n",
        "print('Test loss:', scores[0])\n",
        "print('Test accuracy:', scores[1])"
      ],
      "execution_count": 107,
      "outputs": [
        {
          "output_type": "stream",
          "text": [
            "10000/10000 [==============================] - 1s 145us/step\n",
            "Test loss: 1.0746855061531067\n",
            "Test accuracy: 0.6117\n"
          ],
          "name": "stdout"
        }
      ]
    }
  ]
}
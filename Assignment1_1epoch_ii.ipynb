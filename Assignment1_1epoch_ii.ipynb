{
  "nbformat": 4,
  "nbformat_minor": 0,
  "metadata": {
    "colab": {
      "name": "Assignment1-1epoch-ii.ipynb",
      "version": "0.3.2",
      "provenance": [],
      "include_colab_link": true
    },
    "kernelspec": {
      "name": "python3",
      "display_name": "Python 3"
    },
    "accelerator": "GPU"
  },
  "cells": [
    {
      "cell_type": "markdown",
      "metadata": {
        "id": "view-in-github",
        "colab_type": "text"
      },
      "source": [
        "<a href=\"https://colab.research.google.com/github/umairakhtar/Colab-INFO7374/blob/master/Assignment1_1epoch_ii.ipynb\" target=\"_parent\"><img src=\"https://colab.research.google.com/assets/colab-badge.svg\" alt=\"Open In Colab\"/></a>"
      ]
    },
    {
      "metadata": {
        "id": "kLpotzHmYAfy",
        "colab_type": "code",
        "outputId": "96536ef3-8dc6-405e-9682-a9de04b0564d",
        "colab": {
          "base_uri": "https://localhost:8080/",
          "height": 34
        }
      },
      "cell_type": "code",
      "source": [
        "from keras.datasets import cifar10"
      ],
      "execution_count": 0,
      "outputs": [
        {
          "output_type": "stream",
          "text": [
            "Using TensorFlow backend.\n"
          ],
          "name": "stderr"
        }
      ]
    },
    {
      "metadata": {
        "id": "we_mML7zlMQi",
        "colab_type": "code",
        "colab": {}
      },
      "cell_type": "code",
      "source": [
        "(x_train, y_train), (x_test, y_test) = cifar10.load_data()"
      ],
      "execution_count": 0,
      "outputs": []
    },
    {
      "metadata": {
        "id": "cO55-ftSzfjW",
        "colab_type": "code",
        "colab": {}
      },
      "cell_type": "code",
      "source": [
        "from keras import models\n",
        "from keras import layers"
      ],
      "execution_count": 0,
      "outputs": []
    },
    {
      "metadata": {
        "id": "Lp3jKLuit6cW",
        "colab_type": "code",
        "colab": {}
      },
      "cell_type": "code",
      "source": [
        "network = models.Sequential()"
      ],
      "execution_count": 0,
      "outputs": []
    },
    {
      "metadata": {
        "id": "o1evkTpVnTl6",
        "colab_type": "code",
        "colab": {}
      },
      "cell_type": "code",
      "source": [
        "network.add(layers.Dense(512, activation='relu', input_shape=(32 * 32 * 3,)))"
      ],
      "execution_count": 0,
      "outputs": []
    },
    {
      "metadata": {
        "id": "F9CDYqgUnh02",
        "colab_type": "code",
        "colab": {}
      },
      "cell_type": "code",
      "source": [
        "network.add(layers.Dense(10, activation='softmax'))"
      ],
      "execution_count": 0,
      "outputs": []
    },
    {
      "metadata": {
        "id": "H92VYZjCnlmW",
        "colab_type": "code",
        "colab": {}
      },
      "cell_type": "code",
      "source": [
        "network.compile(optimizer='rmsprop',\n",
        "loss='categorical_crossentropy',\n",
        "metrics=['accuracy'])"
      ],
      "execution_count": 0,
      "outputs": []
    },
    {
      "metadata": {
        "id": "6g9b7z6W0Bh5",
        "colab_type": "code",
        "colab": {}
      },
      "cell_type": "code",
      "source": [
        "x_train = x_train.reshape((50000, 32 * 32 *3))\n",
        "x_train = x_train.astype('float32') / 255\n",
        "x_test = x_test.reshape((10000, 32 * 32 *3))\n",
        "x_test = x_test.astype('float32') / 255"
      ],
      "execution_count": 0,
      "outputs": []
    },
    {
      "metadata": {
        "id": "PxjYJL_qg2V1",
        "colab_type": "code",
        "colab": {}
      },
      "cell_type": "code",
      "source": [
        "from keras.utils import to_categorical\n",
        "y_train = to_categorical(y_train)\n",
        "y_test = to_categorical(y_test)"
      ],
      "execution_count": 0,
      "outputs": []
    },
    {
      "metadata": {
        "id": "-UACYg_SK2So",
        "colab_type": "code",
        "outputId": "da2be258-83bd-4c87-fb1f-06256b7765c3",
        "colab": {
          "base_uri": "https://localhost:8080/",
          "height": 1734
        }
      },
      "cell_type": "code",
      "source": [
        "network.fit(x_train, y_train, epochs=50, batch_size=128)"
      ],
      "execution_count": 0,
      "outputs": [
        {
          "output_type": "stream",
          "text": [
            "Epoch 1/50\n",
            "50000/50000 [==============================] - 3s 63us/step - loss: 3.0174 - acc: 0.2342\n",
            "Epoch 2/50\n",
            "50000/50000 [==============================] - 3s 50us/step - loss: 1.8369 - acc: 0.3438\n",
            "Epoch 3/50\n",
            "50000/50000 [==============================] - 3s 50us/step - loss: 1.7183 - acc: 0.3846\n",
            "Epoch 4/50\n",
            "50000/50000 [==============================] - 3s 51us/step - loss: 1.6543 - acc: 0.4117\n",
            "Epoch 5/50\n",
            "50000/50000 [==============================] - 2s 50us/step - loss: 1.6163 - acc: 0.4278\n",
            "Epoch 6/50\n",
            "50000/50000 [==============================] - 3s 51us/step - loss: 1.5820 - acc: 0.4412\n",
            "Epoch 7/50\n",
            "50000/50000 [==============================] - 2s 50us/step - loss: 1.5534 - acc: 0.4482\n",
            "Epoch 8/50\n",
            "50000/50000 [==============================] - 2s 50us/step - loss: 1.5336 - acc: 0.4564\n",
            "Epoch 9/50\n",
            "50000/50000 [==============================] - 3s 51us/step - loss: 1.5128 - acc: 0.4671\n",
            "Epoch 10/50\n",
            "50000/50000 [==============================] - 3s 50us/step - loss: 1.4913 - acc: 0.4748\n",
            "Epoch 11/50\n",
            "50000/50000 [==============================] - 3s 50us/step - loss: 1.4758 - acc: 0.4762\n",
            "Epoch 12/50\n",
            "50000/50000 [==============================] - 3s 50us/step - loss: 1.4651 - acc: 0.4826\n",
            "Epoch 13/50\n",
            "50000/50000 [==============================] - 3s 51us/step - loss: 1.4469 - acc: 0.4859\n",
            "Epoch 14/50\n",
            "50000/50000 [==============================] - 2s 50us/step - loss: 1.4358 - acc: 0.4898\n",
            "Epoch 15/50\n",
            "50000/50000 [==============================] - 3s 51us/step - loss: 1.4218 - acc: 0.4988\n",
            "Epoch 16/50\n",
            "50000/50000 [==============================] - 3s 50us/step - loss: 1.4100 - acc: 0.5030\n",
            "Epoch 17/50\n",
            "50000/50000 [==============================] - 3s 51us/step - loss: 1.4007 - acc: 0.5043\n",
            "Epoch 18/50\n",
            "50000/50000 [==============================] - 3s 50us/step - loss: 1.3894 - acc: 0.5121\n",
            "Epoch 19/50\n",
            "50000/50000 [==============================] - 3s 50us/step - loss: 1.3791 - acc: 0.5151\n",
            "Epoch 20/50\n",
            "50000/50000 [==============================] - 3s 50us/step - loss: 1.3718 - acc: 0.5160\n",
            "Epoch 21/50\n",
            "50000/50000 [==============================] - 3s 50us/step - loss: 1.3607 - acc: 0.5193\n",
            "Epoch 22/50\n",
            "50000/50000 [==============================] - 3s 51us/step - loss: 1.3512 - acc: 0.5247\n",
            "Epoch 23/50\n",
            "50000/50000 [==============================] - 3s 51us/step - loss: 1.3436 - acc: 0.5260\n",
            "Epoch 24/50\n",
            "50000/50000 [==============================] - 3s 56us/step - loss: 1.3364 - acc: 0.5287\n",
            "Epoch 25/50\n",
            "50000/50000 [==============================] - 3s 57us/step - loss: 1.3305 - acc: 0.5311\n",
            "Epoch 26/50\n",
            "50000/50000 [==============================] - 3s 51us/step - loss: 1.3207 - acc: 0.5355\n",
            "Epoch 27/50\n",
            "50000/50000 [==============================] - 3s 51us/step - loss: 1.3139 - acc: 0.5359\n",
            "Epoch 28/50\n",
            "50000/50000 [==============================] - 3s 51us/step - loss: 1.3040 - acc: 0.5389\n",
            "Epoch 29/50\n",
            "50000/50000 [==============================] - 3s 51us/step - loss: 1.2987 - acc: 0.5424\n",
            "Epoch 30/50\n",
            "50000/50000 [==============================] - 3s 50us/step - loss: 1.2887 - acc: 0.5468\n",
            "Epoch 31/50\n",
            "50000/50000 [==============================] - 3s 51us/step - loss: 1.2837 - acc: 0.5490\n",
            "Epoch 32/50\n",
            "50000/50000 [==============================] - 3s 50us/step - loss: 1.2812 - acc: 0.5493\n",
            "Epoch 33/50\n",
            "50000/50000 [==============================] - 3s 51us/step - loss: 1.2742 - acc: 0.5527\n",
            "Epoch 34/50\n",
            "50000/50000 [==============================] - 3s 51us/step - loss: 1.2684 - acc: 0.5533\n",
            "Epoch 35/50\n",
            "50000/50000 [==============================] - 3s 51us/step - loss: 1.2610 - acc: 0.5558\n",
            "Epoch 36/50\n",
            "50000/50000 [==============================] - 3s 51us/step - loss: 1.2551 - acc: 0.5559\n",
            "Epoch 37/50\n",
            "50000/50000 [==============================] - 3s 51us/step - loss: 1.2495 - acc: 0.5600\n",
            "Epoch 38/50\n",
            "50000/50000 [==============================] - 3s 51us/step - loss: 1.2495 - acc: 0.5612\n",
            "Epoch 39/50\n",
            "50000/50000 [==============================] - 3s 51us/step - loss: 1.2396 - acc: 0.5640\n",
            "Epoch 40/50\n",
            "50000/50000 [==============================] - 3s 51us/step - loss: 1.2360 - acc: 0.5632\n",
            "Epoch 41/50\n",
            "50000/50000 [==============================] - 3s 51us/step - loss: 1.2299 - acc: 0.5695\n",
            "Epoch 42/50\n",
            "50000/50000 [==============================] - 3s 50us/step - loss: 1.2266 - acc: 0.5678\n",
            "Epoch 43/50\n",
            "50000/50000 [==============================] - 3s 50us/step - loss: 1.2229 - acc: 0.5687\n",
            "Epoch 44/50\n",
            "50000/50000 [==============================] - 3s 51us/step - loss: 1.2151 - acc: 0.5722\n",
            "Epoch 45/50\n",
            "50000/50000 [==============================] - 3s 50us/step - loss: 1.2099 - acc: 0.5712\n",
            "Epoch 46/50\n",
            "50000/50000 [==============================] - 3s 51us/step - loss: 1.2104 - acc: 0.5728\n",
            "Epoch 47/50\n",
            "50000/50000 [==============================] - 3s 51us/step - loss: 1.2031 - acc: 0.5749\n",
            "Epoch 48/50\n",
            "50000/50000 [==============================] - 3s 51us/step - loss: 1.1977 - acc: 0.5791\n",
            "Epoch 49/50\n",
            "50000/50000 [==============================] - 3s 51us/step - loss: 1.1943 - acc: 0.5798\n",
            "Epoch 50/50\n",
            "50000/50000 [==============================] - 3s 51us/step - loss: 1.1915 - acc: 0.5820\n"
          ],
          "name": "stdout"
        },
        {
          "output_type": "execute_result",
          "data": {
            "text/plain": [
              "<keras.callbacks.History at 0x7f916814f278>"
            ]
          },
          "metadata": {
            "tags": []
          },
          "execution_count": 10
        }
      ]
    },
    {
      "metadata": {
        "id": "LsLrabcLK4zv",
        "colab_type": "code",
        "outputId": "4d75d555-f406-43c8-b3a6-e7ad1fbe929d",
        "colab": {
          "base_uri": "https://localhost:8080/",
          "height": 34
        }
      },
      "cell_type": "code",
      "source": [
        "test_loss, test_acc = network.evaluate(x_test, y_test)"
      ],
      "execution_count": 0,
      "outputs": [
        {
          "output_type": "stream",
          "text": [
            "10000/10000 [==============================] - 1s 53us/step\n"
          ],
          "name": "stdout"
        }
      ]
    },
    {
      "metadata": {
        "id": "afCOlu_oK-1Q",
        "colab_type": "code",
        "outputId": "c0205c64-f970-4249-b7cf-ed1f78bc729f",
        "colab": {
          "base_uri": "https://localhost:8080/",
          "height": 34
        }
      },
      "cell_type": "code",
      "source": [
        "print('test_acc:', test_acc)"
      ],
      "execution_count": 0,
      "outputs": [
        {
          "output_type": "stream",
          "text": [
            "test_acc: 0.4474\n"
          ],
          "name": "stdout"
        }
      ]
    }
  ]
}
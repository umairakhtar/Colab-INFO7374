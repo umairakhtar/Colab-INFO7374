{
  "nbformat": 4,
  "nbformat_minor": 0,
  "metadata": {
    "colab": {
      "name": "Assignment1-2batchsize-ii.ipynb",
      "version": "0.3.2",
      "provenance": [],
      "include_colab_link": true
    },
    "kernelspec": {
      "name": "python3",
      "display_name": "Python 3"
    },
    "accelerator": "GPU"
  },
  "cells": [
    {
      "cell_type": "markdown",
      "metadata": {
        "id": "view-in-github",
        "colab_type": "text"
      },
      "source": [
        "<a href=\"https://colab.research.google.com/github/umairakhtar/Colab-INFO7374/blob/master/Assignment1_2batchsize_ii.ipynb\" target=\"_parent\"><img src=\"https://colab.research.google.com/assets/colab-badge.svg\" alt=\"Open In Colab\"/></a>"
      ]
    },
    {
      "metadata": {
        "id": "kLpotzHmYAfy",
        "colab_type": "code",
        "outputId": "9e13e04b-ad57-4bfe-81ce-503e51e22fa5",
        "colab": {
          "base_uri": "https://localhost:8080/",
          "height": 34
        }
      },
      "cell_type": "code",
      "source": [
        "from keras.datasets import cifar10"
      ],
      "execution_count": 1,
      "outputs": [
        {
          "output_type": "stream",
          "text": [
            "Using TensorFlow backend.\n"
          ],
          "name": "stderr"
        }
      ]
    },
    {
      "metadata": {
        "id": "we_mML7zlMQi",
        "colab_type": "code",
        "colab": {}
      },
      "cell_type": "code",
      "source": [
        "(x_train, y_train), (x_test, y_test) = cifar10.load_data()"
      ],
      "execution_count": 0,
      "outputs": []
    },
    {
      "metadata": {
        "id": "cO55-ftSzfjW",
        "colab_type": "code",
        "colab": {}
      },
      "cell_type": "code",
      "source": [
        "from keras import models\n",
        "from keras import layers"
      ],
      "execution_count": 0,
      "outputs": []
    },
    {
      "metadata": {
        "id": "Lp3jKLuit6cW",
        "colab_type": "code",
        "colab": {}
      },
      "cell_type": "code",
      "source": [
        "network = models.Sequential()"
      ],
      "execution_count": 0,
      "outputs": []
    },
    {
      "metadata": {
        "id": "o1evkTpVnTl6",
        "colab_type": "code",
        "colab": {}
      },
      "cell_type": "code",
      "source": [
        "network.add(layers.Dense(512, activation='relu', input_shape=(32 * 32 * 3,)))"
      ],
      "execution_count": 0,
      "outputs": []
    },
    {
      "metadata": {
        "id": "F9CDYqgUnh02",
        "colab_type": "code",
        "colab": {}
      },
      "cell_type": "code",
      "source": [
        "network.add(layers.Dense(10, activation='softmax'))"
      ],
      "execution_count": 0,
      "outputs": []
    },
    {
      "metadata": {
        "id": "H92VYZjCnlmW",
        "colab_type": "code",
        "colab": {}
      },
      "cell_type": "code",
      "source": [
        "network.compile(optimizer='rmsprop',\n",
        "loss='categorical_crossentropy',\n",
        "metrics=['accuracy'])"
      ],
      "execution_count": 0,
      "outputs": []
    },
    {
      "metadata": {
        "id": "6g9b7z6W0Bh5",
        "colab_type": "code",
        "colab": {}
      },
      "cell_type": "code",
      "source": [
        "x_train = x_train.reshape((50000, 32 * 32 *3))\n",
        "x_train = x_train.astype('float32') / 255\n",
        "x_test = x_test.reshape((10000, 32 * 32 *3))\n",
        "x_test = x_test.astype('float32') / 255"
      ],
      "execution_count": 0,
      "outputs": []
    },
    {
      "metadata": {
        "id": "PxjYJL_qg2V1",
        "colab_type": "code",
        "colab": {}
      },
      "cell_type": "code",
      "source": [
        "from keras.utils import to_categorical\n",
        "y_train = to_categorical(y_train)\n",
        "y_test = to_categorical(y_test)"
      ],
      "execution_count": 0,
      "outputs": []
    },
    {
      "metadata": {
        "id": "-UACYg_SK2So",
        "colab_type": "code",
        "outputId": "d0840c7f-d916-4ea9-de82-4cb0485817bd",
        "colab": {
          "base_uri": "https://localhost:8080/",
          "height": 1054
        }
      },
      "cell_type": "code",
      "source": [
        "network.fit(x_train, y_train, epochs=30, batch_size=500)"
      ],
      "execution_count": 10,
      "outputs": [
        {
          "output_type": "stream",
          "text": [
            "Epoch 1/30\n",
            "50000/50000 [==============================] - 2s 34us/step - loss: 5.7609 - acc: 0.1637\n",
            "Epoch 2/30\n",
            "50000/50000 [==============================] - 1s 21us/step - loss: 2.2878 - acc: 0.2390\n",
            "Epoch 3/30\n",
            "50000/50000 [==============================] - 1s 20us/step - loss: 2.0419 - acc: 0.2852\n",
            "Epoch 4/30\n",
            "50000/50000 [==============================] - 1s 21us/step - loss: 1.9089 - acc: 0.3201\n",
            "Epoch 5/30\n",
            "50000/50000 [==============================] - 1s 20us/step - loss: 1.8285 - acc: 0.3455\n",
            "Epoch 6/30\n",
            "50000/50000 [==============================] - 1s 20us/step - loss: 1.7805 - acc: 0.3641\n",
            "Epoch 7/30\n",
            "50000/50000 [==============================] - 1s 20us/step - loss: 1.7396 - acc: 0.3814\n",
            "Epoch 8/30\n",
            "50000/50000 [==============================] - 1s 20us/step - loss: 1.7030 - acc: 0.3945\n",
            "Epoch 9/30\n",
            "50000/50000 [==============================] - 1s 20us/step - loss: 1.6776 - acc: 0.4072\n",
            "Epoch 10/30\n",
            "50000/50000 [==============================] - 1s 20us/step - loss: 1.6489 - acc: 0.4190\n",
            "Epoch 11/30\n",
            "50000/50000 [==============================] - 1s 21us/step - loss: 1.6288 - acc: 0.4262\n",
            "Epoch 12/30\n",
            "50000/50000 [==============================] - 1s 20us/step - loss: 1.6086 - acc: 0.4333\n",
            "Epoch 13/30\n",
            "50000/50000 [==============================] - 1s 20us/step - loss: 1.5884 - acc: 0.4394\n",
            "Epoch 14/30\n",
            "50000/50000 [==============================] - 1s 20us/step - loss: 1.5715 - acc: 0.4452\n",
            "Epoch 15/30\n",
            "50000/50000 [==============================] - 1s 20us/step - loss: 1.5605 - acc: 0.4511\n",
            "Epoch 16/30\n",
            "50000/50000 [==============================] - 1s 20us/step - loss: 1.5410 - acc: 0.4598\n",
            "Epoch 17/30\n",
            "50000/50000 [==============================] - 1s 21us/step - loss: 1.5312 - acc: 0.4607\n",
            "Epoch 18/30\n",
            "50000/50000 [==============================] - 1s 20us/step - loss: 1.5057 - acc: 0.4694\n",
            "Epoch 19/30\n",
            "50000/50000 [==============================] - 1s 21us/step - loss: 1.4939 - acc: 0.4736\n",
            "Epoch 20/30\n",
            "50000/50000 [==============================] - 1s 21us/step - loss: 1.4882 - acc: 0.4790\n",
            "Epoch 21/30\n",
            "50000/50000 [==============================] - 1s 21us/step - loss: 1.4786 - acc: 0.4790\n",
            "Epoch 22/30\n",
            "50000/50000 [==============================] - 1s 20us/step - loss: 1.4657 - acc: 0.4833\n",
            "Epoch 23/30\n",
            "50000/50000 [==============================] - 1s 20us/step - loss: 1.4531 - acc: 0.4889\n",
            "Epoch 24/30\n",
            "50000/50000 [==============================] - 1s 20us/step - loss: 1.4467 - acc: 0.4899\n",
            "Epoch 25/30\n",
            "50000/50000 [==============================] - 1s 21us/step - loss: 1.4359 - acc: 0.4944\n",
            "Epoch 26/30\n",
            "50000/50000 [==============================] - 1s 21us/step - loss: 1.4248 - acc: 0.4966\n",
            "Epoch 27/30\n",
            "50000/50000 [==============================] - 1s 20us/step - loss: 1.4180 - acc: 0.5018\n",
            "Epoch 28/30\n",
            "50000/50000 [==============================] - 1s 21us/step - loss: 1.4023 - acc: 0.5073\n",
            "Epoch 29/30\n",
            "50000/50000 [==============================] - 1s 20us/step - loss: 1.4055 - acc: 0.5050\n",
            "Epoch 30/30\n",
            "50000/50000 [==============================] - 1s 20us/step - loss: 1.3873 - acc: 0.5099\n"
          ],
          "name": "stdout"
        },
        {
          "output_type": "execute_result",
          "data": {
            "text/plain": [
              "<keras.callbacks.History at 0x7f3beae625c0>"
            ]
          },
          "metadata": {
            "tags": []
          },
          "execution_count": 10
        }
      ]
    },
    {
      "metadata": {
        "id": "04d4iV6hcEpC",
        "colab_type": "code",
        "outputId": "d57af211-1c2c-4344-836f-05fb479f9562",
        "colab": {
          "base_uri": "https://localhost:8080/",
          "height": 34
        }
      },
      "cell_type": "code",
      "source": [
        "test_loss, test_acc = network.evaluate(x_test, y_test)"
      ],
      "execution_count": 11,
      "outputs": [
        {
          "output_type": "stream",
          "text": [
            "10000/10000 [==============================] - 1s 57us/step\n"
          ],
          "name": "stdout"
        }
      ]
    },
    {
      "metadata": {
        "id": "cVb6J33icIe3",
        "colab_type": "code",
        "outputId": "0450c3b9-7fc4-4c43-b56d-b05b2bfce90e",
        "colab": {
          "base_uri": "https://localhost:8080/",
          "height": 34
        }
      },
      "cell_type": "code",
      "source": [
        "print('test_acc:', test_acc)"
      ],
      "execution_count": 12,
      "outputs": [
        {
          "output_type": "stream",
          "text": [
            "test_acc: 0.4393\n"
          ],
          "name": "stdout"
        }
      ]
    }
  ]
}
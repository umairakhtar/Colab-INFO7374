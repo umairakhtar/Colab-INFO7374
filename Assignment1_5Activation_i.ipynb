{
  "nbformat": 4,
  "nbformat_minor": 0,
  "metadata": {
    "colab": {
      "name": "Assignment1-5Activation-i.ipynb",
      "version": "0.3.2",
      "provenance": [],
      "include_colab_link": true
    },
    "kernelspec": {
      "name": "python3",
      "display_name": "Python 3"
    },
    "accelerator": "GPU"
  },
  "cells": [
    {
      "cell_type": "markdown",
      "metadata": {
        "id": "view-in-github",
        "colab_type": "text"
      },
      "source": [
        "<a href=\"https://colab.research.google.com/github/umairakhtar/Colab-INFO7374/blob/master/Assignment1_5Activation_i.ipynb\" target=\"_parent\"><img src=\"https://colab.research.google.com/assets/colab-badge.svg\" alt=\"Open In Colab\"/></a>"
      ]
    },
    {
      "metadata": {
        "id": "kLpotzHmYAfy",
        "colab_type": "code",
        "colab": {}
      },
      "cell_type": "code",
      "source": [
        "from keras.datasets import cifar10"
      ],
      "execution_count": 0,
      "outputs": []
    },
    {
      "metadata": {
        "id": "we_mML7zlMQi",
        "colab_type": "code",
        "colab": {}
      },
      "cell_type": "code",
      "source": [
        "(x_train, y_train), (x_test, y_test) = cifar10.load_data()"
      ],
      "execution_count": 0,
      "outputs": []
    },
    {
      "metadata": {
        "id": "cO55-ftSzfjW",
        "colab_type": "code",
        "colab": {}
      },
      "cell_type": "code",
      "source": [
        "from keras import models\n",
        "from keras import layers"
      ],
      "execution_count": 0,
      "outputs": []
    },
    {
      "metadata": {
        "id": "Lp3jKLuit6cW",
        "colab_type": "code",
        "colab": {}
      },
      "cell_type": "code",
      "source": [
        "network = models.Sequential()"
      ],
      "execution_count": 0,
      "outputs": []
    },
    {
      "metadata": {
        "id": "o1evkTpVnTl6",
        "colab_type": "code",
        "colab": {}
      },
      "cell_type": "code",
      "source": [
        "network.add(layers.Dense(512, activation='tanh', input_shape=(32 * 32 * 3,)))"
      ],
      "execution_count": 0,
      "outputs": []
    },
    {
      "metadata": {
        "id": "F9CDYqgUnh02",
        "colab_type": "code",
        "colab": {}
      },
      "cell_type": "code",
      "source": [
        "network.add(layers.Dense(10, activation='softmax'))"
      ],
      "execution_count": 0,
      "outputs": []
    },
    {
      "metadata": {
        "id": "H92VYZjCnlmW",
        "colab_type": "code",
        "colab": {}
      },
      "cell_type": "code",
      "source": [
        "network.compile(optimizer='rmsprop',\n",
        "loss='categorical_crossentropy',\n",
        "metrics=['accuracy'])"
      ],
      "execution_count": 0,
      "outputs": []
    },
    {
      "metadata": {
        "id": "6g9b7z6W0Bh5",
        "colab_type": "code",
        "colab": {}
      },
      "cell_type": "code",
      "source": [
        "x_train = x_train.reshape((50000, 32 * 32 *3))\n",
        "x_train = x_train.astype('float32') / 255\n",
        "x_test = x_test.reshape((10000, 32 * 32 *3))\n",
        "x_test = x_test.astype('float32') / 255"
      ],
      "execution_count": 0,
      "outputs": []
    },
    {
      "metadata": {
        "id": "PxjYJL_qg2V1",
        "colab_type": "code",
        "colab": {}
      },
      "cell_type": "code",
      "source": [
        "from keras.utils import to_categorical\n",
        "y_train = to_categorical(y_train)\n",
        "y_test = to_categorical(y_test)"
      ],
      "execution_count": 0,
      "outputs": []
    },
    {
      "metadata": {
        "id": "xWiT63O00oV8",
        "colab_type": "code",
        "outputId": "e8ce5ef4-4ba2-4360-cef7-a9344f8acd55",
        "colab": {
          "base_uri": "https://localhost:8080/",
          "height": 1054
        }
      },
      "cell_type": "code",
      "source": [
        "network.fit(x_train, y_train, epochs=30, batch_size=128)"
      ],
      "execution_count": 0,
      "outputs": [
        {
          "output_type": "stream",
          "text": [
            "Epoch 1/30\n",
            "50000/50000 [==============================] - 3s 66us/step - loss: 2.3825 - acc: 0.2401\n",
            "Epoch 2/30\n",
            "50000/50000 [==============================] - 3s 51us/step - loss: 1.9007 - acc: 0.3167\n",
            "Epoch 3/30\n",
            "50000/50000 [==============================] - 3s 50us/step - loss: 1.8223 - acc: 0.3492\n",
            "Epoch 4/30\n",
            "50000/50000 [==============================] - 3s 51us/step - loss: 1.7633 - acc: 0.3711\n",
            "Epoch 5/30\n",
            "50000/50000 [==============================] - 3s 51us/step - loss: 1.7214 - acc: 0.3843\n",
            "Epoch 6/30\n",
            "50000/50000 [==============================] - 3s 51us/step - loss: 1.6946 - acc: 0.3943\n",
            "Epoch 7/30\n",
            "50000/50000 [==============================] - 3s 51us/step - loss: 1.6672 - acc: 0.4057\n",
            "Epoch 8/30\n",
            "50000/50000 [==============================] - 3s 50us/step - loss: 1.6466 - acc: 0.4110\n",
            "Epoch 9/30\n",
            "50000/50000 [==============================] - 3s 51us/step - loss: 1.6273 - acc: 0.4159\n",
            "Epoch 10/30\n",
            "50000/50000 [==============================] - 3s 51us/step - loss: 1.6096 - acc: 0.4235\n",
            "Epoch 11/30\n",
            "50000/50000 [==============================] - 3s 51us/step - loss: 1.6021 - acc: 0.4291\n",
            "Epoch 12/30\n",
            "50000/50000 [==============================] - 3s 51us/step - loss: 1.5875 - acc: 0.4322\n",
            "Epoch 13/30\n",
            "50000/50000 [==============================] - 3s 51us/step - loss: 1.5683 - acc: 0.4423\n",
            "Epoch 14/30\n",
            "50000/50000 [==============================] - 3s 51us/step - loss: 1.5620 - acc: 0.4421\n",
            "Epoch 15/30\n",
            "50000/50000 [==============================] - 3s 51us/step - loss: 1.5542 - acc: 0.4444\n",
            "Epoch 16/30\n",
            "50000/50000 [==============================] - 3s 51us/step - loss: 1.5425 - acc: 0.4489\n",
            "Epoch 17/30\n",
            "50000/50000 [==============================] - 3s 51us/step - loss: 1.5348 - acc: 0.4557\n",
            "Epoch 18/30\n",
            "50000/50000 [==============================] - 3s 51us/step - loss: 1.5207 - acc: 0.4593\n",
            "Epoch 19/30\n",
            "50000/50000 [==============================] - 3s 51us/step - loss: 1.5123 - acc: 0.4621\n",
            "Epoch 20/30\n",
            "50000/50000 [==============================] - 3s 50us/step - loss: 1.5084 - acc: 0.4604\n",
            "Epoch 21/30\n",
            "50000/50000 [==============================] - 3s 50us/step - loss: 1.4949 - acc: 0.4660\n",
            "Epoch 22/30\n",
            "50000/50000 [==============================] - 3s 50us/step - loss: 1.4853 - acc: 0.4709\n",
            "Epoch 23/30\n",
            "50000/50000 [==============================] - 3s 50us/step - loss: 1.4783 - acc: 0.4742\n",
            "Epoch 24/30\n",
            "50000/50000 [==============================] - 3s 51us/step - loss: 1.4671 - acc: 0.4763\n",
            "Epoch 25/30\n",
            "50000/50000 [==============================] - 3s 51us/step - loss: 1.4614 - acc: 0.4794\n",
            "Epoch 26/30\n",
            "50000/50000 [==============================] - 3s 50us/step - loss: 1.4621 - acc: 0.4788\n",
            "Epoch 27/30\n",
            "50000/50000 [==============================] - 3s 51us/step - loss: 1.4500 - acc: 0.4824\n",
            "Epoch 28/30\n",
            "50000/50000 [==============================] - 3s 50us/step - loss: 1.4453 - acc: 0.4851\n",
            "Epoch 29/30\n",
            "50000/50000 [==============================] - 3s 50us/step - loss: 1.4376 - acc: 0.4882\n",
            "Epoch 30/30\n",
            "50000/50000 [==============================] - 3s 51us/step - loss: 1.4304 - acc: 0.4875\n"
          ],
          "name": "stdout"
        },
        {
          "output_type": "execute_result",
          "data": {
            "text/plain": [
              "<keras.callbacks.History at 0x7f80da2e7940>"
            ]
          },
          "metadata": {
            "tags": []
          },
          "execution_count": 20
        }
      ]
    },
    {
      "metadata": {
        "id": "eCw5S5OU0P4q",
        "colab_type": "code",
        "outputId": "73b8242a-5ad6-4727-b4e1-e6e7ae801cc9",
        "colab": {
          "base_uri": "https://localhost:8080/",
          "height": 34
        }
      },
      "cell_type": "code",
      "source": [
        "test_loss, test_acc = network.evaluate(x_test, y_test)"
      ],
      "execution_count": 0,
      "outputs": [
        {
          "output_type": "stream",
          "text": [
            "10000/10000 [==============================] - 1s 63us/step\n"
          ],
          "name": "stdout"
        }
      ]
    },
    {
      "metadata": {
        "id": "E844W8zj601Y",
        "colab_type": "code",
        "outputId": "eae0e6b6-5b11-4e8a-a55a-798c681d9860",
        "colab": {
          "base_uri": "https://localhost:8080/",
          "height": 34
        }
      },
      "cell_type": "code",
      "source": [
        "print('test_acc:', test_acc)"
      ],
      "execution_count": 0,
      "outputs": [
        {
          "output_type": "stream",
          "text": [
            "test_acc: 0.4489\n"
          ],
          "name": "stdout"
        }
      ]
    }
  ]
}